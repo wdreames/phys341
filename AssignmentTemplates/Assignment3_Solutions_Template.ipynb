{
 "cells": [
  {
   "cell_type": "markdown",
   "metadata": {},
   "source": [
    "# Assignment 3 Solutions"
   ]
  },
  {
   "cell_type": "markdown",
   "metadata": {},
   "source": [
    "# Question 1\n",
    "\n",
    "Determine the values of the following quantities. (Give answers accurate to 2 decimal places.)\n",
    "\n",
    "(a) t(.10,19)   \n",
    "\n",
    "(b) t(.05,19)      \n",
    "\n",
    "(c) t(.05,29)   \n",
    "\n",
    "(d) t(.05,50)    \n",
    "\n",
    "(e) t(.005,50)   "
   ]
  },
  {
   "cell_type": "markdown",
   "metadata": {},
   "source": [
    "The t-distribution that WebAssign uses is known as a \"one-tailed t-distribution\". Thus, the specified probability ($\\alpha$) lies in a single tail, ABOVE the upper critical t-value.  The \"answer\" that WebAssign is looking for here is the upper critical t-value (which is positive)."
   ]
  },
  {
   "cell_type": "code",
   "execution_count": 1,
   "metadata": {},
   "outputs": [],
   "source": [
    "import scipy.stats as stats\n",
    "import numpy as np"
   ]
  },
  {
   "cell_type": "markdown",
   "metadata": {},
   "source": [
    "# Question 2\n",
    "\n",
    "Determine the t critical value(s) that will capture the desired t-curve area in each of the following cases. (Assume that central areas are centered at t = 0. Round your answers to three decimal places.)\n",
    "\n",
    "(a) Central area = 0.95, df = 10\n",
    "\n",
    "(b) Central area = 0.95, df = 30 \n",
    "\n",
    "(c) Central area = 0.99, df = 30\n",
    "\n",
    "(d) Central area = 0.99, df = 60\n",
    "\n",
    "(e) Upper-tail area = 0.01, df = 20\n",
    "\n",
    "(f) Lower-tail area = 0.025, df = 5"
   ]
  },
  {
   "cell_type": "code",
   "execution_count": null,
   "metadata": {},
   "outputs": [],
   "source": []
  },
  {
   "cell_type": "markdown",
   "metadata": {},
   "source": [
    "# Question 3\n",
    "\n",
    "Determine the t critical value for a two-sided confidence interval in each of the following situations. (Give answers accurate to 3 decimal places.)\n",
    "\n",
    "(a) Confidence level = 95%, df = 17\n",
    "\n",
    "(b) Confidence level = 95%, df = 18\n",
    "\n",
    "(c) Confidence level = 99%, df = 18  \n",
    "\n",
    "(d) Confidence level = 99%, n = 3  \n",
    "\n",
    "(e) Confidence level = 98%, df = 38  \n",
    "\n",
    "(f) Confidence level = 99%, n = 61"
   ]
  },
  {
   "cell_type": "code",
   "execution_count": null,
   "metadata": {},
   "outputs": [],
   "source": []
  },
  {
   "cell_type": "markdown",
   "metadata": {},
   "source": [
    "# Question 4\n",
    "\n",
    "A random sample of n = 8 E-glass fiber test specimens of a certain type yielded a sample mean interfacial shear yield stress of 32.6 and a sample standard deviation of 3.3. Assuming that interfacial shear yield stress is normally distributed, compute a 95% CI for true average stress. (Give answer accurate to 2 decimal places.) "
   ]
  },
  {
   "cell_type": "code",
   "execution_count": null,
   "metadata": {},
   "outputs": [],
   "source": []
  },
  {
   "cell_type": "markdown",
   "metadata": {},
   "source": [
    "# Question 5\n",
    "\n",
    "A sample of 14 joint specimens of a particular type gave a sample mean proportional limit stress of 8.06 MPa and a sample standard deviation of 0.66 MPa.\n",
    "\n",
    "(a) Calculate a 95% lower confidence bound for the true average proportional limit stress of all such joints. (Give answer accurate to 2 decimal places.)\n",
    "   \n",
    "\n",
    "(b) Calculate a 95% lower prediction bound for proportional limit stress of a single joint of this type. (Give answer accurate to 2 decimal places.)\n",
    "   "
   ]
  },
  {
   "cell_type": "code",
   "execution_count": null,
   "metadata": {},
   "outputs": [],
   "source": []
  },
  {
   "cell_type": "markdown",
   "metadata": {},
   "source": [
    "# Question 6\n",
    "\n",
    "Silicone implant augmentation rhinoplasty is used to correct congenital nose deformities. The success of the procedure depends on various biomechanical properties of the human nasal periosteum and fascia. An article reported that for a sample of 12 (newly deceased) adults, the mean failure strain (%) was 23.5, and the standard deviation was 4.3.\n",
    "\n",
    "(a) Assuming a normal distribution for failure strain, estimate true average strain in a way that conveys information about precision and reliability. (Use a 95% confidence interval. Give answer accurate to 1 decimal place.)\n",
    "\n",
    "\n",
    "(b) Predict the strain for a single adult in a way that conveys information about precision and reliability. (Use a 95% prediction interval. Give answer accurate to 1 decimal place.)\n",
    "\n",
    "How does the prediction compare to the estimate calculated in part (a)?"
   ]
  },
  {
   "cell_type": "code",
   "execution_count": null,
   "metadata": {},
   "outputs": [],
   "source": []
  },
  {
   "cell_type": "markdown",
   "metadata": {},
   "source": [
    "# Question 7\n",
    "Determine the following.\n",
    "(a) The 97.5th percentile of the chi-squared distribution with v = 5. (Give answer accurate to 2 decimal places.)\n",
    "\n",
    "(b) The 1th percentile of the chi-squared distribution with v = 5. (Give answer accurate to 2 decimal places.) \n",
    "\n",
    "(c) P(13.85 <= χ2 <= 42.98), where χ2 is a chi-squared rv with v = 24. (Give answer accurate to 3 decimal places.) \n",
    "\n",
    "(d) P(χ2 < 14.611 or χ2 > 44.314), where χ2 is a chi-squared rv with v = 25. (Give answer accurate to 3 decimal places.)"
   ]
  },
  {
   "cell_type": "code",
   "execution_count": null,
   "metadata": {},
   "outputs": [],
   "source": []
  },
  {
   "cell_type": "markdown",
   "metadata": {},
   "source": [
    "# Question 8\n",
    "\n",
    "The amount of lateral expansion (mils) was determined for a sample of n = 9 pulsed-power gas metal arc welds used in LNG ship containment tanks. The resulting sample standard deviation was s = 2.86 mils. Assuming normality, derive a 95% CI for σ2 and for σ. (Round your answers to two decimal places.) \n",
    "\n",
    "\n",
    "Recall the definition of $\\chi^2 = \\frac{(n-1)s^2}{\\sigma^2}$. Therefore, to find the CI for $\\sigma^2$, we can use that:\n",
    "\n",
    "$\\sigma^2 = \\frac{(n-1)s^2}{\\chi^2}$\n",
    "\n",
    "and thus use the confidence interval for $\\chi^2$."
   ]
  },
  {
   "cell_type": "code",
   "execution_count": null,
   "metadata": {},
   "outputs": [],
   "source": []
  },
  {
   "cell_type": "markdown",
   "metadata": {},
   "source": [
    "# Question 9\n",
    "\n",
    "The following observations were made on fracture toughness of a base plate of 18% nickel maraging steel (in ksi √in., given in increasing order)].\n",
    "\n",
    "68.0\t71.9\t72.6\t73.1\t73.3\t73.5\t75.5\t75.7\t75.8\t76.1\t76.2\n",
    "\n",
    "76.2\t77.0\t77.9\t78.1\t79.6\t79.6\t79.9\t80.1\t82.2\t83.7\t90.3\n",
    "\n",
    "Calculate a 99% CI for the standard deviation of the fracture toughness distribution. (Give answer accurate to 2 decimal places.) "
   ]
  },
  {
   "cell_type": "code",
   "execution_count": null,
   "metadata": {},
   "outputs": [],
   "source": []
  },
  {
   "cell_type": "code",
   "execution_count": null,
   "metadata": {},
   "outputs": [],
   "source": []
  },
  {
   "cell_type": "code",
   "execution_count": null,
   "metadata": {},
   "outputs": [],
   "source": []
  },
  {
   "cell_type": "markdown",
   "metadata": {},
   "source": [
    "# Question 10\n",
    "\n",
    "On the basis of extensive tests, the yield point of a particular type of mild steel-reinforcing bar is known to be normally distributed with σ = 100. The composition of the bar has been slightly modified, but the modification is not believed to have affected either the normality or the value of σ.\n",
    "\n",
    "(a) Assuming this to be the case, if a sample of 25 modified bars resulted in a sample average yield point of 8312 lb, compute a 90% CI for the true average yield point of the modified bar. (Round to the nearest integer.)\n",
    "\n",
    "(b) How would you modify the interval in part (a) to obtain a confidence level of 92%? (Give answer accurate to 2 decimal places.)"
   ]
  },
  {
   "cell_type": "code",
   "execution_count": null,
   "metadata": {},
   "outputs": [],
   "source": []
  },
  {
   "cell_type": "code",
   "execution_count": null,
   "metadata": {},
   "outputs": [],
   "source": []
  }
 ],
 "metadata": {
  "kernelspec": {
   "display_name": "Python 3",
   "language": "python",
   "name": "python3"
  },
  "language_info": {
   "codemirror_mode": {
    "name": "ipython",
    "version": 3
   },
   "file_extension": ".py",
   "mimetype": "text/x-python",
   "name": "python",
   "nbconvert_exporter": "python",
   "pygments_lexer": "ipython3",
   "version": "3.6.8"
  }
 },
 "nbformat": 4,
 "nbformat_minor": 2
}
