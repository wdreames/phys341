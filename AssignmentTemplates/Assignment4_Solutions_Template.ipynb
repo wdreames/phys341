{
 "cells": [
  {
   "cell_type": "markdown",
   "metadata": {},
   "source": [
    "# Assignment 4 Solutions\n",
    "\n",
    "In performing a two-sample t-test, there are two distinct situations to consider:\n",
    "\n",
    "1.  The variances of the two samples are equal to one another (i.e. we are sampling from the same population).\n",
    "2.  The variances of the two samples are not equal to one another (i.e. we are sampling from two different populations).\n",
    "\n",
    "For this assignment, the textbook assumes always that situation 2 is the case!!!!!\n",
    "\n",
    "In these instances, we calculate the standard error in the mean (SEM) and the combined number of degrees of freedom as follows:\n",
    "\n",
    "$SEM = \\sqrt{\\frac{s_1^2}{n_1} + \\frac{s_2^2}{n_2}}$\n",
    "\n",
    "$df = \\frac{ \\left( \\frac{s_1^2}{n_1} + \\frac{s_2^2}{n_2}    \\right)^2 }{\\frac{ \\left(\\frac{s_1^2}{n_1}\\right)^2   }{n_1-1} + \\frac{ \\left(\\frac{s_2^2}{n_2}\\right)^2   }{n_2-1}}$"
   ]
  },
  {
   "cell_type": "code",
   "execution_count": 1,
   "metadata": {},
   "outputs": [],
   "source": [
    "import numpy as np\n",
    "import scipy.stats as stats\n",
    "import matplotlib.pyplot as plt\n",
    "\n",
    "def sem_neq(n1,n2,s1,s2):\n",
    "    sm = np.sqrt(s1**2/n1+s2**2/n2)\n",
    "    return float(sm)\n",
    "\n",
    "def ndof_neq(n1,n2,s1,s2):\n",
    "    v1 = s1**2/n1\n",
    "    v2 = s2**2/n2\n",
    "    dof = (v1+v2)**2/(v1**2/(n1-1)+v2**2/(n2-1))\n",
    "    return int(dof)\n",
    "\n",
    "def sem_eq(n1,n2,s1,s2):\n",
    "    sp = np.sqrt(((n1-1)*s1**2+(n2-1)*s2**2)/(n1+n2-2))\n",
    "    sm = sp*np.sqrt(1.0/n1+1.0/n2)\n",
    "    return float(sm)\n",
    "\n",
    "def ndof_eq(n1,n2,s1,s2):\n",
    "    dof = n2+n1-2\n",
    "    return int(dof)"
   ]
  },
  {
   "cell_type": "markdown",
   "metadata": {},
   "source": [
    "# Question 1"
   ]
  },
  {
   "cell_type": "markdown",
   "metadata": {},
   "source": [
    "Determine the number of degrees of freedom for the two-sample t test or CI in each of the following situations. \n",
    "(Exact integer answers required.)\n",
    "\n",
    "(a) m = 10, n = 13, s1 = 4.8, s2 = 5.7\n",
    "\n",
    "\n",
    "(b) m = 14, n = 23, s1 = 5.1, s2 = 5.8\n",
    "\n",
    "\n",
    "(c) m = 6, n = 7, s1 = 2.3, s2 = 6.2\n",
    "\n",
    "\n",
    "(d) m = 10, n = 23, s1 = 4.1, s2 = 6.6"
   ]
  },
  {
   "cell_type": "code",
   "execution_count": null,
   "metadata": {},
   "outputs": [],
   "source": []
  },
  {
   "cell_type": "code",
   "execution_count": null,
   "metadata": {},
   "outputs": [],
   "source": []
  },
  {
   "cell_type": "markdown",
   "metadata": {},
   "source": [
    "# Question 2\n",
    "\n",
    "Let μ1 and μ2 denote true average densities for two different types of brick. Assuming normality of the two density distributions, test Ho: μ1 – μ2 = 0 versus Ha: μ1 – μ2 ≠ 0 using the following data: m = 6, x = 22.27, s1 = 0.156, n = 5, y = 20.22, and s2 = 0.234. (Use α = 0.05. Give ν to exact integer and t to 2 decimal places.)"
   ]
  },
  {
   "cell_type": "code",
   "execution_count": null,
   "metadata": {},
   "outputs": [],
   "source": []
  },
  {
   "cell_type": "markdown",
   "metadata": {},
   "source": [
    "# Question 3\n",
    "\n",
    "Quantitative noninvasive techniques are needed for routinely assessing symptoms of peripheral neuropathies, such as carpal tunnel syndrome (CTS). An article reported on a test that involved sensing a tiny gap in an otherwise smooth surface by probing with a finger; this functionally resembles many work-related tactile activities, such as detecting scratches or surface defects. When finger probing was not allowed, the sample average gap detection threshold for m = 8 normal subjects was 1.8 mm, and the sample standard deviation was 0.49; for n = 12 CTS subjects, the sample mean and sample standard deviation were 2.52 and 0.85, respectively. Does this data suggest that the true average gap detection threshold for CTS subjects exceeds that for normal subjects? State and test the relevant hypotheses using a significance level of .01. (Give answers accurate to 2 decimal places.)"
   ]
  },
  {
   "cell_type": "code",
   "execution_count": 2,
   "metadata": {},
   "outputs": [
    {
     "ename": "NameError",
     "evalue": "name 'pvalue' is not defined",
     "output_type": "error",
     "traceback": [
      "\u001b[0;31m---------------------------------------------------------------------------\u001b[0m",
      "\u001b[0;31mNameError\u001b[0m                                 Traceback (most recent call last)",
      "\u001b[0;32m<ipython-input-2-ed7a5622789f>\u001b[0m in \u001b[0;36m<module>\u001b[0;34m\u001b[0m\n\u001b[0;32m----> 1\u001b[0;31m \u001b[0;32mif\u001b[0m \u001b[0;34m(\u001b[0m\u001b[0mpvalue\u001b[0m \u001b[0;34m<\u001b[0m \u001b[0malpha\u001b[0m\u001b[0;34m)\u001b[0m\u001b[0;34m:\u001b[0m\u001b[0;34m\u001b[0m\u001b[0;34m\u001b[0m\u001b[0m\n\u001b[0m\u001b[1;32m      2\u001b[0m     \u001b[0mprint\u001b[0m \u001b[0;34m(\u001b[0m\u001b[0;34m\"Reject the null hypothesis ... P-value is less than alpha\"\u001b[0m\u001b[0;34m)\u001b[0m\u001b[0;34m\u001b[0m\u001b[0;34m\u001b[0m\u001b[0m\n\u001b[1;32m      3\u001b[0m \u001b[0;32melse\u001b[0m\u001b[0;34m:\u001b[0m\u001b[0;34m\u001b[0m\u001b[0;34m\u001b[0m\u001b[0m\n\u001b[1;32m      4\u001b[0m     \u001b[0mprint\u001b[0m \u001b[0;34m(\u001b[0m\u001b[0;34m\"Fail to reject the null hypothesis ... P-value is greater than alpha\"\u001b[0m\u001b[0;34m)\u001b[0m\u001b[0;34m\u001b[0m\u001b[0;34m\u001b[0m\u001b[0m\n",
      "\u001b[0;31mNameError\u001b[0m: name 'pvalue' is not defined"
     ]
    }
   ],
   "source": [
    "if (pvalue < alpha):\n",
    "    print (\"Reject the null hypothesis ... P-value is less than alpha\")\n",
    "else:\n",
    "    print (\"Fail to reject the null hypothesis ... P-value is greater than alpha\")"
   ]
  },
  {
   "cell_type": "markdown",
   "metadata": {},
   "source": [
    "# Question 4\n",
    "\n",
    "The slant shear test is widely accepted for evaluating the bond of resinous repair materials to concrete; it utilizes cylinder specimens made of two identical halves bonded at 30°. For 12 specimens prepared using wire-brushing, the sample mean shear strength (N/mm2) and sample standard deviation were 18.23 and 1.48, respectively, whereas for 12 hand-chiseled specimens, the corresponding values were 23.47 and 4.01. Does the true average strength appear to be different for the two methods of surface preparation? Test the relevant hypotheses using a significance level of .05. (Give ν to exact integer and t to 2 decimal places.)"
   ]
  },
  {
   "cell_type": "code",
   "execution_count": null,
   "metadata": {},
   "outputs": [],
   "source": []
  },
  {
   "cell_type": "code",
   "execution_count": null,
   "metadata": {},
   "outputs": [],
   "source": []
  },
  {
   "cell_type": "markdown",
   "metadata": {},
   "source": [
    "# Question 5\n",
    "\n",
    "Consider the accompanying data on breaking load (kg/25 mm width) for various fabrics in both an unabraded condition and an abraded condition. Use the paired t test to test Ho: μD = 0 versus Ha: μD > 0 at significance level .01. (Give answers accurate to 2 decimal places.)"
   ]
  },
  {
   "cell_type": "code",
   "execution_count": null,
   "metadata": {},
   "outputs": [],
   "source": []
  },
  {
   "cell_type": "markdown",
   "metadata": {},
   "source": [
    "# Question 6\n",
    "\n",
    "Data on the modulus of elasticity obtained 1 minute after loading in a certain configuration and 4 weeks after loading for the same lumber specimens is presented here.\n",
    "\n",
    "Calculate and interpret an upper confidence bound for the true average difference between 1-minute modulus and 4-week modulus; first check the plausibility of any necessary assumptions. (Use α = 0.05. Round your answer to the nearest whole number.)\n",
    "\n",
    "The data for this question is stored in a local file called A4Q6.csv"
   ]
  },
  {
   "cell_type": "code",
   "execution_count": null,
   "metadata": {},
   "outputs": [],
   "source": []
  },
  {
   "cell_type": "code",
   "execution_count": null,
   "metadata": {},
   "outputs": [],
   "source": []
  },
  {
   "cell_type": "markdown",
   "metadata": {},
   "source": [
    "# Question 7\n",
    "\n",
    "Give as much information as you can about the P-value of the F test in each of the following situations. (Give answers accurate to 3 decimal places.)\n",
    "\n",
    "(a) ν1 = 5, ν2 = 10, upper-tailed test, f = 2.52\n",
    "\n",
    "(b) ν1 = 5, ν2 = 10, upper-tailed test, f = 5.64 \n",
    "\n",
    "(c) ν1 = 5, ν2 = 10, two-tailed test, f = 5.64 \n",
    "\n",
    "(d) ν1 = 5, ν2 = 10, lower-tailed test, f = 5.64\n",
    "\n",
    "(e) ν1 = 40, ν2 = 20, upper-tailed test, f = 3.86"
   ]
  },
  {
   "cell_type": "code",
   "execution_count": null,
   "metadata": {},
   "outputs": [],
   "source": [
    "def fpvalue(fvalue,dof1,dof2,test):\n",
    "    fdist = stats.f(dof1,dof2)\n",
    "\n",
    "    if (fvalue > 1):\n",
    "        if test == \"upper\":\n",
    "            pvalue = (1-fdist.cdf(fvalue))\n",
    "        if test == \"two\":\n",
    "            pvalue = 2.0*(1-fdist.cdf(fvalue))\n",
    "        if test == \"lower\":\n",
    "            pvalue = fdist.cdf(fvalue)\n",
    "    else:\n",
    "        if test == \"upper\":\n",
    "            pvalue = fdist.cdf(fvalue)\n",
    "        if test == \"two\":\n",
    "            pvalue = 2.0*fdist.cdf(fvalue)\n",
    "        if test == \"lower\":\n",
    "            pvalue = (1-fdist.cdf(fvalue))\n",
    "            \n",
    "    print (\"Pvalue = %0.3f\" % (pvalue))"
   ]
  },
  {
   "cell_type": "code",
   "execution_count": null,
   "metadata": {},
   "outputs": [],
   "source": []
  },
  {
   "cell_type": "markdown",
   "metadata": {},
   "source": [
    "# Question 8\n",
    "\n",
    "As the population ages, there is increasing concern about accident-related injuries to the elderly. An article reported on an experiment in which the maximum lean angle—the furthest a subject is able to lean and still recover in one step—was determined for both a sample of younger females (21-29 years) and a sample of older females (67-81 years). The following observations are consistent with summary data given in the article.\n",
    "\n",
    "YF:\t32,\t29,\t31,\t26,\t29,\t36,\t29,\t27,\t35,\t26\n",
    "\n",
    "OF:\t17,\t13,\t21,\t22,\t22\n",
    "\n",
    "Carry out a test at significance level .10 to see whether the population standard deviations for the two age groups are different (normal probability plots support the necessary normality assumption). (Give answer accurate to 2 decimal places.)"
   ]
  },
  {
   "cell_type": "code",
   "execution_count": null,
   "metadata": {},
   "outputs": [],
   "source": []
  },
  {
   "cell_type": "code",
   "execution_count": null,
   "metadata": {},
   "outputs": [],
   "source": []
  },
  {
   "cell_type": "code",
   "execution_count": null,
   "metadata": {},
   "outputs": [],
   "source": []
  }
 ],
 "metadata": {
  "kernelspec": {
   "display_name": "Python 3",
   "language": "python",
   "name": "python3"
  },
  "language_info": {
   "codemirror_mode": {
    "name": "ipython",
    "version": 3
   },
   "file_extension": ".py",
   "mimetype": "text/x-python",
   "name": "python",
   "nbconvert_exporter": "python",
   "pygments_lexer": "ipython3",
   "version": "3.6.8"
  }
 },
 "nbformat": 4,
 "nbformat_minor": 2
}
