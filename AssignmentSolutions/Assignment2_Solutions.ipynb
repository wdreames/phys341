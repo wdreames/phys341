{
 "cells": [
  {
   "cell_type": "markdown",
   "metadata": {},
   "source": [
    "# Assignment 2 Solutions"
   ]
  },
  {
   "cell_type": "markdown",
   "metadata": {},
   "source": [
    "# Question 1\n",
    "\n",
    "Let Z be a standard normal random variable and calculate the following probabilities, drawing pictures whenever appropriate.\n",
    "\n",
    "(a) P(0 <= Z <= 2.40)\n",
    "\n",
    "(b) P(0 <= Z <= 1)\n",
    "\n",
    "(c) P(-2.90 <= Z <= 0)\n",
    "\n",
    "(d) P(-2.90 <= Z <= 2.9)\n",
    "\n",
    "(e) P(Z <= 1.14)\n",
    "\n",
    "(f) P(-1.63 <= Z)  \n",
    "\n",
    "(g) P(-1.9 <= Z <= 2.00)\n",
    "\n",
    "(h) P(1.14 <= Z <= 2.50)\n",
    "\n",
    "(i) P(1.9 <= Z)\n",
    "\n",
    "(j) P( |Z| <= 2.50)"
   ]
  },
  {
   "cell_type": "code",
   "execution_count": 2,
   "metadata": {},
   "outputs": [
    {
     "name": "stdout",
     "output_type": "stream",
     "text": [
      "a: 0.4918\n",
      "b: 0.3413\n",
      "c: 0.4981\n",
      "d: 0.9963\n",
      "e: 0.8729\n",
      "f: 0.9484\n",
      "g: 0.9485\n",
      "h: 0.1209\n",
      "i: 0.0287\n",
      "j: 0.9876\n"
     ]
    }
   ],
   "source": [
    "import scipy.stats as stats\n",
    "\n",
    "print (\"a: %.4f\"%(stats.norm.cdf(2.4)-stats.norm.cdf(0)))\n",
    "print (\"b: %.4f\"%(stats.norm.cdf(1.0)-stats.norm.cdf(0)))\n",
    "print (\"c: %.4f\"%(stats.norm.cdf(0)-stats.norm.cdf(-2.9)))\n",
    "print (\"d: %.4f\"%(stats.norm.cdf(2.9)-stats.norm.cdf(-2.9)))\n",
    "print (\"e: %.4f\"%(stats.norm.cdf(1.14)))\n",
    "print (\"f: %.4f\"%(1-stats.norm.cdf(-1.63)))\n",
    "print (\"g: %.4f\"%(stats.norm.cdf(2.00)-stats.norm.cdf(-1.9)))\n",
    "print (\"h: %.4f\"%(stats.norm.cdf(2.5)-stats.norm.cdf(1.14)))\n",
    "print (\"i: %.4f\"%(1-stats.norm.cdf(1.9)))\n",
    "print (\"j: %.4f\"%(stats.norm.cdf(2.50)-stats.norm.cdf(-2.50)))"
   ]
  },
  {
   "cell_type": "markdown",
   "metadata": {},
   "source": [
    "# Question 2\n",
    "\n",
    "Let Z be a standard normal random variable. In each case, determine the value of the constant c that makes the probability statement correct.\n",
    "\n",
    "(a) Phi(c) = 0.9826 \n",
    "\n",
    "(b) P(0 <= Z <= c) = 0.2995\n",
    "\n",
    "(c) P(c <= Z) = 0.1251\n",
    "\n",
    "(d) P(-c <= Z <= c) = 0.6476\n",
    "\n",
    "(e) P(c <= |Z|) = 0.0139"
   ]
  },
  {
   "cell_type": "code",
   "execution_count": 4,
   "metadata": {},
   "outputs": [
    {
     "name": "stdout",
     "output_type": "stream",
     "text": [
      "a: 2.11\n",
      "b: 0.84\n",
      "c: 1.15\n",
      "d: 0.93\n",
      "e: 2.46\n"
     ]
    }
   ],
   "source": [
    "Z = stats.norm(0,1)\n",
    "\n",
    "print (\"a: %.2f\"%(Z.ppf(0.9826)))\n",
    "print (\"b: %.2f\"%(Z.ppf(0.5+0.2995)))\n",
    "print (\"c: %.2f\"%(Z.ppf(1-.1251)))\n",
    "print (\"d: %.2f\"%(-1.0*Z.ppf((1-.6476)/2)))\n",
    "print (\"e: %.2f\"%(Z.ppf(1-0.0139/2)))\n"
   ]
  },
  {
   "cell_type": "markdown",
   "metadata": {},
   "source": [
    "# Question 3\n",
    "\n",
    "If X is a normal rv with mean 80 and standard deviation 15, compute the following probabilities by standardizing.\n",
    "\n",
    "(a) P(X <= 110)\n",
    "\n",
    "(b) P(X <= 80)\n",
    "\n",
    "(c) P(57.5 <= X <= 110)\n",
    "\n",
    "(d) P(65 <= X)\n",
    "\n",
    "(e) P(87.5 <= X <= 102.5)\n",
    "\n",
    "(f) P( |X - 80| <= 15)\n",
    "  "
   ]
  },
  {
   "cell_type": "code",
   "execution_count": 19,
   "metadata": {},
   "outputs": [
    {
     "name": "stdout",
     "output_type": "stream",
     "text": [
      "a: 0.977\n",
      "b: 0.500\n",
      "c: 0.910\n",
      "d: 0.841\n",
      "e: 0.242\n",
      "f: 0.683\n"
     ]
    }
   ],
   "source": [
    "X = stats.norm(80,15)\n",
    "\n",
    "print (\"a: %.3f\"%(X.cdf(110)))\n",
    "print (\"b: %.3f\"%(X.cdf(80)))\n",
    "print (\"c: %.3f\"%(X.cdf(110) - X.cdf(57.5)))\n",
    "print (\"d: %.3f\"%(1-X.cdf(65)))\n",
    "print (\"e: %.3f\"%(X.cdf(102.5) - X.cdf(87.5)))\n",
    "print (\"f: %.3f\"%(X.cdf(95) - X.cdf(65)))"
   ]
  },
  {
   "cell_type": "markdown",
   "metadata": {},
   "source": [
    "# Question 4\n",
    "\n",
    "Suppose the force acting on a column that helps to support a building is normally distributed with mean 15.8 kips and standard deviation 1.33 kips. (Round your answers to four decimal places.)\n",
    "\n",
    "(a) What is the probability that the force is at most 18 kips? \n",
    "\n",
    "(b) What is the probability that the force is between 10 and 12 kips? \n",
    "\n",
    "(c) What is the probability that the force differs from 15.8 kips by at most 1.5 standard deviations?"
   ]
  },
  {
   "cell_type": "code",
   "execution_count": 32,
   "metadata": {},
   "outputs": [
    {
     "name": "stdout",
     "output_type": "stream",
     "text": [
      "a: 0.9509\n",
      "b: 0.0021\n",
      "c: 0.8664\n"
     ]
    }
   ],
   "source": [
    "mu = 15.8\n",
    "sigma = 1.33 \n",
    "\n",
    "X = stats.norm(mu,sigma)\n",
    "\n",
    "print (\"a: %.4f\" % (X.cdf(18)))\n",
    "\n",
    "print (\"b: %.4f\" % (X.cdf(12)-X.cdf(10)))\n",
    "\n",
    "print (\"c: %.4f\" % (X.cdf(mu+1.5*sigma)-X.cdf(mu-1.5*sigma)))"
   ]
  },
  {
   "cell_type": "markdown",
   "metadata": {},
   "source": [
    "# Question 5\n",
    "\n",
    "There are two machines available for cutting corks intended for use in wine bottles. The first produces corks with diameters that are normally distributed with mean 3 cm and standard deviation 0.08 cm. The second machine produces corks with diameters that have a normal distribution with mean 3.04 cm and standard deviation 0.02 cm. Acceptable corks have diameters between 2.9 cm and 3.1 cm.\n",
    "\n",
    "What is the probability that the first machine produces an acceptable cork? (Round your answer to four decimal places.) \n",
    "\n",
    "What is the probability that the second machine produces an acceptable cork? (Round your answer to four decimal places.)"
   ]
  },
  {
   "cell_type": "code",
   "execution_count": 34,
   "metadata": {},
   "outputs": [
    {
     "name": "stdout",
     "output_type": "stream",
     "text": [
      "a: 0.7887\n",
      "b: 0.9987\n"
     ]
    }
   ],
   "source": [
    "X1 = stats.norm(3.00,0.08)\n",
    "X2 = stats.norm(3.04,0.02)\n",
    "\n",
    "xlow = 2.9\n",
    "xhigh = 3.1\n",
    "\n",
    "print (\"a: %0.4f\" % (X1.cdf(xhigh)-X1.cdf(xlow)))\n",
    "\n",
    "print (\"b: %0.4f\" % (X2.cdf(xhigh)-X2.cdf(xlow)))"
   ]
  },
  {
   "cell_type": "markdown",
   "metadata": {},
   "source": [
    "# Question 6\n",
    "\n",
    "It has been suggested that yield strength (ksi) for A36 grade steel is normally distributed with mu = 45 and σ = 4.0.\n",
    "\n",
    "(a) What is the probability that yield strength is at most 40?  \n",
    "\n",
    "What is the probability that yield strength is greater than 60?\n",
    "\n",
    "(b) What yield strength value separates the strongest 75% from the others?"
   ]
  },
  {
   "cell_type": "code",
   "execution_count": 39,
   "metadata": {},
   "outputs": [
    {
     "name": "stdout",
     "output_type": "stream",
     "text": [
      "a1: 0.1056\n",
      "a2: 0.0001\n",
      "b: 42.3020\n"
     ]
    }
   ],
   "source": [
    "X = stats.norm(45,4.0)\n",
    "\n",
    "print (\"a1: %0.4f\" % (X.cdf(40)))\n",
    "\n",
    "print (\"a2: %0.4f\" % (1-X.cdf(60)))\n",
    "\n",
    "print (\"b: %0.4f\" % (X.ppf(0.25)))"
   ]
  },
  {
   "cell_type": "markdown",
   "metadata": {},
   "source": [
    "# Question 7\n",
    "\n",
    "The temperature reading from a thermocouple placed in a constant-temperature medium is normally distributed with mean μ, the actual temperature of the medium, and standard deviation σ. What would the value of σ have to be to ensure that 95% of all readings are within 0.9° of μ?"
   ]
  },
  {
   "cell_type": "code",
   "execution_count": 42,
   "metadata": {},
   "outputs": [
    {
     "name": "stdout",
     "output_type": "stream",
     "text": [
      "-1.959963984540054 1.959963984540054\n"
     ]
    }
   ],
   "source": [
    "central_area = 0.95\n",
    "delta_mu = 0.9\n",
    "\n",
    "zlow = stats.norm.ppf((1-central_area)/2.0)\n",
    "zhigh = stats.norm.ppf(central_area+(1-central_area)/2.0)\n",
    "\n",
    "print (zlow,zhigh)"
   ]
  },
  {
   "cell_type": "markdown",
   "metadata": {},
   "source": [
    "$z = (\\bar{x}-\\mu)/\\sigma$\n",
    "\n",
    "Therefore,\n",
    "\n",
    "$\\sigma = (\\bar{x}-\\mu)/z$\n",
    "\n",
    "$\\sigma = \\delta_\\mu/z$"
   ]
  },
  {
   "cell_type": "code",
   "execution_count": 43,
   "metadata": {},
   "outputs": [
    {
     "name": "stdout",
     "output_type": "stream",
     "text": [
      "Sigma = 0.4592\n"
     ]
    }
   ],
   "source": [
    "print (\"Sigma = %.4f\" % (delta_mu/zhigh))"
   ]
  },
  {
   "cell_type": "markdown",
   "metadata": {},
   "source": [
    "# Question 8\n",
    "\n",
    "Suppose that 10% of all steel shafts produced by a certain process are nonconforming but can be reworked (rather than having to be scrapped). Consider a random sample of 200 shafts, and let X denote the number among these that are nonconforming and can be reworked.\n",
    "\n",
    "(a) What is the (approximate) probability that X is at most 30?\n",
    "\n",
    "(b) What is the (approximate) probability that X is less than 30?\n",
    "\n",
    "(c) What is the (approximate) probability that X is between 15 and 25 (inclusive)?"
   ]
  },
  {
   "cell_type": "markdown",
   "metadata": {},
   "source": [
    "This question asks us to make an approximation to a process that is governed (exactly) by the binomial distribution.  The two approximations that we could considers are (a) the normal distribution, and (b) the Poisson distribution.  The normal distribution is appropriate for large N, and p $\\approx$ 0.5.  The Poission distribution is appropriate for small p or large p.  Since we have p = 0.10, we choose the Poisson distribution."
   ]
  },
  {
   "cell_type": "code",
   "execution_count": 3,
   "metadata": {},
   "outputs": [
    {
     "name": "stdout",
     "output_type": "stream",
     "text": [
      "Binomial (i.e. exact solution!!!) ->\n",
      "a: 0.8289\n",
      "b: 0.7727\n",
      "c: 0.4635\n",
      "Poisson CONTINUOUS ->\n",
      "a: 0.8134\n",
      "b: 0.7593\n",
      "c: 0.4663\n",
      "Poisson DISCRETE ->\n",
      "a: 0.8134\n",
      "b: 0.7593\n",
      "c: 0.4663\n",
      "Gamma CONTINUOUS ->\n",
      "a: 0.8161\n",
      "b: 0.7650\n",
      "c: 0.4827\n",
      "Normal CONTINUOUS ->\n",
      "a: 0.8280\n",
      "b: 0.7691\n",
      "c: 0.4503\n"
     ]
    }
   ],
   "source": [
    "import numpy as np\n",
    "N = 200.0\n",
    "p = 0.13\n",
    "\n",
    "lmbda = N*p\n",
    "\n",
    "X = stats.binom(N,p)\n",
    "\n",
    "print (\"Binomial (i.e. exact solution!!!) ->\")\n",
    "print (\"a: %0.4f\" % (X.cdf(30)))\n",
    "print (\"b: %0.4f\" % (X.cdf(29)))\n",
    "print (\"c: %0.4f\" % (X.cdf(25)-X.cdf(14)))\n",
    "\n",
    "X = stats.poisson(lmbda)\n",
    "\n",
    "print (\"Poisson CONTINUOUS ->\")\n",
    "print (\"a: %0.4f\" % (X.cdf(30.5)))\n",
    "print (\"b: %0.4f\" % (X.cdf(29.5)))\n",
    "print (\"c: %0.4f\" % (X.cdf(25.5)-X.cdf(14.5)))\n",
    "\n",
    "X = stats.poisson(lmbda)\n",
    "\n",
    "print (\"Poisson DISCRETE ->\")\n",
    "print (\"a: %0.4f\" % (X.cdf(30.0)))\n",
    "print (\"b: %0.4f\" % (X.cdf(29.0)))\n",
    "print (\"c: %0.4f\" % (X.cdf(25.0)-X.cdf(14.0)))\n",
    "\n",
    "# Gamma distribution\n",
    "\n",
    "X = stats.gamma(lmbda)\n",
    "\n",
    "print (\"Gamma CONTINUOUS ->\")\n",
    "print (\"a: %0.4f\" % (X.cdf(30.5)))\n",
    "print (\"b: %0.4f\" % (X.cdf(29.5)))\n",
    "print (\"c: %0.4f\" % (X.cdf(25.5)-X.cdf(14.5)))\n",
    "\n",
    "X = stats.norm(N*p,np.sqrt(N*p*(1-p)))\n",
    "\n",
    "print (\"Normal CONTINUOUS ->\")\n",
    "print (\"a: %0.4f\" % (X.cdf(30.5)))\n",
    "print (\"b: %0.4f\" % (X.cdf(29.5)))\n",
    "print (\"c: %0.4f\" % (X.cdf(25.5)-X.cdf(14.5)))"
   ]
  },
  {
   "cell_type": "code",
   "execution_count": null,
   "metadata": {},
   "outputs": [],
   "source": []
  }
 ],
 "metadata": {
  "kernelspec": {
   "display_name": "Python 3",
   "language": "python",
   "name": "python3"
  },
  "language_info": {
   "codemirror_mode": {
    "name": "ipython",
    "version": 3
   },
   "file_extension": ".py",
   "mimetype": "text/x-python",
   "name": "python",
   "nbconvert_exporter": "python",
   "pygments_lexer": "ipython3",
   "version": "3.6.8"
  }
 },
 "nbformat": 4,
 "nbformat_minor": 2
}
