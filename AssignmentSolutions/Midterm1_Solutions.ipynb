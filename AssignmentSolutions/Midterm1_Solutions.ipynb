{
 "cells": [
  {
   "cell_type": "markdown",
   "metadata": {},
   "source": [
    "## Question 1\n",
    "\n",
    "One of the classic methods for measuring the acceleration due to gravity to to use a simple pendulum. One measures the period, T, of the oscillations of the pendulum, which consists of mass, m, suspended from a cable of length, l. If the oscillations are small (less than a few degrees), then the period of oscillation is given by: \n",
    "\n",
    "$T = 2 \\pi \\sqrt{\\frac{l}{g}}$\n",
    " \n",
    "Suppose that you hang a cat, with a mass of 3.29 +/- 0.38 kg from a cable whose length is measured to be 9.66 +/- 0.03 m. The experiment is performed, and you measure the time for 100 oscillations of the pendulum. The TOTAL time for these 100 oscillations is measured to be 629.0 +/- 0.3 s.\n",
    "\n",
    "(a) What is the average value for the period of oscillation of the pendulum?\n",
    "\n",
    "(b) What is the uncertainty in the average value of the period of oscillation of the pendulum?\n",
    "\n",
    "(c) What is the average value of the acceleration due to gravity, as measured in this experiment?\n",
    "\n",
    "(d) Assuming that the uncertainties quoted above follow a uniform error distribution, what is the measured uncertainty in the acceleration due to gravity?\n",
    "\n",
    "(e) Assuming that the uncertainties quoted above follow a Gaussian error distribution, what is the measured uncertainty in the acceleration due to gravity?\n",
    "\n",
    "\n",
    "### Solution\n",
    "\n",
    "This problem is quite similar to the first problem on the first assignment.  Referring to\n",
    "the solution that I posted already for that problem, the only thing that we really have \n",
    "to change then is:\n",
    "\n",
    "(a) the expression for g\n",
    "(b) the variables used\n",
    "\n",
    "To get the expression for g, we just solve for g in the expression given in the question for the period, to get that:\n",
    "\n",
    "$g = \\frac{4 \\pi^2 l}{T^2}$"
   ]
  },
  {
   "cell_type": "code",
   "execution_count": 33,
   "metadata": {},
   "outputs": [
    {
     "name": "stdout",
     "output_type": "stream",
     "text": [
      "a: 6.29\n",
      "b: 0.003\n"
     ]
    },
    {
     "data": {
      "text/latex": [
       "$\\displaystyle \\frac{4 \\pi^{2} l}{T^{2}}$"
      ],
      "text/plain": [
       "4*pi**2*l/T**2"
      ]
     },
     "execution_count": 33,
     "metadata": {},
     "output_type": "execute_result"
    }
   ],
   "source": [
    "import numpy as np\n",
    "import scipy.stats as stats\n",
    "\n",
    "from sympy import *\n",
    "\n",
    "l = 9.66\n",
    "dl = 0.03\n",
    "Nd = 100\n",
    "T_total = 629.0\n",
    "dT_total = 0.3\n",
    "\n",
    "T = T_total/Nd\n",
    "dT = dT_total/Nd\n",
    "\n",
    "print (\"a: %0.2f\" % T)\n",
    "print (\"b: %0.3f\" % dT)\n",
    "\n",
    "g, l, T, dg, dl, dT = symbols(\"g, l, T, dg, dl, dT\")\n",
    "g = 4*pi**2*l/T**2\n",
    "\n",
    "g"
   ]
  },
  {
   "cell_type": "code",
   "execution_count": 34,
   "metadata": {},
   "outputs": [
    {
     "data": {
      "text/latex": [
       "$\\displaystyle 4 \\pi^{2} \\left|{\\frac{1}{T^{2}}}\\right|$"
      ],
      "text/plain": [
       "4*pi**2*Abs(T**(-2))"
      ]
     },
     "execution_count": 34,
     "metadata": {},
     "output_type": "execute_result"
    }
   ],
   "source": [
    "dgdl = abs(diff(g,l))\n",
    "\n",
    "dgdl"
   ]
  },
  {
   "cell_type": "code",
   "execution_count": 35,
   "metadata": {},
   "outputs": [
    {
     "data": {
      "text/latex": [
       "$\\displaystyle 8 \\pi^{2} \\left|{\\frac{l}{T^{3}}}\\right|$"
      ],
      "text/plain": [
       "8*pi**2*Abs(l/T**3)"
      ]
     },
     "execution_count": 35,
     "metadata": {},
     "output_type": "execute_result"
    }
   ],
   "source": [
    "dgdT = abs(diff(g,T))\n",
    "\n",
    "dgdT"
   ]
  },
  {
   "cell_type": "code",
   "execution_count": 36,
   "metadata": {},
   "outputs": [
    {
     "name": "stdout",
     "output_type": "stream",
     "text": [
      "g = 9.64 \n"
     ]
    }
   ],
   "source": [
    "# Calculate the value of the function\n",
    "g = N(g.subs({l:9.66, T:6.29}))\n",
    "print ('g = %0.2f ' % g)"
   ]
  },
  {
   "cell_type": "code",
   "execution_count": 38,
   "metadata": {},
   "outputs": [
    {
     "data": {
      "text/latex": [
       "$\\displaystyle 8 \\pi^{2} dT \\left|{\\frac{l}{T^{3}}}\\right| + 4 \\pi^{2} dl \\left|{\\frac{1}{T^{2}}}\\right|$"
      ],
      "text/plain": [
       "8*pi**2*dT*Abs(l/T**3) + 4*pi**2*dl*Abs(T**(-2))"
      ]
     },
     "execution_count": 38,
     "metadata": {},
     "output_type": "execute_result"
    }
   ],
   "source": [
    "# Calculate the uncertainty in g, assuming uniform uncertainties.\n",
    "dg = dgdl*dl + dgdT*dT\n",
    "\n",
    "dg"
   ]
  },
  {
   "cell_type": "code",
   "execution_count": 42,
   "metadata": {},
   "outputs": [
    {
     "name": "stdout",
     "output_type": "stream",
     "text": [
      "g = 9.64 +/- 0.0391\n"
     ]
    }
   ],
   "source": [
    "# Evaluate numerically\n",
    "dg = N(dg.subs({l:9.66, T:6.29, dl:0.03, dT:0.003}))\n",
    "\n",
    "print (\"g = %0.2f +/- %.4f\" % (g,dg))"
   ]
  },
  {
   "cell_type": "code",
   "execution_count": 43,
   "metadata": {},
   "outputs": [
    {
     "data": {
      "text/latex": [
       "$\\displaystyle \\sqrt{64 \\pi^{4} dT^{2} \\left|{\\frac{l}{T^{3}}}\\right|^{2} + 16 \\pi^{4} dl^{2} \\left|{\\frac{1}{T^{2}}}\\right|^{2}}$"
      ],
      "text/plain": [
       "sqrt(64*pi**4*dT**2*Abs(l/T**3)**2 + 16*pi**4*dl**2*Abs(T**(-2))**2)"
      ]
     },
     "execution_count": 43,
     "metadata": {},
     "output_type": "execute_result"
    }
   ],
   "source": [
    "# calculate the uncertainty in g, assuming gaussian uncertainties.\n",
    "dg = sqrt( dgdl**2*dl**2 + dgdT**2*dT**2 )\n",
    "\n",
    "dg"
   ]
  },
  {
   "cell_type": "code",
   "execution_count": 44,
   "metadata": {},
   "outputs": [
    {
     "name": "stdout",
     "output_type": "stream",
     "text": [
      "g = 9.64 +/- 0.0313\n"
     ]
    }
   ],
   "source": [
    "# Evaluate numerically\n",
    "dg = N(dg.subs({l:9.66, T:6.29, dl:0.03, dT:0.003}))\n",
    "\n",
    "print (\"g = %0.2f +/- %.4f\" % (g,dg))"
   ]
  },
  {
   "cell_type": "code",
   "execution_count": null,
   "metadata": {},
   "outputs": [],
   "source": []
  },
  {
   "cell_type": "markdown",
   "metadata": {},
   "source": [
    "## Question 2\n",
    "\n",
    "When circuit boards used in the manufacture of compact disc players are tested, the long-run percentage of defectives is 5%. Let X = the number of defective boards in a random sample of size n = 25, so P(X) ~ BINOMDIST(X,25,0.05,0).\n",
    "\n",
    "(a) Determine P(X <= 2).\n",
    "\n",
    "(b) Determine P(X >= 5).\n",
    "\n",
    "(c) Determine P(1 <= X <= 4).\n",
    "\n",
    "(d) What is the probability that none of the 25 boards is defective?\n",
    "\n",
    "(e) Calculate the expected value and standard deviation of X.\n",
    "\n",
    "### Solution\n",
    "\n",
    "This question is $exactly$ the same as one on the homework problems, so I am not going to give a detailed explanation for its solution, given that we went over it in class already."
   ]
  },
  {
   "cell_type": "code",
   "execution_count": 23,
   "metadata": {},
   "outputs": [
    {
     "name": "stdout",
     "output_type": "stream",
     "text": [
      "a: 0.873\n",
      "b: 0.00716\n",
      "c: 0.715\n",
      "d: 0.277\n",
      "e: 1.25, 1.0897\n"
     ]
    }
   ],
   "source": [
    "n = 25\n",
    "p = 0.05\n",
    "\n",
    "X = stats.binom(n,p)\n",
    "\n",
    "print (\"a: %0.3f\" % X.cdf(2))\n",
    "\n",
    "print (\"b: %0.5f\" % (1-X.cdf(4)))\n",
    "\n",
    "print (\"c: %0.3f\" % (X.cdf(4)-X.cdf(0)))\n",
    "\n",
    "print (\"d: %0.3f\" % X.cdf(0))\n",
    "\n",
    "print (\"e: %0.2f, %0.4f\" % (X.mean(),X.std()))"
   ]
  },
  {
   "cell_type": "markdown",
   "metadata": {},
   "source": [
    "## Question 3\n",
    "\n",
    "There are two machines available for cutting corks intended for use in wine bottles. Measurements of 25 corks from the first machine indicates that it produces corks with diameters that are distributed with a sample mean 3.02 cm and sample standard deviation 0.08 cm. Measurements of 30 corks from the second machine reveals that it produces corks with diameters that have a distribution with sample mean 3.03 cm and sample standard deviation 0.05 cm. Acceptable corks have diameters between 2.9 cm and 3.1 cm.\n",
    "\n",
    "What is the uncertainty in the true mean cork diameter for the first machine? (Round your answer to four decimal places.)\n",
    "\n",
    "What is the uncertainty in the true mean cork diameter for the second machine? (Round your answer to four decimal places.)\n",
    "\n",
    "What is the probability that the first machine will produce an acceptable cork? (Round your answer to four decimal places.)\n",
    "\n",
    "\n",
    "What is the probability that the second machine will produce an acceptable cork? (Round your answer to four decimal places.)"
   ]
  },
  {
   "cell_type": "markdown",
   "metadata": {},
   "source": [
    "### Solution:"
   ]
  },
  {
   "cell_type": "markdown",
   "metadata": {},
   "source": [
    "People had a lot of difficulty with this question, which honestly surprised me, but that happens!  One of the crucial concepts in this course is understanding the difference between the parameters associated with the $population$ and those associated with a $sample$ of the population.\n",
    "\n",
    "In the homework problem that was very similar to this question, the second and third sentences are:\n",
    "\n",
    "\"The first produces corks with diameters that are normally distributed with mean 3.02 cm and standard deviation 0.08 cm. The second machine produces corks with diameters that have a normal distribution with mean 3.03 cm and standard deviation 0.05 cm.\"\n",
    "\n",
    "The wording of the homework problem is clear; they are telling us the values of $\\mu$ and $\\sigma$, the $population$ mean and standard deviation, respectively.\n",
    "\n",
    "Now, compare that to the wording of this question, where it $explicitly$ states that there was an experiment carried out, and the results of the experiment are given, for the $samples$ taken in that experiment.  Thus again, the wording is clear. In this problem, they are telling you the values of the $sample$ mean and standard deviation, $\\bar{x}$ and $s$.\n",
    "\n",
    "The conclusion, then, is that we must use the t-distribution to calculate probabilities associated with mean of the distribution, and $not$ the z-distribution, as we did in solving the homework problem."
   ]
  },
  {
   "cell_type": "code",
   "execution_count": 29,
   "metadata": {},
   "outputs": [
    {
     "name": "stdout",
     "output_type": "stream",
     "text": [
      "a: 0.0160\n",
      "b: 0.0091\n",
      "c: 0.7630\n",
      "d: 0.9067\n"
     ]
    }
   ],
   "source": [
    "# As we do NOT know the value of sigma, we MUST use the t-distribution!!!!!\n",
    "\n",
    "n1=25\n",
    "n2=30\n",
    "df1=n1-1\n",
    "df2=n2-1\n",
    "\n",
    "xb1=3.02\n",
    "xb2=3.03\n",
    "s1=0.08\n",
    "s2=0.05\n",
    "\n",
    "X1 = stats.t(df=df1,loc=xb1,scale=s1)\n",
    "X2 = stats.t(df=df2,loc=xb2,scale=s2)\n",
    "#\n",
    "# Note:  in the file called Assignment2_Solutions.ipynb in my github repo, these two lines\n",
    "# were written as:\n",
    "#\n",
    "# X1 = stats.norm(3.02,0.08)\n",
    "# X2 = stats.norm(3.03,0.02)\n",
    "#\n",
    "# So, here, we are literally just replacing those two lines with the corresponding\n",
    "# expression for the t-distribution, which requires the additonal parameter of number\n",
    "# of degreess of freedom.  Then we solve parts (c) and (d) in exactly the same way as\n",
    "# in the homework problem.\n",
    "#\n",
    "\n",
    "xlow = 2.9\n",
    "xhigh = 3.1\n",
    "\n",
    "# The uncertainty is the standard error in the mean = s/sqrt(n)  (this is for parts a and b)\n",
    "print (\"a: %0.4f\" % (s1/np.sqrt(n1)))\n",
    "print (\"b: %0.4f\" % (s2/np.sqrt(n2)))\n",
    "\n",
    "# The probability of an acceptable cork is the integral of the t-distribution (cdf) between\n",
    "# the high and low acceptable values.\n",
    "print (\"c: %0.4f\" % (X1.cdf(xhigh)-X1.cdf(xlow)))\n",
    "print (\"d: %0.4f\" % (X2.cdf(xhigh)-X2.cdf(xlow)))\n"
   ]
  },
  {
   "cell_type": "markdown",
   "metadata": {},
   "source": [
    "## Question 4\n",
    "\n",
    "Based on an extensive series of experiments carried out over many years, it has been found that the true mean survival rate (μ) for cats dropped from the Trible Library is 95%, with a standard deviation (σ) of 2%. Recent meetings of the CNU administration have resulted in a report that states that in any future experiments, the mean survival rate must be greater than 90.0%, but at the same time must not be greater than 98.0%. The rationale for these limits is unclear. It is suspected that representatives from the Faculty of Arts and Humanities were involved. You have been assigned the job of supervisor of cat dropping experiments at CNU. Your job depends on making sure these limits are not violated. As such, you need to write protocols for future experiments, and the most important thing to decide is: How many cats must be dropped in each experiment? Because your job depends on it, you decide to set the Type-I error probability, α, at 0.001. Calculate the minimum value of N that will be required for you to keep your job."
   ]
  },
  {
   "cell_type": "markdown",
   "metadata": {},
   "source": [
    "### Solution\n",
    "\n",
    "As we know the value of $\\sigma$, we can use the z-distribution.  Again, typically the first thing that you should think about in solving any of these types of problems is: what is the appropriate distribution/test to use to answer the question that you are attempting\n",
    "to answer.\n",
    "\n",
    "Looking at the data given, we see that we have been provided with the values of:\n",
    "\n",
    "$\\alpha$, $\\mu$, $\\sigma$, and then a lower limit ($\\bar{x}_{low}$) and an upper limit \n",
    "($\\bar{x}_{high}$).\n",
    "\n",
    "Whenever you see that there are $limits$ provided, this should trigger in your mind the idea that we can use these values to calculate $critical$ values for the appropriate probability distribution.  So, the lower limit and the upper limit should correspond to\n",
    "critical values for $z_{low}$ and $z_{high}$:\n",
    "\n",
    "$z_{low} = \\frac{(\\bar{x}_{low} - \\mu)}{\\frac{\\sigma}{\\sqrt{n}}}$\n",
    "\n",
    "$z_{high} = \\frac{(\\bar{x}_{high} - \\mu)}{\\frac{\\sigma}{\\sqrt{n}}}$\n",
    "\n",
    "Looking at these equations, we see that they depend on $n$, which is what we are trying to find!!\n",
    "\n",
    "So, how do we proceed?  Well, we need to find the values of $z_{low}$ and $z_{high}$ by using the value of $\\alpha$, which we have not used yet!!\n",
    "\n",
    "$z_{low} = \\rm{stats.norm.ppf(}\\alpha\\rm{)}$\n",
    "\n",
    "$z_{high} = \\rm{stats.norm.ppf(}1-\\alpha\\rm{)}$"
   ]
  },
  {
   "cell_type": "code",
   "execution_count": 45,
   "metadata": {},
   "outputs": [
    {
     "name": "stdout",
     "output_type": "stream",
     "text": [
      "Critical values are -3.090 and 3.090\n"
     ]
    }
   ],
   "source": [
    "import numpy as np\n",
    "import scipy.stats as stats\n",
    "\n",
    "mu = 95.0\n",
    "sigma = 2.0\n",
    "\n",
    "xblow = 90.0\n",
    "xbhigh = 98.0\n",
    "\n",
    "alpha = 0.001\n",
    "\n",
    "zlow = stats.norm.ppf(alpha)\n",
    "zhigh = stats.norm.ppf(1-alpha)\n",
    "print (\"Critical values are %0.3f and %0.3f\" % (zlow,zhigh))"
   ]
  },
  {
   "cell_type": "markdown",
   "metadata": {},
   "source": [
    "Again, we turn to the definition of z:\n",
    "\n",
    "$z = \\frac{(\\bar{x}-\\mu)}{\\frac{\\sigma}{\\sqrt{n}}}$\n",
    "\n",
    "Solving for n, we get that:\n",
    "\n",
    "$ n = \\left( \\frac{\\sigma z}{(\\bar{x}-\\mu)} \\right)^2 $\n",
    "\n",
    "So, we can calulate a value of n for the lower limit and the upper limit!\n",
    "\n",
    "If we calculate a non-integer value of n, we have to round UP to the next highest integer.\n",
    "So, we take the integer value of the quantity (which just cuts off the decimal places),\n",
    "and then add one to that.\n",
    "\n",
    "Finally, we need to take the larger of these two values of n that we calculate."
   ]
  },
  {
   "cell_type": "code",
   "execution_count": 49,
   "metadata": {},
   "outputs": [
    {
     "name": "stdout",
     "output_type": "stream",
     "text": [
      "Minimum required number of cats =  5\n"
     ]
    }
   ],
   "source": [
    "nlow = ((zlow*sigma)/(xblow-mu))**2\n",
    "nhigh = ((zhigh*sigma)/(xbhigh-mu))**2\n",
    "\n",
    "nlow = int(nlow)+1\n",
    "nhigh = int(nhigh)+1\n",
    "\n",
    "print (\"Minimum required number of cats = \",max(nlow,nhigh))"
   ]
  },
  {
   "cell_type": "code",
   "execution_count": null,
   "metadata": {},
   "outputs": [],
   "source": []
  },
  {
   "cell_type": "code",
   "execution_count": null,
   "metadata": {},
   "outputs": [],
   "source": []
  }
 ],
 "metadata": {
  "kernelspec": {
   "display_name": "Python 3",
   "language": "python",
   "name": "python3"
  },
  "language_info": {
   "codemirror_mode": {
    "name": "ipython",
    "version": 3
   },
   "file_extension": ".py",
   "mimetype": "text/x-python",
   "name": "python",
   "nbconvert_exporter": "python",
   "pygments_lexer": "ipython3",
   "version": "3.6.8"
  }
 },
 "nbformat": 4,
 "nbformat_minor": 2
}
