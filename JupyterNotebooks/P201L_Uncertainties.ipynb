{
 "cells": [
  {
   "cell_type": "code",
   "execution_count": 22,
   "metadata": {},
   "outputs": [
    {
     "data": {
      "text/plain": [
       "(array([  3.,   5.,  17.,  42., 127., 235., 337., 543., 685., 709., 658.,\n",
       "        602., 417., 282., 171.,  97.,  42.,  20.,   4.,   4.]),\n",
       " array([-0.03584356, -0.03218802, -0.02853247, -0.02487693, -0.02122139,\n",
       "        -0.01756585, -0.01391031, -0.01025477, -0.00659922, -0.00294368,\n",
       "         0.00071186,  0.0043674 ,  0.00802294,  0.01167848,  0.01533403,\n",
       "         0.01898957,  0.02264511,  0.02630065,  0.02995619,  0.03361173,\n",
       "         0.03726727]),\n",
       " <a list of 20 Patch objects>)"
      ]
     },
     "execution_count": 22,
     "metadata": {},
     "output_type": "execute_result"
    },
    {
     "data": {
      "image/png": "[encoded data removed]",
      "text/plain": [
       "<Figure size 432x288 with 1 Axes>"
      ]
     },
     "metadata": {
      "needs_background": "light"
     },
     "output_type": "display_data"
    }
   ],
   "source": [
    "import numpy as np\n",
    "import matplotlib.pyplot as plt\n",
    "\n",
    "g = 9.81 #m/s\n",
    "n = 5000\n",
    "\n",
    "sd = []\n",
    "Q = []\n",
    "E = []\n",
    "Z = []\n",
    "\n",
    "sQ = []\n",
    "sE = []\n",
    "sZ = []\n",
    "\n",
    "for j in range(5000):\n",
    "    b0 = np.random.random()*10. ; db = np.random.random()*b0*0.1\n",
    "    c0 = -np.random.random()*10.; dc = -np.random.random()*c0*0.1\n",
    "\n",
    "    D0 = b0**2-4*c0\n",
    "\n",
    "    # b0 is a negative number ( = 2v_0y/(-g) )\n",
    "    # c0 is a negative number ( = 2(-Dy)/(-g) and Dy is negative)\n",
    "    x0 = 0.5*(b0+D0**(0.5))\n",
    "\n",
    "    vy = g*b0/2,\n",
    "    #db = 1. ; dc = 1.\n",
    "    #print('For this run,               v_y was {:.3f} m/s'.format(g*b0/2))\n",
    "    #print('                            Dy  was {:.3f} m'.format(-g*c0/2))\n",
    "    #print('And the computed time of flight was {:.3f} s'.format(x0))\n",
    "    #print('================================================')\n",
    "    #print('Uncertainty in b: {:.3f}'.format(db))\n",
    "    #print('Uncertainty in c: {:.3f}'.format(dc))\n",
    "    #Q is the \"naiive sophisticated method (eqn 14)\n",
    "    Q.append(((2*(b0**2)-4*c0)*(db)**2+4*(dc)**2)/(4*D0))\n",
    "    #E is an empirical attempt to get better results (eqn 19)\n",
    "    E.append(((4*(b0**2)-4*c0)*(db)**2+4*(dc)**2)/(4*D0))\n",
    "    #Z is the calculus-based result (eqn 18)\n",
    "    Z.append(((2*(b0**2)-4*c0+2*b0*D0**0.5)*(db)**2+4*(dc)**2)/(4*D0))\n",
    "    x = []\n",
    "    for i in range(n):\n",
    "      b = np.random.normal(loc=b0,scale=db)\n",
    "      c = np.random.normal(loc=c0,scale=dc)\n",
    "      D = b**2-4*c\n",
    "      x.append(0.5*(b+D**0.5))\n",
    "    \n",
    "    x = np.array(x)\n",
    "    #plt.hist(x,bins=20)\n",
    "    sd.append(np.std(x,ddof=1))\n",
    "    \n",
    "    sZ.append((Z[j]**0.5-sd[j])/sd[j])\n",
    "    sE.append((E[j]**0.5-sd[j])/sd[j])\n",
    "    sQ.append((Q[j]**0.5-sd[j])/sd[j])\n",
    "    \n",
    "    #print('Computation of dt based varying b and c was {:.3f}'.format(sd))\n",
    "    #print('Z Calculation of uncertainty in t was       {:.3f} with error {:.3f}'\n",
    "    #     .format(Z**0.5,(Z**0.5-sd)/sd))\n",
    "    #print('E Calculation of uncertainty in t was       {:.3f} with error {:.3f}'\n",
    "    #     .format(E**0.5,(E**0.5-sd)/sd))\n",
    "    #print('Q Calculation of uncertainty in t was       {:.3f} with error {:.3f}'\n",
    "    #     .format(Q**0.5,(Q**0.5-sd)/sd))\n",
    "\n",
    "###TO DO:  Run each model many times and find the average (absolute) error\n",
    "###        and standard deviation to verify my gut feeling of 25% for Q\n",
    "###        and 5% for both E and Z.\n",
    "\n",
    "plt.hist(sQ,bins=20)\n",
    "plt.hist(sE,bins=20)\n",
    "plt.hist(sZ,bins=20)\n",
    "\n"
   ]
  },
  {
   "cell_type": "code",
   "execution_count": null,
   "metadata": {},
   "outputs": [],
   "source": []
  },
  {
   "cell_type": "code",
   "execution_count": null,
   "metadata": {},
   "outputs": [],
   "source": []
  },
  {
   "cell_type": "code",
   "execution_count": null,
   "metadata": {},
   "outputs": [],
   "source": []
  }
 ],
 "metadata": {
  "kernelspec": {
   "display_name": "Python 3",
   "language": "python",
   "name": "python3"
  },
  "language_info": {
   "codemirror_mode": {
    "name": "ipython",
    "version": 3
   },
   "file_extension": ".py",
   "mimetype": "text/x-python",
   "name": "python",
   "nbconvert_exporter": "python",
   "pygments_lexer": "ipython3",
   "version": "3.6.8"
  }
 },
 "nbformat": 4,
 "nbformat_minor": 2
}
