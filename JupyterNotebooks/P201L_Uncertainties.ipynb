{
 "cells": [
  {
   "cell_type": "code",
   "execution_count": 55,
   "metadata": {},
   "outputs": [
    {
     "name": "stdout",
     "output_type": "stream",
     "text": [
      "j =  0\n",
      "j =  200\n",
      "j =  400\n"
     ]
    },
    {
     "data": {
      "text/plain": [
       "(array([ 2.,  0.,  2.,  6., 17., 26., 42., 52., 59., 75., 54., 55., 32.,\n",
       "        42., 16.,  5.,  6.,  5.,  2.,  2.]),\n",
       " array([-0.2814231 , -0.27915509, -0.27688707, -0.27461906, -0.27235105,\n",
       "        -0.27008304, -0.26781503, -0.26554702, -0.263279  , -0.26101099,\n",
       "        -0.25874298, -0.25647497, -0.25420696, -0.25193894, -0.24967093,\n",
       "        -0.24740292, -0.24513491, -0.2428669 , -0.24059889, -0.23833087,\n",
       "        -0.23606286]),\n",
       " <a list of 20 Patch objects>)"
      ]
     },
     "execution_count": 55,
     "metadata": {},
     "output_type": "execute_result"
    },
    {
     "data": {
      "image/png": "[encoded data removed]",
      "text/plain": [
       "<Figure size 432x288 with 1 Axes>"
      ]
     },
     "metadata": {
      "needs_background": "light"
     },
     "output_type": "display_data"
    }
   ],
   "source": [
    "import numpy as np\n",
    "import matplotlib.pyplot as plt\n",
    "%matplotlib inline\n",
    "\n",
    "g = 9.81 #m/s\n",
    "n = 5000\n",
    "\n",
    "sd = []\n",
    "Q = []\n",
    "E = []\n",
    "Z = []\n",
    "EB = []\n",
    "\n",
    "sQ = []\n",
    "sE = []\n",
    "sZ = []\n",
    "sEB = []\n",
    "\n",
    "\n",
    "b0 = []\n",
    "c0 = []\n",
    "db = []\n",
    "dc = []\n",
    "\n",
    "for j in range(500):\n",
    "    if (j%200==0):\n",
    "        print (\"j = \",j)\n",
    "    #b0.append(np.random.random()*10.)\n",
    "    b0.append(-20)\n",
    "    #db.append(np.random.random()*b0[j]*0.1)\n",
    "    #db.append(np.random.random()*b0[j]*0.05)\n",
    "    db.append(1)\n",
    "    #c0.append(-np.random.random()*10.)\n",
    "    c0.append(-20)\n",
    "    #dc.append(-np.random.random()*c0[j]*0.1)\n",
    "    #dc.append(-np.random.random()*c0[j]*0.05)\n",
    "    dc.append(1)\n",
    "    \n",
    "    D0 = b0[j]**2-4*c0[j]\n",
    "\n",
    "    # b0 is a negative number ( = 2v_0y/(-g) )\n",
    "    # c0 is a negative number ( = 2(-Dy)/(-g) and Dy is negative)\n",
    "    x0 = 0.5*(-b0[j]+D0**(0.5))\n",
    "    vy = -g*b0[j]/2,\n",
    "    \n",
    "    #db = 1. ; dc = 1.\n",
    "    #print('For this run,               v_y was {:.3f} m/s'.format(g*b0/2))\n",
    "    #print('                            Dy  was {:.3f} m'.format(-g*c0/2))\n",
    "    #print('And the computed time of flight was {:.3f} s'.format(x0))\n",
    "    #print('================================================')\n",
    "    #print('Uncertainty in b: {:.3f}'.format(db))\n",
    "    #print('Uncertainty in c: {:.3f}'.format(dc))\n",
    "    \n",
    "    #Q is the \"naiive sophisticated method (eqn 14)\n",
    "    Q.append(((2*(b0[j]**2)-4*c0[j])*(db[j])**2+4*(dc[j])**2)/(4*D0))\n",
    "    \n",
    "    #E is an empirical attempt to get better results (eqn 19)\n",
    "    E.append(((4*(b0[j]**2)-4*c0[j])*(db[j])**2+4*(dc[j])**2)/(4*D0))\n",
    "    \n",
    "    #Z is the calculus-based result (eqn 18)\n",
    "    Z.append(((2*(b0[j]**2)-4*c0[j]-2*b0[j]*D0**0.5)*(db[j])**2+4*(dc[j])**2)/(4*D0))\n",
    "    \n",
    "    #EB is the calculation of Brash\n",
    "    EB.append(((2*(b0[j]**2)-4*c0[j])*(db[j])**2+4*(dc[j])**2-4*b0[j]*db[j]*dc[j])/(4*D0))\n",
    "    \n",
    "    x = []\n",
    "    for i in range(n):\n",
    "      b = np.random.normal(loc=b0[j],scale=db[j])\n",
    "      c = np.random.normal(loc=c0[j],scale=dc[j])\n",
    "      D = b**2-4*c\n",
    "      x.append(0.5*(-b+D**0.5))\n",
    "    \n",
    "    x = np.array(x)\n",
    "    #plt.hist(x,bins=20)\n",
    "    sd.append(np.std(x,ddof=1))\n",
    "    \n",
    "    sZ.append((Z[j]**0.5-sd[j])/sd[j])\n",
    "    sE.append((E[j]**0.5-sd[j])/sd[j])\n",
    "    sQ.append((Q[j]**0.5-sd[j])/sd[j])\n",
    "    sEB.append((EB[j]**0.5-sd[j])/sd[j])\n",
    "    \n",
    "    #print('Computation of dt based varying b and c was {:.3f}'.format(sd))\n",
    "    #print('Z Calculation of uncertainty in t was       {:.3f} with error {:.3f}'\n",
    "    #     .format(Z**0.5,(Z**0.5-sd)/sd))\n",
    "    #print('E Calculation of uncertainty in t was       {:.3f} with error {:.3f}'\n",
    "    #     .format(E**0.5,(E**0.5-sd)/sd))\n",
    "    #print('Q Calculation of uncertainty in t was       {:.3f} with error {:.3f}'\n",
    "    #     .format(Q**0.5,(Q**0.5-sd)/sd))\n",
    "\n",
    "###TO DO:  Run each model many times and find the average (absolute) error\n",
    "###        and standard deviation to verify my gut feeling of 25% for Q\n",
    "###        and 5% for both E and Z.\n",
    "\n",
    "plt.hist(sQ,bins=20)\n",
    "plt.hist(sE,bins=20)\n",
    "plt.hist(sZ,bins=20)\n",
    "plt.hist(sEB,bins=20)"
   ]
  },
  {
   "cell_type": "code",
   "execution_count": 56,
   "metadata": {},
   "outputs": [
    {
     "data": {
      "text/plain": [
       "<matplotlib.collections.PathCollection at 0x7fad0c482860>"
      ]
     },
     "execution_count": 56,
     "metadata": {},
     "output_type": "execute_result"
    },
    {
     "data": {
      "image/png": "[encoded data removed]",
      "text/plain": [
       "<Figure size 432x288 with 1 Axes>"
      ]
     },
     "metadata": {
      "needs_background": "light"
     },
     "output_type": "display_data"
    }
   ],
   "source": [
    "percentb = np.array(db)/np.array(b0)\n",
    "plt.scatter(percentb,sEB)"
   ]
  },
  {
   "cell_type": "code",
   "execution_count": 57,
   "metadata": {},
   "outputs": [
    {
     "data": {
      "text/plain": [
       "<matplotlib.collections.PathCollection at 0x7fad0c456860>"
      ]
     },
     "execution_count": 57,
     "metadata": {},
     "output_type": "execute_result"
    },
    {
     "data": {
      "image/png": "[encoded data removed]",
      "text/plain": [
       "<Figure size 432x288 with 1 Axes>"
      ]
     },
     "metadata": {
      "needs_background": "light"
     },
     "output_type": "display_data"
    }
   ],
   "source": [
    "percentc = np.array(dc)/np.array(c0)\n",
    "plt.scatter(percentc,sEB)"
   ]
  },
  {
   "cell_type": "code",
   "execution_count": 58,
   "metadata": {},
   "outputs": [
    {
     "data": {
      "text/plain": [
       "<matplotlib.collections.PathCollection at 0x7fad0c3ae6d8>"
      ]
     },
     "execution_count": 58,
     "metadata": {},
     "output_type": "execute_result"
    },
    {
     "data": {
      "image/png": "[encoded data removed]",
      "text/plain": [
       "<Figure size 432x288 with 1 Axes>"
      ]
     },
     "metadata": {
      "needs_background": "light"
     },
     "output_type": "display_data"
    }
   ],
   "source": [
    "plt.scatter(percentb,sZ)"
   ]
  },
  {
   "cell_type": "code",
   "execution_count": 59,
   "metadata": {},
   "outputs": [
    {
     "data": {
      "text/plain": [
       "<matplotlib.collections.PathCollection at 0x7fad0c38a240>"
      ]
     },
     "execution_count": 59,
     "metadata": {},
     "output_type": "execute_result"
    },
    {
     "data": {
      "image/png": "[encoded data removed]",
      "text/plain": [
       "<Figure size 432x288 with 1 Axes>"
      ]
     },
     "metadata": {
      "needs_background": "light"
     },
     "output_type": "display_data"
    }
   ],
   "source": [
    "plt.scatter(percentc,sZ)"
   ]
  },
  {
   "cell_type": "code",
   "execution_count": 60,
   "metadata": {},
   "outputs": [
    {
     "data": {
      "text/plain": [
       "<matplotlib.collections.PathCollection at 0x7fad0c35ac18>"
      ]
     },
     "execution_count": 60,
     "metadata": {},
     "output_type": "execute_result"
    },
    {
     "data": {
      "image/png": "[encoded data removed]",
      "text/plain": [
       "<Figure size 432x288 with 1 Axes>"
      ]
     },
     "metadata": {
      "needs_background": "light"
     },
     "output_type": "display_data"
    }
   ],
   "source": [
    "plt.scatter(percentb,sE)"
   ]
  },
  {
   "cell_type": "code",
   "execution_count": 61,
   "metadata": {},
   "outputs": [
    {
     "data": {
      "text/plain": [
       "<matplotlib.collections.PathCollection at 0x7fad0cee2be0>"
      ]
     },
     "execution_count": 61,
     "metadata": {},
     "output_type": "execute_result"
    },
    {
     "data": {
      "image/png": "[encoded data removed]",
      "text/plain": [
       "<Figure size 432x288 with 1 Axes>"
      ]
     },
     "metadata": {
      "needs_background": "light"
     },
     "output_type": "display_data"
    }
   ],
   "source": [
    "plt.scatter(percentc,sE)"
   ]
  },
  {
   "cell_type": "code",
   "execution_count": 62,
   "metadata": {},
   "outputs": [
    {
     "data": {
      "text/plain": [
       "(array([  1.,   0.,   2.,  11.,  37.,  97., 232., 361., 587., 754., 842.,\n",
       "        732., 583., 386., 211.,  98.,  42.,  12.,   8.,   4.]),\n",
       " array([16.84432287, 17.23470387, 17.62508487, 18.01546587, 18.40584687,\n",
       "        18.79622787, 19.18660887, 19.57698987, 19.96737087, 20.35775187,\n",
       "        20.74813287, 21.13851388, 21.52889488, 21.91927588, 22.30965688,\n",
       "        22.70003788, 23.09041888, 23.48079988, 23.87118088, 24.26156188,\n",
       "        24.65194288]),\n",
       " <a list of 20 Patch objects>)"
      ]
     },
     "execution_count": 62,
     "metadata": {},
     "output_type": "execute_result"
    },
    {
     "data": {
      "image/png": "[encoded data removed]",
      "text/plain": [
       "<Figure size 432x288 with 1 Axes>"
      ]
     },
     "metadata": {
      "needs_background": "light"
     },
     "output_type": "display_data"
    }
   ],
   "source": [
    "plt.hist(x,bins=20)"
   ]
  },
  {
   "cell_type": "code",
   "execution_count": 63,
   "metadata": {},
   "outputs": [
    {
     "data": {
      "text/plain": [
       "(array([ 2.,  4.,  4.,  5., 10., 20., 41., 35., 61., 64., 59., 64., 49.,\n",
       "        36., 21., 15.,  6.,  2.,  0.,  2.]),\n",
       " array([0.92753494, 0.93046248, 0.93339002, 0.93631755, 0.93924509,\n",
       "        0.94217263, 0.94510016, 0.9480277 , 0.95095524, 0.95388277,\n",
       "        0.95681031, 0.95973784, 0.96266538, 0.96559292, 0.96852045,\n",
       "        0.97144799, 0.97437553, 0.97730306, 0.9802306 , 0.98315814,\n",
       "        0.98608567]),\n",
       " <a list of 20 Patch objects>)"
      ]
     },
     "execution_count": 63,
     "metadata": {},
     "output_type": "execute_result"
    },
    {
     "data": {
      "image/png": "[encoded data removed]",
      "text/plain": [
       "<Figure size 432x288 with 1 Axes>"
      ]
     },
     "metadata": {
      "needs_background": "light"
     },
     "output_type": "display_data"
    }
   ],
   "source": [
    "plt.hist(sd,bins=20)"
   ]
  },
  {
   "cell_type": "code",
   "execution_count": 64,
   "metadata": {},
   "outputs": [
    {
     "data": {
      "text/plain": [
       "(array([  0.,   0.,   0.,   0.,   0.,   0.,   0.,   0.,   0.,   0., 500.,\n",
       "          0.,   0.,   0.,   0.,   0.,   0.,   0.,   0.,   0.]),\n",
       " array([-0.03958333,  0.01041667,  0.06041667,  0.11041667,  0.16041667,\n",
       "         0.21041667,  0.26041667,  0.31041667,  0.36041667,  0.41041667,\n",
       "         0.46041667,  0.51041667,  0.56041667,  0.61041667,  0.66041667,\n",
       "         0.71041667,  0.76041667,  0.81041667,  0.86041667,  0.91041667,\n",
       "         0.96041667]),\n",
       " <a list of 20 Patch objects>)"
      ]
     },
     "execution_count": 64,
     "metadata": {},
     "output_type": "execute_result"
    },
    {
     "data": {
      "image/png": "[encoded data removed]",
      "text/plain": [
       "<Figure size 432x288 with 1 Axes>"
      ]
     },
     "metadata": {
      "needs_background": "light"
     },
     "output_type": "display_data"
    }
   ],
   "source": [
    "plt.hist(Q,bins=20)"
   ]
  },
  {
   "cell_type": "code",
   "execution_count": 65,
   "metadata": {},
   "outputs": [
    {
     "data": {
      "text/plain": [
       "(array([  0.,   0.,   0.,   0.,   0.,   0.,   0.,   0.,   0.,   0., 500.,\n",
       "          0.,   0.,   0.,   0.,   0.,   0.,   0.,   0.,   0.]),\n",
       " array([0.37708333, 0.42708333, 0.47708333, 0.52708333, 0.57708333,\n",
       "        0.62708333, 0.67708333, 0.72708333, 0.77708333, 0.82708333,\n",
       "        0.87708333, 0.92708333, 0.97708333, 1.02708333, 1.07708333,\n",
       "        1.12708333, 1.17708333, 1.22708333, 1.27708333, 1.32708333,\n",
       "        1.37708333]),\n",
       " <a list of 20 Patch objects>)"
      ]
     },
     "execution_count": 65,
     "metadata": {},
     "output_type": "execute_result"
    },
    {
     "data": {
      "image/png": "[encoded data removed]",
      "text/plain": [
       "<Figure size 432x288 with 1 Axes>"
      ]
     },
     "metadata": {
      "needs_background": "light"
     },
     "output_type": "display_data"
    }
   ],
   "source": [
    "plt.hist(E,bins=20)"
   ]
  },
  {
   "cell_type": "code",
   "execution_count": 66,
   "metadata": {},
   "outputs": [
    {
     "data": {
      "text/plain": [
       "(array([  0.,   0.,   0.,   0.,   0.,   0.,   0.,   0.,   0.,   0., 500.,\n",
       "          0.,   0.,   0.,   0.,   0.,   0.,   0.,   0.,   0.]),\n",
       " array([0.41685213, 0.46685213, 0.51685213, 0.56685213, 0.61685213,\n",
       "        0.66685213, 0.71685213, 0.76685213, 0.81685213, 0.86685213,\n",
       "        0.91685213, 0.96685213, 1.01685213, 1.06685213, 1.11685213,\n",
       "        1.16685213, 1.21685213, 1.26685213, 1.31685213, 1.36685213,\n",
       "        1.41685213]),\n",
       " <a list of 20 Patch objects>)"
      ]
     },
     "execution_count": 66,
     "metadata": {},
     "output_type": "execute_result"
    },
    {
     "data": {
      "image/png": "[encoded data removed]",
      "text/plain": [
       "<Figure size 432x288 with 1 Axes>"
      ]
     },
     "metadata": {
      "needs_background": "light"
     },
     "output_type": "display_data"
    }
   ],
   "source": [
    "plt.hist(Z,bins=20)"
   ]
  },
  {
   "cell_type": "code",
   "execution_count": 67,
   "metadata": {},
   "outputs": [
    {
     "data": {
      "text/plain": [
       "(array([  0.,   0.,   0.,   0.,   0.,   0.,   0.,   0.,   0.,   0., 500.,\n",
       "          0.,   0.,   0.,   0.,   0.,   0.,   0.,   0.,   0.]),\n",
       " array([0.00208333, 0.05208333, 0.10208333, 0.15208333, 0.20208333,\n",
       "        0.25208333, 0.30208333, 0.35208333, 0.40208333, 0.45208333,\n",
       "        0.50208333, 0.55208333, 0.60208333, 0.65208333, 0.70208333,\n",
       "        0.75208333, 0.80208333, 0.85208333, 0.90208333, 0.95208333,\n",
       "        1.00208333]),\n",
       " <a list of 20 Patch objects>)"
      ]
     },
     "execution_count": 67,
     "metadata": {},
     "output_type": "execute_result"
    },
    {
     "data": {
      "image/png": "[encoded data removed]",
      "text/plain": [
       "<Figure size 432x288 with 1 Axes>"
      ]
     },
     "metadata": {
      "needs_background": "light"
     },
     "output_type": "display_data"
    }
   ],
   "source": [
    "plt.hist(EB,bins=20)"
   ]
  },
  {
   "cell_type": "code",
   "execution_count": null,
   "metadata": {},
   "outputs": [],
   "source": []
  }
 ],
 "metadata": {
  "kernelspec": {
   "display_name": "Python 3",
   "language": "python",
   "name": "python3"
  },
  "language_info": {
   "codemirror_mode": {
    "name": "ipython",
    "version": 3
   },
   "file_extension": ".py",
   "mimetype": "text/x-python",
   "name": "python",
   "nbconvert_exporter": "python",
   "pygments_lexer": "ipython3",
   "version": "3.6.8"
  }
 },
 "nbformat": 4,
 "nbformat_minor": 2
}
