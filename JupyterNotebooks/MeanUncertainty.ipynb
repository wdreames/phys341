{
 "cells": [
  {
   "cell_type": "code",
   "execution_count": 1,
   "metadata": {},
   "outputs": [],
   "source": [
    "# Import the required packages, \n",
    "# with their conventional names \n",
    "import matplotlib.pyplot as plt \n",
    "import numpy as np \n",
    "import scipy.stats as stats \n",
    "\n",
    "# Generate some data ... 3000 samples chosen from a Gaussian distribution with a mean of 100 and a sigma of 10.\n",
    "npts = 30\n",
    "mu = 100.0\n",
    "sigma = 10.0\n",
    "x = stats.norm.rvs(size=npts,loc=mu+2.0,scale=sigma)\n",
    "\n",
    "# calculate the sample mean, and the sample standard deviation (unbiased).\n",
    "xbar = np.mean(x)\n",
    "stdev = np.std(x,ddof=1)"
   ]
  },
  {
   "cell_type": "markdown",
   "metadata": {},
   "source": [
    "Let us return now to the notion of uncertainty.  We noted above that we can easily calculate the mean value\n",
    "of a sample of data.  The question is, then, how certain are we that this sample mean agrees with the population\n",
    "mean.  In other words, how close should xbar be to mu?\n",
    "\n",
    "The answer is: the quoted uncertainty in the mean depends on whether or not we know what $\\sigma$ is.\n",
    "\n",
    "If we know what $\\sigma$ is, then the uncertainty in the mean is $\\frac{\\sigma}{\\sqrt{N}}$\n",
    "\n",
    "If we do NOT know what sigma is, then the uncertainty in the mean is $\\frac{S}{\\sqrt{N}}$.  Recall that $S$ is our ESTIMATE of $\\sigma$ from the data sample."
   ]
  },
  {
   "cell_type": "code",
   "execution_count": 2,
   "metadata": {},
   "outputs": [
    {
     "name": "stdout",
     "output_type": "stream",
     "text": [
      "Estimate (known sigma) of mu:  104.30916124961537 +/- 1.8257418583505538\n",
      "Estimate (unknown sigma) of mu:  104.30916124961537 +/- 1.6999591388544748\n"
     ]
    }
   ],
   "source": [
    "delta_mu_known = sigma / np.sqrt(npts)\n",
    "delta_mu_unknown = stdev / np.sqrt(npts)\n",
    "\n",
    "print (\"Estimate (known sigma) of mu: \", xbar, \"+/-\",delta_mu_known)\n",
    "print (\"Estimate (unknown sigma) of mu: \", xbar, \"+/-\",delta_mu_unknown)"
   ]
  },
  {
   "cell_type": "code",
   "execution_count": 3,
   "metadata": {},
   "outputs": [
    {
     "name": "stdout",
     "output_type": "stream",
     "text": [
      "Estimate (known sigma) of mu: 104.31 +/- 1.83\n",
      "Estimate (unknown sigma) of mu: 104.31 +/- 1.70\n"
     ]
    }
   ],
   "source": [
    "# Let's reformat that output, so that it better reflects the uncertainties!!!\n",
    "\n",
    "print (\"Estimate (known sigma) of mu: %.2f +/- %.2f\" % (xbar,delta_mu_known))\n",
    "print (\"Estimate (unknown sigma) of mu: %.2f +/- %.2f\" % (xbar,delta_mu_unknown))"
   ]
  },
  {
   "cell_type": "markdown",
   "metadata": {},
   "source": [
    "Notes:\n",
    "\n",
    "1. Our estimate of the mean ($\\bar{x}$) appears to overlap with the population mean ($\\mu$) within the quoted uncertainty.\n",
    "2. When we do not know sigma, and have to esimate it from the data, the uncertainty in the mean increases.\n"
   ]
  },
  {
   "cell_type": "markdown",
   "metadata": {},
   "source": [
    "There is a lot more to this story, though!\n",
    "\n",
    "Let's think about what these results could be saying, or moreover what the result of any experiment can tell us.\n",
    "There are actually only four possiblities:\n",
    "\n",
    "1.  The population mean really is what we think it is (100.0), and we have sampled from it in an \n",
    "    unbiased way, because of good experiment design, and our results are in agreement with what     \n",
    "    we think the population mean is.  Life is good!\n",
    "    \n",
    "2.  The population mean really is what we think it is (100.0), and we have sampled from it in an \n",
    "    unbiased way, because of good experiment design, but unfortunately we just got unlucky, and\n",
    "    because of the random nature of sampling, our results indicate a disagreement, and tell us that\n",
    "    maybe the population mean isn't what we think it is.  This is known in statistics as TYPE I ERROR.\n",
    "    \n",
    "3.  The population mean is different from what we think it is, and and we have sampled from it in an \n",
    "    unbiased way, because of good experiment design.  Our results are consistent with the population\n",
    "    mean being different from what we thought it was, and we have discovered this disagreement.  Again,\n",
    "    life is good!\n",
    "    \n",
    "4.  The population mean is different from what we think it is, and and we have sampled from it in an \n",
    "    unbiased way, because of good experiment design.  However, our results are consistent with the\n",
    "    population being what we originally thought it was (100.0).  Thus, we have not uncovered the problem\n",
    "    that actually exists.  In other words, we again got \"unlucky\", because of random sampling. This is known\n",
    "    as a TYPE II ERROR."
   ]
  },
  {
   "cell_type": "markdown",
   "metadata": {},
   "source": [
    "In order to make appropriate calculations and comparisons, we will define a new variable, $z$, defined as:\n",
    "\n",
    "$z = \\frac{x-\\mu}{\\sigma}$\n",
    "\n",
    "In the case where one samples from a Gaussian distribution, the $z$ distribution will be a Gaussian distribution with a mean value of 0 and a standard deviation of 1.  Thus, the $z$ distribution will be THE SAME, irrespective of the specific values of $\\mu$ and $\\sigma$ in the experiment."
   ]
  },
  {
   "cell_type": "code",
   "execution_count": 4,
   "metadata": {},
   "outputs": [],
   "source": [
    "z = (x-mu)/sigma"
   ]
  },
  {
   "cell_type": "code",
   "execution_count": 5,
   "metadata": {},
   "outputs": [
    {
     "data": {
      "text/plain": [
       "(array([1., 0., 0., 0., 0., 0., 0., 0., 0., 0., 0., 0., 0., 0., 0., 1., 0.,\n",
       "        0., 0., 0., 0., 0., 0., 0., 0., 0., 1., 0., 1., 0., 0., 0., 0., 0.,\n",
       "        1., 1., 0., 0., 0., 1., 0., 0., 1., 0., 1., 0., 1., 1., 2., 0., 0.,\n",
       "        2., 0., 2., 0., 2., 0., 1., 0., 0., 0., 0., 0., 0., 1., 0., 0., 2.,\n",
       "        0., 0., 0., 2., 0., 1., 0., 0., 0., 0., 0., 0., 0., 0., 0., 1., 0.,\n",
       "        0., 1., 0., 0., 0., 0., 0., 1., 0., 0., 0., 0., 0., 0., 1.]),\n",
       " array([-1.83448952, -1.79240264, -1.75031576, -1.70822888, -1.66614199,\n",
       "        -1.62405511, -1.58196823, -1.53988135, -1.49779446, -1.45570758,\n",
       "        -1.4136207 , -1.37153382, -1.32944694, -1.28736005, -1.24527317,\n",
       "        -1.20318629, -1.16109941, -1.11901252, -1.07692564, -1.03483876,\n",
       "        -0.99275188, -0.95066499, -0.90857811, -0.86649123, -0.82440435,\n",
       "        -0.78231747, -0.74023058, -0.6981437 , -0.65605682, -0.61396994,\n",
       "        -0.57188305, -0.52979617, -0.48770929, -0.44562241, -0.40353553,\n",
       "        -0.36144864, -0.31936176, -0.27727488, -0.235188  , -0.19310111,\n",
       "        -0.15101423, -0.10892735, -0.06684047, -0.02475358,  0.0173333 ,\n",
       "         0.05942018,  0.10150706,  0.14359394,  0.18568083,  0.22776771,\n",
       "         0.26985459,  0.31194147,  0.35402836,  0.39611524,  0.43820212,\n",
       "         0.480289  ,  0.52237588,  0.56446277,  0.60654965,  0.64863653,\n",
       "         0.69072341,  0.7328103 ,  0.77489718,  0.81698406,  0.85907094,\n",
       "         0.90115783,  0.94324471,  0.98533159,  1.02741847,  1.06950535,\n",
       "         1.11159224,  1.15367912,  1.195766  ,  1.23785288,  1.27993977,\n",
       "         1.32202665,  1.36411353,  1.40620041,  1.44828729,  1.49037418,\n",
       "         1.53246106,  1.57454794,  1.61663482,  1.65872171,  1.70080859,\n",
       "         1.74289547,  1.78498235,  1.82706924,  1.86915612,  1.911243  ,\n",
       "         1.95332988,  1.99541676,  2.03750365,  2.07959053,  2.12167741,\n",
       "         2.16376429,  2.20585118,  2.24793806,  2.29002494,  2.33211182,\n",
       "         2.3741987 ]),\n",
       " <a list of 100 Patch objects>)"
      ]
     },
     "execution_count": 5,
     "metadata": {},
     "output_type": "execute_result"
    },
    {
     "data": {
      "image/png": "[encoded data removed]",
      "text/plain": [
       "<Figure size 432x288 with 1 Axes>"
      ]
     },
     "metadata": {
      "needs_background": "light"
     },
     "output_type": "display_data"
    }
   ],
   "source": [
    "nbins = 100\n",
    "plt.hist(z,bins=nbins)"
   ]
  },
  {
   "cell_type": "markdown",
   "metadata": {},
   "source": [
    "Question:  What is the probability that for a single measurement of x, that we get a value that is within $\\pm \\sigma$ of $\\mu$?"
   ]
  },
  {
   "cell_type": "markdown",
   "metadata": {},
   "source": [
    "Answer:  It is the integrated probability between $z = -1$ and $z=1$.  As the $z$ distribution is well known, this is easily calculable!"
   ]
  },
  {
   "cell_type": "code",
   "execution_count": 6,
   "metadata": {},
   "outputs": [
    {
     "name": "stdout",
     "output_type": "stream",
     "text": [
      "0.8413447460685429 0.15865525393145707\n",
      "0.6826894921370859\n",
      "This means that there is about a 68% probability of measusing a value in the interval.\n"
     ]
    }
   ],
   "source": [
    "# Get the integral from -infinity to -1.0\n",
    "#\n",
    "# We will use the cdf method (Cumulative Distribution Function) for the standardized normal/Gaussian distribution\n",
    "# (i.e. the z distribution) within\n",
    "# the scipy.stats package.  The cumulative distribution function is DEFINED to give the integral of the distribution\n",
    "# from -infinity up to the specified value.\n",
    "\n",
    "integral_minus = stats.norm.cdf(-1.0)\n",
    "# Get the integral from -infinity to 1.0\n",
    "integral_plus = stats.norm.cdf(1.0)\n",
    "\n",
    "print(integral_plus,integral_minus)\n",
    "\n",
    "# Calculate the integral between the two limits\n",
    "integral_between = integral_plus - integral_minus\n",
    "\n",
    "print(integral_between)\n",
    "\n",
    "print(\"This means that there is about a 68% probability of measusing a value in the interval.\")"
   ]
  },
  {
   "cell_type": "code",
   "execution_count": 7,
   "metadata": {},
   "outputs": [
    {
     "name": "stdout",
     "output_type": "stream",
     "text": [
      "0.9772498680518208 0.022750131948179195\n",
      "0.9544997361036416\n",
      "This means that there is about a 95% probability of measusing a value in the interval.\n"
     ]
    }
   ],
   "source": [
    "integral_minus = stats.norm.cdf(-2.0)\n",
    "integral_plus = stats.norm.cdf(2.0)\n",
    "\n",
    "print(integral_plus,integral_minus)\n",
    "\n",
    "integral_between = integral_plus - integral_minus\n",
    "\n",
    "print(integral_between)\n",
    "\n",
    "print(\"This means that there is about a 95% probability of measusing a value in the interval.\")"
   ]
  },
  {
   "cell_type": "code",
   "execution_count": 8,
   "metadata": {},
   "outputs": [
    {
     "name": "stdout",
     "output_type": "stream",
     "text": [
      "0.9986501019683699 0.0013498980316300933\n",
      "0.9973002039367398\n",
      "This means that there is about a 99.7% probability of measusing a value in the interval.\n"
     ]
    }
   ],
   "source": [
    "integral_minus = stats.norm.cdf(-3.0)\n",
    "integral_plus = stats.norm.cdf(3.0)\n",
    "\n",
    "print(integral_plus,integral_minus)\n",
    "\n",
    "integral_between = integral_plus - integral_minus\n",
    "\n",
    "print(integral_between)\n",
    "\n",
    "print(\"This means that there is about a 99.7% probability of measusing a value in the interval.\")"
   ]
  },
  {
   "cell_type": "code",
   "execution_count": 9,
   "metadata": {},
   "outputs": [
    {
     "name": "stdout",
     "output_type": "stream",
     "text": [
      "0.9999999990134123 9.865876450376946e-10\n",
      "0.9999999980268246\n",
      "This means that there is about a 99.9999998% probability of measusing a value in the interval.\n",
      "In other words, there is 0.0000002% probability, or 1 chance in 500,000,000 of getting a value outside of these limits.\n"
     ]
    }
   ],
   "source": [
    "integral_minus = stats.norm.cdf(-6.0)\n",
    "integral_plus = stats.norm.cdf(6.0)\n",
    "\n",
    "print(integral_plus,integral_minus)\n",
    "\n",
    "integral_between = integral_plus - integral_minus\n",
    "\n",
    "print(integral_between)\n",
    "\n",
    "print(\"This means that there is about a 99.9999998% probability of measusing a value in the interval.\")\n",
    "\n",
    "print (\"In other words, there is 0.0000002% probability, or 1 chance in 500,000,000 of getting a value outside of these limits.\")"
   ]
  },
  {
   "cell_type": "code",
   "execution_count": 10,
   "metadata": {},
   "outputs": [
    {
     "data": {
      "text/plain": [
       "(array([0., 0., 0., 0., 0., 0., 0., 0., 0., 0., 0., 0., 0., 0., 0., 0., 0.,\n",
       "        0., 0., 0., 0., 0., 0., 0., 0., 0., 0., 0., 0., 0., 0., 0., 0., 0.,\n",
       "        0., 0., 0., 0., 0., 0., 0., 0., 0., 0., 0., 0., 0., 0., 0., 0., 0.,\n",
       "        0., 0., 0., 0., 0., 0., 0., 0., 0., 0., 0., 0., 0., 0., 0., 0., 0.,\n",
       "        0., 0., 0., 2., 0., 1., 0., 0., 0., 0., 0., 0., 0., 0., 0., 1., 0.,\n",
       "        0., 1., 0., 0., 0., 0., 0., 1., 0., 0., 0., 0., 0., 0., 1.]),\n",
       " array([ 81.65510477,  82.0759736 ,  82.49684242,  82.91771124,\n",
       "         83.33858006,  83.75944889,  84.18031771,  84.60118653,\n",
       "         85.02205535,  85.44292418,  85.863793  ,  86.28466182,\n",
       "         86.70553065,  87.12639947,  87.54726829,  87.96813711,\n",
       "         88.38900594,  88.80987476,  89.23074358,  89.6516124 ,\n",
       "         90.07248123,  90.49335005,  90.91421887,  91.3350877 ,\n",
       "         91.75595652,  92.17682534,  92.59769416,  93.01856299,\n",
       "         93.43943181,  93.86030063,  94.28116946,  94.70203828,\n",
       "         95.1229071 ,  95.54377592,  95.96464475,  96.38551357,\n",
       "         96.80638239,  97.22725121,  97.64812004,  98.06898886,\n",
       "         98.48985768,  98.91072651,  99.33159533,  99.75246415,\n",
       "        100.17333297, 100.5942018 , 101.01507062, 101.43593944,\n",
       "        101.85680826, 102.27767709, 102.69854591, 103.11941473,\n",
       "        103.54028356, 103.96115238, 104.3820212 , 104.80289002,\n",
       "        105.22375885, 105.64462767, 106.06549649, 106.48636532,\n",
       "        106.90723414, 107.32810296, 107.74897178, 108.16984061,\n",
       "        108.59070943, 109.01157825, 109.43244707, 109.8533159 ,\n",
       "        110.27418472, 110.69505354, 111.11592237, 111.53679119,\n",
       "        111.95766001, 112.37852883, 112.79939766, 113.22026648,\n",
       "        113.6411353 , 114.06200412, 114.48287295, 114.90374177,\n",
       "        115.32461059, 115.74547942, 116.16634824, 116.58721706,\n",
       "        117.00808588, 117.42895471, 117.84982353, 118.27069235,\n",
       "        118.69156118, 119.11243   , 119.53329882, 119.95416764,\n",
       "        120.37503647, 120.79590529, 121.21677411, 121.63764293,\n",
       "        122.05851176, 122.47938058, 122.9002494 , 123.32111823,\n",
       "        123.74198705]),\n",
       " <a list of 100 Patch objects>)"
      ]
     },
     "execution_count": 10,
     "metadata": {},
     "output_type": "execute_result"
    },
    {
     "data": {
      "image/png": "[encoded data removed]",
      "text/plain": [
       "<Figure size 432x288 with 1 Axes>"
      ]
     },
     "metadata": {
      "needs_background": "light"
     },
     "output_type": "display_data"
    }
   ],
   "source": [
    "xlow = x[(x<(mu-sigma))]\n",
    "xhigh = x[(x>(mu+sigma))]\n",
    "\n",
    "bins=np.histogram(np.hstack((x,xlow,xhigh)), bins=nbins)[1] #get the bin edges\n",
    "\n",
    "plt.hist(x,bins)\n",
    "plt.hist(xlow,bins)\n",
    "plt.hist(xhigh,bins)"
   ]
  },
  {
   "cell_type": "code",
   "execution_count": 11,
   "metadata": {},
   "outputs": [
    {
     "data": {
      "text/plain": [
       "(array([0., 0., 0., 0., 0., 0., 0., 0., 0., 0., 0., 0., 0., 0., 0., 0., 0.,\n",
       "        0., 0., 0., 0., 0., 0., 0., 0., 0., 0., 0., 0., 0., 0., 0., 0., 0.,\n",
       "        0., 0., 0., 0., 0., 0., 0., 0., 0., 0., 0., 0., 0., 0., 0., 0., 0.,\n",
       "        0., 0., 0., 0., 0., 0., 0., 0., 0., 0., 0., 0., 0., 0., 0., 0., 0.,\n",
       "        0., 0., 0., 0., 0., 0., 0., 0., 0., 0., 0., 0., 0., 0., 0., 0., 0.,\n",
       "        0., 0., 0., 0., 0., 0., 0., 1., 0., 0., 0., 0., 0., 0., 1.]),\n",
       " array([ 81.65510477,  82.0759736 ,  82.49684242,  82.91771124,\n",
       "         83.33858006,  83.75944889,  84.18031771,  84.60118653,\n",
       "         85.02205535,  85.44292418,  85.863793  ,  86.28466182,\n",
       "         86.70553065,  87.12639947,  87.54726829,  87.96813711,\n",
       "         88.38900594,  88.80987476,  89.23074358,  89.6516124 ,\n",
       "         90.07248123,  90.49335005,  90.91421887,  91.3350877 ,\n",
       "         91.75595652,  92.17682534,  92.59769416,  93.01856299,\n",
       "         93.43943181,  93.86030063,  94.28116946,  94.70203828,\n",
       "         95.1229071 ,  95.54377592,  95.96464475,  96.38551357,\n",
       "         96.80638239,  97.22725121,  97.64812004,  98.06898886,\n",
       "         98.48985768,  98.91072651,  99.33159533,  99.75246415,\n",
       "        100.17333297, 100.5942018 , 101.01507062, 101.43593944,\n",
       "        101.85680826, 102.27767709, 102.69854591, 103.11941473,\n",
       "        103.54028356, 103.96115238, 104.3820212 , 104.80289002,\n",
       "        105.22375885, 105.64462767, 106.06549649, 106.48636532,\n",
       "        106.90723414, 107.32810296, 107.74897178, 108.16984061,\n",
       "        108.59070943, 109.01157825, 109.43244707, 109.8533159 ,\n",
       "        110.27418472, 110.69505354, 111.11592237, 111.53679119,\n",
       "        111.95766001, 112.37852883, 112.79939766, 113.22026648,\n",
       "        113.6411353 , 114.06200412, 114.48287295, 114.90374177,\n",
       "        115.32461059, 115.74547942, 116.16634824, 116.58721706,\n",
       "        117.00808588, 117.42895471, 117.84982353, 118.27069235,\n",
       "        118.69156118, 119.11243   , 119.53329882, 119.95416764,\n",
       "        120.37503647, 120.79590529, 121.21677411, 121.63764293,\n",
       "        122.05851176, 122.47938058, 122.9002494 , 123.32111823,\n",
       "        123.74198705]),\n",
       " <a list of 100 Patch objects>)"
      ]
     },
     "execution_count": 11,
     "metadata": {},
     "output_type": "execute_result"
    },
    {
     "data": {
      "image/png": "[encoded data removed]",
      "text/plain": [
       "<Figure size 432x288 with 1 Axes>"
      ]
     },
     "metadata": {
      "needs_background": "light"
     },
     "output_type": "display_data"
    }
   ],
   "source": [
    "xlow = x[(x<(mu-2.0*sigma))]\n",
    "xhigh = x[(x>(mu+2.0*sigma))]\n",
    "\n",
    "bins=np.histogram(np.hstack((x,xlow,xhigh)), bins=nbins)[1] #get the bin edges\n",
    "\n",
    "plt.hist(x,bins)\n",
    "plt.hist(xlow,bins)\n",
    "plt.hist(xhigh,bins)\n"
   ]
  },
  {
   "cell_type": "code",
   "execution_count": 12,
   "metadata": {},
   "outputs": [
    {
     "data": {
      "text/plain": [
       "(array([0., 0., 0., 0., 0., 0., 0., 0., 0., 0., 0., 0., 0., 0., 0., 0., 0.,\n",
       "        0., 0., 0., 0., 0., 0., 0., 0., 0., 0., 0., 0., 0., 0., 0., 0., 0.,\n",
       "        0., 0., 0., 0., 0., 0., 0., 0., 0., 0., 0., 0., 0., 0., 0., 0., 0.,\n",
       "        0., 0., 0., 0., 0., 0., 0., 0., 0., 0., 0., 0., 0., 0., 0., 0., 0.,\n",
       "        0., 0., 0., 0., 0., 0., 0., 0., 0., 0., 0., 0., 0., 0., 0., 0., 0.,\n",
       "        0., 0., 0., 0., 0., 0., 0., 0., 0., 0., 0., 0., 0., 0., 0.]),\n",
       " array([ 81.65510477,  82.0759736 ,  82.49684242,  82.91771124,\n",
       "         83.33858006,  83.75944889,  84.18031771,  84.60118653,\n",
       "         85.02205535,  85.44292418,  85.863793  ,  86.28466182,\n",
       "         86.70553065,  87.12639947,  87.54726829,  87.96813711,\n",
       "         88.38900594,  88.80987476,  89.23074358,  89.6516124 ,\n",
       "         90.07248123,  90.49335005,  90.91421887,  91.3350877 ,\n",
       "         91.75595652,  92.17682534,  92.59769416,  93.01856299,\n",
       "         93.43943181,  93.86030063,  94.28116946,  94.70203828,\n",
       "         95.1229071 ,  95.54377592,  95.96464475,  96.38551357,\n",
       "         96.80638239,  97.22725121,  97.64812004,  98.06898886,\n",
       "         98.48985768,  98.91072651,  99.33159533,  99.75246415,\n",
       "        100.17333297, 100.5942018 , 101.01507062, 101.43593944,\n",
       "        101.85680826, 102.27767709, 102.69854591, 103.11941473,\n",
       "        103.54028356, 103.96115238, 104.3820212 , 104.80289002,\n",
       "        105.22375885, 105.64462767, 106.06549649, 106.48636532,\n",
       "        106.90723414, 107.32810296, 107.74897178, 108.16984061,\n",
       "        108.59070943, 109.01157825, 109.43244707, 109.8533159 ,\n",
       "        110.27418472, 110.69505354, 111.11592237, 111.53679119,\n",
       "        111.95766001, 112.37852883, 112.79939766, 113.22026648,\n",
       "        113.6411353 , 114.06200412, 114.48287295, 114.90374177,\n",
       "        115.32461059, 115.74547942, 116.16634824, 116.58721706,\n",
       "        117.00808588, 117.42895471, 117.84982353, 118.27069235,\n",
       "        118.69156118, 119.11243   , 119.53329882, 119.95416764,\n",
       "        120.37503647, 120.79590529, 121.21677411, 121.63764293,\n",
       "        122.05851176, 122.47938058, 122.9002494 , 123.32111823,\n",
       "        123.74198705]),\n",
       " <a list of 100 Patch objects>)"
      ]
     },
     "execution_count": 12,
     "metadata": {},
     "output_type": "execute_result"
    },
    {
     "data": {
      "image/png": "[encoded data removed]",
      "text/plain": [
       "<Figure size 432x288 with 1 Axes>"
      ]
     },
     "metadata": {
      "needs_background": "light"
     },
     "output_type": "display_data"
    }
   ],
   "source": [
    "xlow = x[(x<(mu-3.0*sigma))]\n",
    "xhigh = x[(x>(mu+3.0*sigma))]\n",
    "\n",
    "bins=np.histogram(np.hstack((x,xlow,xhigh)), bins=nbins)[1] #get the bin edges\n",
    "\n",
    "plt.hist(x,bins)\n",
    "plt.hist(xlow,bins)\n",
    "plt.hist(xhigh,bins)"
   ]
  },
  {
   "cell_type": "markdown",
   "metadata": {},
   "source": [
    "Now, we will ask a different question:  What is the z-distribution associated with the MEAN of the original data distribution?\n",
    "\n",
    "Note that in our definition of $z$ above, we are comparing an individual data point ($x_i$) with the population mean ($\\mu$), and the dividing that quantity by $\\sigma$, which is representative of the \"width\" of the distribution.\n",
    "\n",
    "For the z-distribution associated with the MEAN of the data distribution, we will define $z$ similarly:\n",
    "\n",
    "$z = \\frac{\\bar{x} - \\mu}{\\frac{\\sigma}{\\sqrt{N}}} $\n",
    "\n",
    "As you can see, we will compare the $sample$ mean ($\\bar{x}$) to the population mean ($\\mu$), and then divide by the uncertainty in the sample mean ($\\frac{\\sigma}{\\sqrt{N}}$).\n",
    "\n"
   ]
  },
  {
   "cell_type": "code",
   "execution_count": 13,
   "metadata": {},
   "outputs": [
    {
     "name": "stdout",
     "output_type": "stream",
     "text": [
      "Z score =  2.3602248203414886\n"
     ]
    }
   ],
   "source": [
    "sem = sigma/np.sqrt(npts)\n",
    "zscore = (xbar-mu)/sem\n",
    "\n",
    "print (\"Z score = \",zscore)"
   ]
  },
  {
   "cell_type": "markdown",
   "metadata": {},
   "source": [
    "So, what does this mean?  Well, it means that the sample mean that we measured ($\\bar{x}$) is lower than the predicted mean ($\\mu$) by a small amount (0.90 x the predicted uncertainty).\n",
    "\n",
    "The fundamental question is:  is this difference enough to matter?  Is there a problem?  In order to answer these questions, there are several things that we have to ask ourselves first:\n",
    "\n",
    "1.  What question are we asking?  There are three possibilities:\n",
    "\n",
    "(i) Are the data consistent with ${\\bar x} = \\mu$?\n",
    "\n",
    "(ii) Are the data consistent with ${\\bar x} \\ge \\mu$?\n",
    "\n",
    "(iii) Are the data consistent with ${\\bar x} \\le \\mu$?\n",
    "\n",
    "\n",
    "2.  How large must the deviation between $\\bar{x}$ and $\\mu$ be before we say that there is a problem?  This approach is known as the 'null hypothesis\" approach.  We assume that there is no problem, and then look for evidence that there is a problem.\n",
    "\n",
    "The level of required deviation that we require in order to report that there is a problem (i.e. we REJECT the null hypothesis) is known as the TYPE I ERROR PROBABILITY, $\\alpha$.\n",
    "\n",
    "Essentially, the probability $\\alpha$ is this: it is the probability that there is NOT a problem (i.e. $\\mu$ really is what we think it is) but we just got unlucky, statistically, and measured a value of $\\bar{x}$ that indicates that $\\mu$ is different than what we think it is.\n",
    "\n",
    "Let us consider the three cases noted above:\n",
    "\n",
    "Case 1:  \n",
    "\n",
    "We assume that we are sampling from a population that is consistent with our expected value of $\\mu$. In this instance, there is a probability $\\frac{\\alpha}{2}$ that we will measure a value of $z$ that is greater\n",
    "than some critical value, and a probability $\\frac{\\alpha}{2}$ that we will measure a value of $z$ that is lower\n",
    "than some critical value.\n",
    "\n",
    "In order to understand this, imagine doing the experiment many times.  Each time, we sample a certain number of points from the distribution, and we can calculate a value of $\\bar{x}$ for that sample.  We can also calculate\n",
    "a value of $z$ for that value of $\\bar{x}$.  If we then look at the distribution of $z$ values, we expect to get\n",
    "a Gaussian distribution with a centroid of zero, and a $\\sigma$ of 1.\n",
    "\n",
    "The critical z values will be described the the following equations:\n",
    "\n",
    "$\\int_{-\\infty}^{z_{lower}} P(z) dz = \\frac{\\alpha}{2} $\n",
    "\n",
    "$\\int_{-\\infty}^{z_{upper}} P(z) dz = 1 - \\frac{\\alpha}{2} $"
   ]
  },
  {
   "cell_type": "code",
   "execution_count": 14,
   "metadata": {},
   "outputs": [
    {
     "name": "stdout",
     "output_type": "stream",
     "text": [
      "Lower and Upper Critical Z Values:  -1.9599639845400545 1.959963984540054\n",
      "Lower and Upper Critical Xbar Values:  96.42161171256568 103.57838828743431\n"
     ]
    }
   ],
   "source": [
    "# Calculate the upper and lower critical z values, based on our choice of alpha\n",
    "\n",
    "alpha = 0.05\n",
    "\n",
    "zLower = stats.norm.ppf(alpha/2.0)\n",
    "\n",
    "zUpper = stats.norm.ppf(1-alpha/2.0)\n",
    "\n",
    "print (\"Lower and Upper Critical Z Values: \",zLower,zUpper)\n",
    "\n",
    "# calculate the critical upper and lower xbar values, based on these z values\n",
    "\n",
    "xbarUpper = mu + zUpper*sem\n",
    "xbarLower = mu + zLower*sem\n",
    "\n",
    "print (\"Lower and Upper Critical Xbar Values: \",xbarLower, xbarUpper)"
   ]
  },
  {
   "cell_type": "code",
   "execution_count": 15,
   "metadata": {},
   "outputs": [
    {
     "data": {
      "text/plain": [
       "(array([  0.,   0.,   0.,   0.,   0.,   0.,   0.,   0.,   0.,   0.,   0.,\n",
       "          0.,   0.,   0.,   0.,   0.,   0.,   0.,   0.,   0.,   0.,   0.,\n",
       "          0.,   0.,   0.,   0.,   0.,   0.,   0.,   0.,   0.,   0.,   0.,\n",
       "          0.,   0.,   0.,   0.,   0.,   0.,   0.,   0.,   0.,   0.,   0.,\n",
       "          0.,   0.,   0.,   0.,   0.,   0.,   0.,   0.,   0.,   0.,   0.,\n",
       "          0.,   0.,   0.,   0.,   0.,   0.,   0.,   0.,   0.,   0.,   0.,\n",
       "          0.,   0., 184., 451., 384., 331., 236., 188., 165., 138., 118.,\n",
       "         85.,  65.,  50.,  43.,  31.,  21.,  13.,  13.,   7.,   9.,   3.,\n",
       "          4.,   0.,   3.,   1.,   1.,   1.,   2.,   0.,   0.,   0.,   0.,\n",
       "          1.]),\n",
       " array([-4.20800875, -4.11817262, -4.0283365 , -3.93850038, -3.84866426,\n",
       "        -3.75882814, -3.66899201, -3.57915589, -3.48931977, -3.39948365,\n",
       "        -3.30964753, -3.21981141, -3.12997528, -3.04013916, -2.95030304,\n",
       "        -2.86046692, -2.7706308 , -2.68079467, -2.59095855, -2.50112243,\n",
       "        -2.41128631, -2.32145019, -2.23161406, -2.14177794, -2.05194182,\n",
       "        -1.9621057 , -1.87226958, -1.78243345, -1.69259733, -1.60276121,\n",
       "        -1.51292509, -1.42308897, -1.33325284, -1.24341672, -1.1535806 ,\n",
       "        -1.06374448, -0.97390836, -0.88407223, -0.79423611, -0.70439999,\n",
       "        -0.61456387, -0.52472775, -0.43489162, -0.3450555 , -0.25521938,\n",
       "        -0.16538326, -0.07554714,  0.01428899,  0.10412511,  0.19396123,\n",
       "         0.28379735,  0.37363347,  0.4634696 ,  0.55330572,  0.64314184,\n",
       "         0.73297796,  0.82281408,  0.91265021,  1.00248633,  1.09232245,\n",
       "         1.18215857,  1.27199469,  1.36183082,  1.45166694,  1.54150306,\n",
       "         1.63133918,  1.7211753 ,  1.81101143,  1.90084755,  1.99068367,\n",
       "         2.08051979,  2.17035591,  2.26019204,  2.35002816,  2.43986428,\n",
       "         2.5297004 ,  2.61953652,  2.70937265,  2.79920877,  2.88904489,\n",
       "         2.97888101,  3.06871713,  3.15855326,  3.24838938,  3.3382255 ,\n",
       "         3.42806162,  3.51789774,  3.60773387,  3.69756999,  3.78740611,\n",
       "         3.87724223,  3.96707835,  4.05691447,  4.1467506 ,  4.23658672,\n",
       "         4.32642284,  4.41625896,  4.50609508,  4.59593121,  4.68576733,\n",
       "         4.77560345]),\n",
       " <a list of 100 Patch objects>)"
      ]
     },
     "execution_count": 15,
     "metadata": {},
     "output_type": "execute_result"
    },
    {
     "data": {
      "image/png": "[encoded data removed]",
      "text/plain": [
       "<Figure size 432x288 with 1 Axes>"
      ]
     },
     "metadata": {
      "needs_background": "light"
     },
     "output_type": "display_data"
    }
   ],
   "source": [
    "# We will take a sample of 3000 points from a Gaussian distribution with mu=100.0 and sigma=10.0, \n",
    "# and each time we do this, we will calculate xbar.  Then, we will calculate the z value corresponding \n",
    "# to that value of xbar.   Finally, we will create a histogram of these z-values.\n",
    "\n",
    "xbararray = []\n",
    "\n",
    "# perform the experiment 100000 times\n",
    "for i in range(100000):\n",
    "    x = stats.norm.rvs(size=npts,loc=mu,scale=sigma)\n",
    "    xbararray.append(np.mean(x))\n",
    "    \n",
    "xbararray = np.array(xbararray)\n",
    "zscorearray = (xbararray-mu)/sem\n",
    "        \n",
    "zlow = zscorearray[(zscorearray<zLower)]\n",
    "zhigh = zscorearray[(zscorearray>zUpper)]\n",
    "\n",
    "bins=np.histogram(np.hstack((zscorearray,zlow,zhigh)), bins=nbins)[1] #get the bin edges\n",
    "\n",
    "plt.hist(zscorearray,bins)\n",
    "plt.hist(zlow,bins)\n",
    "plt.hist(zhigh,bins)"
   ]
  },
  {
   "cell_type": "markdown",
   "metadata": {},
   "source": [
    "Case 2:  \n",
    "\n",
    "We assume that we are sampling from a population that is consistent with our expected value of $\\mu$. In this instance, there is a probability $\\alpha$ that we will measure a value of $z$ that is lower\n",
    "than some critical value.\n",
    "\n",
    "The critical z value will be described the the following equations:\n",
    "\n",
    "$\\int_{-\\infty}^{z_{critical}} P(z) dz = \\alpha $"
   ]
  },
  {
   "cell_type": "code",
   "execution_count": 16,
   "metadata": {},
   "outputs": [
    {
     "name": "stdout",
     "output_type": "stream",
     "text": [
      "Critical Z value:  -1.6448536269514729\n",
      "Critical Xbar value:  96.99692188241497\n"
     ]
    },
    {
     "data": {
      "text/plain": [
       "(array([  2.,   1.,   2.,   1.,   2.,   5.,   3.,   5.,   9.,  14.,  21.,\n",
       "         20.,  35.,  54.,  48.,  69.,  72., 118., 144., 178., 229., 248.,\n",
       "        365., 379., 459., 570., 719., 784., 474.,   0.,   0.,   0.,   0.,\n",
       "          0.,   0.,   0.,   0.,   0.,   0.,   0.,   0.,   0.,   0.,   0.,\n",
       "          0.,   0.,   0.,   0.,   0.,   0.,   0.,   0.,   0.,   0.,   0.,\n",
       "          0.,   0.,   0.,   0.,   0.,   0.,   0.,   0.,   0.,   0.,   0.,\n",
       "          0.,   0.,   0.,   0.,   0.,   0.,   0.,   0.,   0.,   0.,   0.,\n",
       "          0.,   0.,   0.,   0.,   0.,   0.,   0.,   0.,   0.,   0.,   0.,\n",
       "          0.,   0.,   0.,   0.,   0.,   0.,   0.,   0.,   0.,   0.,   0.,\n",
       "          0.]),\n",
       " array([-4.20800875, -4.11817262, -4.0283365 , -3.93850038, -3.84866426,\n",
       "        -3.75882814, -3.66899201, -3.57915589, -3.48931977, -3.39948365,\n",
       "        -3.30964753, -3.21981141, -3.12997528, -3.04013916, -2.95030304,\n",
       "        -2.86046692, -2.7706308 , -2.68079467, -2.59095855, -2.50112243,\n",
       "        -2.41128631, -2.32145019, -2.23161406, -2.14177794, -2.05194182,\n",
       "        -1.9621057 , -1.87226958, -1.78243345, -1.69259733, -1.60276121,\n",
       "        -1.51292509, -1.42308897, -1.33325284, -1.24341672, -1.1535806 ,\n",
       "        -1.06374448, -0.97390836, -0.88407223, -0.79423611, -0.70439999,\n",
       "        -0.61456387, -0.52472775, -0.43489162, -0.3450555 , -0.25521938,\n",
       "        -0.16538326, -0.07554714,  0.01428899,  0.10412511,  0.19396123,\n",
       "         0.28379735,  0.37363347,  0.4634696 ,  0.55330572,  0.64314184,\n",
       "         0.73297796,  0.82281408,  0.91265021,  1.00248633,  1.09232245,\n",
       "         1.18215857,  1.27199469,  1.36183082,  1.45166694,  1.54150306,\n",
       "         1.63133918,  1.7211753 ,  1.81101143,  1.90084755,  1.99068367,\n",
       "         2.08051979,  2.17035591,  2.26019204,  2.35002816,  2.43986428,\n",
       "         2.5297004 ,  2.61953652,  2.70937265,  2.79920877,  2.88904489,\n",
       "         2.97888101,  3.06871713,  3.15855326,  3.24838938,  3.3382255 ,\n",
       "         3.42806162,  3.51789774,  3.60773387,  3.69756999,  3.78740611,\n",
       "         3.87724223,  3.96707835,  4.05691447,  4.1467506 ,  4.23658672,\n",
       "         4.32642284,  4.41625896,  4.50609508,  4.59593121,  4.68576733,\n",
       "         4.77560345]),\n",
       " <a list of 100 Patch objects>)"
      ]
     },
     "execution_count": 16,
     "metadata": {},
     "output_type": "execute_result"
    },
    {
     "data": {
      "image/png": "[encoded data removed]",
      "text/plain": [
       "<Figure size 432x288 with 1 Axes>"
      ]
     },
     "metadata": {
      "needs_background": "light"
     },
     "output_type": "display_data"
    }
   ],
   "source": [
    "zCritical = stats.norm.ppf(alpha)\n",
    "\n",
    "print (\"Critical Z value: \",zCritical)\n",
    "\n",
    "# calculate the critical lower xbar value, based on this z value\n",
    "\n",
    "xbarLower = mu + zCritical*sem\n",
    "\n",
    "print (\"Critical Xbar value: \",xbarLower)\n",
    "\n",
    "zlow = zscorearray[(zscorearray<zCritical)]\n",
    "\n",
    "bins=np.histogram(np.hstack((zscorearray,zlow)), bins=nbins)[1] #get the bin edges\n",
    "\n",
    "plt.hist(zscorearray,bins)\n",
    "plt.hist(zlow,bins)"
   ]
  },
  {
   "cell_type": "markdown",
   "metadata": {},
   "source": [
    "Case 3:  \n",
    "\n",
    "We assume that we are sampling from a population that is consistent with our expected value of $\\mu$. In this instance, there is a probability $\\alpha$ that we will measure a value of $z$ that is higher\n",
    "than some critical value.\n",
    "\n",
    "The critical z value will be described the the following equations:\n",
    "\n",
    "$\\int_{-\\infty}^{z_{critical}} P(z) dz = 1-\\alpha $"
   ]
  },
  {
   "cell_type": "code",
   "execution_count": 17,
   "metadata": {},
   "outputs": [
    {
     "name": "stdout",
     "output_type": "stream",
     "text": [
      "Critical Z value:  1.6448536269514722\n",
      "Critical Xbar value:  103.00307811758503\n"
     ]
    },
    {
     "data": {
      "text/plain": [
       "(array([  0.,   0.,   0.,   0.,   0.,   0.,   0.,   0.,   0.,   0.,   0.,\n",
       "          0.,   0.,   0.,   0.,   0.,   0.,   0.,   0.,   0.,   0.,   0.,\n",
       "          0.,   0.,   0.,   0.,   0.,   0.,   0.,   0.,   0.,   0.,   0.,\n",
       "          0.,   0.,   0.,   0.,   0.,   0.,   0.,   0.,   0.,   0.,   0.,\n",
       "          0.,   0.,   0.,   0.,   0.,   0.,   0.,   0.,   0.,   0.,   0.,\n",
       "          0.,   0.,   0.,   0.,   0.,   0.,   0.,   0.,   0.,   0., 739.,\n",
       "        735., 632., 516., 451., 384., 331., 236., 188., 165., 138., 118.,\n",
       "         85.,  65.,  50.,  43.,  31.,  21.,  13.,  13.,   7.,   9.,   3.,\n",
       "          4.,   0.,   3.,   1.,   1.,   1.,   2.,   0.,   0.,   0.,   0.,\n",
       "          1.]),\n",
       " array([-4.20800875, -4.11817262, -4.0283365 , -3.93850038, -3.84866426,\n",
       "        -3.75882814, -3.66899201, -3.57915589, -3.48931977, -3.39948365,\n",
       "        -3.30964753, -3.21981141, -3.12997528, -3.04013916, -2.95030304,\n",
       "        -2.86046692, -2.7706308 , -2.68079467, -2.59095855, -2.50112243,\n",
       "        -2.41128631, -2.32145019, -2.23161406, -2.14177794, -2.05194182,\n",
       "        -1.9621057 , -1.87226958, -1.78243345, -1.69259733, -1.60276121,\n",
       "        -1.51292509, -1.42308897, -1.33325284, -1.24341672, -1.1535806 ,\n",
       "        -1.06374448, -0.97390836, -0.88407223, -0.79423611, -0.70439999,\n",
       "        -0.61456387, -0.52472775, -0.43489162, -0.3450555 , -0.25521938,\n",
       "        -0.16538326, -0.07554714,  0.01428899,  0.10412511,  0.19396123,\n",
       "         0.28379735,  0.37363347,  0.4634696 ,  0.55330572,  0.64314184,\n",
       "         0.73297796,  0.82281408,  0.91265021,  1.00248633,  1.09232245,\n",
       "         1.18215857,  1.27199469,  1.36183082,  1.45166694,  1.54150306,\n",
       "         1.63133918,  1.7211753 ,  1.81101143,  1.90084755,  1.99068367,\n",
       "         2.08051979,  2.17035591,  2.26019204,  2.35002816,  2.43986428,\n",
       "         2.5297004 ,  2.61953652,  2.70937265,  2.79920877,  2.88904489,\n",
       "         2.97888101,  3.06871713,  3.15855326,  3.24838938,  3.3382255 ,\n",
       "         3.42806162,  3.51789774,  3.60773387,  3.69756999,  3.78740611,\n",
       "         3.87724223,  3.96707835,  4.05691447,  4.1467506 ,  4.23658672,\n",
       "         4.32642284,  4.41625896,  4.50609508,  4.59593121,  4.68576733,\n",
       "         4.77560345]),\n",
       " <a list of 100 Patch objects>)"
      ]
     },
     "execution_count": 17,
     "metadata": {},
     "output_type": "execute_result"
    },
    {
     "data": {
      "image/png": "[encoded data removed]",
      "text/plain": [
       "<Figure size 432x288 with 1 Axes>"
      ]
     },
     "metadata": {
      "needs_background": "light"
     },
     "output_type": "display_data"
    }
   ],
   "source": [
    "zCritical = stats.norm.ppf(1.0-alpha)\n",
    "\n",
    "print (\"Critical Z value: \",zCritical)\n",
    "\n",
    "# calculate the critical upper xbar value, based on this z value\n",
    "\n",
    "xbarUpper = mu + zCritical*sem\n",
    "\n",
    "print (\"Critical Xbar value: \",xbarUpper)\n",
    "\n",
    "zlow = zscorearray[(zscorearray>zCritical)]\n",
    "\n",
    "bins=np.histogram(np.hstack((zscorearray,zlow)), bins=nbins)[1] #get the bin edges\n",
    "\n",
    "plt.hist(zscorearray,bins)\n",
    "plt.hist(zlow,bins)"
   ]
  },
  {
   "cell_type": "code",
   "execution_count": null,
   "metadata": {},
   "outputs": [],
   "source": []
  },
  {
   "cell_type": "code",
   "execution_count": null,
   "metadata": {},
   "outputs": [],
   "source": []
  },
  {
   "cell_type": "code",
   "execution_count": null,
   "metadata": {},
   "outputs": [],
   "source": []
  }
 ],
 "metadata": {
  "kernelspec": {
   "display_name": "Python 3",
   "language": "python",
   "name": "python3"
  },
  "language_info": {
   "codemirror_mode": {
    "name": "ipython",
    "version": 3
   },
   "file_extension": ".py",
   "mimetype": "text/x-python",
   "name": "python",
   "nbconvert_exporter": "python",
   "pygments_lexer": "ipython3",
   "version": "3.6.8"
  }
 },
 "nbformat": 4,
 "nbformat_minor": 2
}
