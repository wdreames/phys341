{
 "cells": [
  {
   "cell_type": "markdown",
   "metadata": {
    "colab_type": "text",
    "id": "uzR3GGdt-1sK"
   },
   "source": [
    "# Linear Regression Models"
   ]
  },
  {
   "cell_type": "code",
   "execution_count": 1,
   "metadata": {
    "colab": {},
    "colab_type": "code",
    "id": "4ZZDsekk-1sM"
   },
   "outputs": [],
   "source": [
    "import numpy as np\n",
    "import pandas as pd\n",
    "import matplotlib.pyplot as plt\n",
    "\n",
    "import statsmodels.formula.api as sm\n",
    "from statsmodels.stats.anova import anova_lm\n",
    "import scipy.stats as stats\n",
    "from sklearn.linear_model import LinearRegression"
   ]
  },
  {
   "cell_type": "code",
   "execution_count": 2,
   "metadata": {
    "colab": {
     "base_uri": "https://localhost:8080/",
     "height": 390
    },
    "colab_type": "code",
    "id": "6VEtrhfU-1sU",
    "outputId": "c8ac845e-f79f-4532-9331-0123a266e2e0"
   },
   "outputs": [
    {
     "data": {
      "text/html": [
       "<div>\n",
       "<style scoped>\n",
       "    .dataframe tbody tr th:only-of-type {\n",
       "        vertical-align: middle;\n",
       "    }\n",
       "\n",
       "    .dataframe tbody tr th {\n",
       "        vertical-align: top;\n",
       "    }\n",
       "\n",
       "    .dataframe thead th {\n",
       "        text-align: right;\n",
       "    }\n",
       "</style>\n",
       "<table border=\"1\" class=\"dataframe\">\n",
       "  <thead>\n",
       "    <tr style=\"text-align: right;\">\n",
       "      <th></th>\n",
       "      <th>Region</th>\n",
       "      <th>Alcohol</th>\n",
       "      <th>Tobacco</th>\n",
       "    </tr>\n",
       "  </thead>\n",
       "  <tbody>\n",
       "    <tr>\n",
       "      <th>0</th>\n",
       "      <td>North</td>\n",
       "      <td>6.47</td>\n",
       "      <td>4.03</td>\n",
       "    </tr>\n",
       "    <tr>\n",
       "      <th>1</th>\n",
       "      <td>Yorkshire</td>\n",
       "      <td>6.13</td>\n",
       "      <td>3.76</td>\n",
       "    </tr>\n",
       "    <tr>\n",
       "      <th>2</th>\n",
       "      <td>Northeast</td>\n",
       "      <td>6.19</td>\n",
       "      <td>3.77</td>\n",
       "    </tr>\n",
       "    <tr>\n",
       "      <th>3</th>\n",
       "      <td>East_Midlands</td>\n",
       "      <td>4.89</td>\n",
       "      <td>3.34</td>\n",
       "    </tr>\n",
       "    <tr>\n",
       "      <th>4</th>\n",
       "      <td>West_Midlands</td>\n",
       "      <td>5.63</td>\n",
       "      <td>3.47</td>\n",
       "    </tr>\n",
       "    <tr>\n",
       "      <th>5</th>\n",
       "      <td>East_Anglia</td>\n",
       "      <td>4.52</td>\n",
       "      <td>2.92</td>\n",
       "    </tr>\n",
       "    <tr>\n",
       "      <th>6</th>\n",
       "      <td>Southeast</td>\n",
       "      <td>5.89</td>\n",
       "      <td>3.20</td>\n",
       "    </tr>\n",
       "    <tr>\n",
       "      <th>7</th>\n",
       "      <td>Southwest</td>\n",
       "      <td>4.79</td>\n",
       "      <td>2.71</td>\n",
       "    </tr>\n",
       "    <tr>\n",
       "      <th>8</th>\n",
       "      <td>Wales</td>\n",
       "      <td>5.27</td>\n",
       "      <td>3.53</td>\n",
       "    </tr>\n",
       "    <tr>\n",
       "      <th>9</th>\n",
       "      <td>Scotland</td>\n",
       "      <td>6.08</td>\n",
       "      <td>4.51</td>\n",
       "    </tr>\n",
       "    <tr>\n",
       "      <th>10</th>\n",
       "      <td>Northern_Ireland</td>\n",
       "      <td>4.02</td>\n",
       "      <td>4.56</td>\n",
       "    </tr>\n",
       "  </tbody>\n",
       "</table>\n",
       "</div>"
      ],
      "text/plain": [
       "              Region  Alcohol  Tobacco\n",
       "0              North     6.47     4.03\n",
       "1          Yorkshire     6.13     3.76\n",
       "2          Northeast     6.19     3.77\n",
       "3      East_Midlands     4.89     3.34\n",
       "4      West_Midlands     5.63     3.47\n",
       "5        East_Anglia     4.52     2.92\n",
       "6          Southeast     5.89     3.20\n",
       "7          Southwest     4.79     2.71\n",
       "8              Wales     5.27     3.53\n",
       "9           Scotland     6.08     4.51\n",
       "10  Northern_Ireland     4.02     4.56"
      ]
     },
     "execution_count": 2,
     "metadata": {},
     "output_type": "execute_result"
    }
   ],
   "source": [
    "# Read in the data\n",
    "\n",
    "url = 'https://raw.githubusercontent.com/brash99/phys341/master/JupyterNotebooks/alcohol_tobacco.txt'\n",
    "df = pd.read_csv(url)\n",
    "df.head(100)"
   ]
  },
  {
   "cell_type": "code",
   "execution_count": 3,
   "metadata": {
    "colab": {},
    "colab_type": "code",
    "id": "Adzx_v6p-1sZ",
    "outputId": "7d2c6c20-9e3e-438f-ef7d-ac21c69b36e6"
   },
   "outputs": [
    {
     "data": {
      "image/png": "[encoded data removed]",
      "text/plain": [
       "<Figure size 432x288 with 1 Axes>"
      ]
     },
     "metadata": {
      "needs_background": "light"
     },
     "output_type": "display_data"
    }
   ],
   "source": [
    "# plot the data\n",
    "\n",
    "df.plot('Tobacco','Alcohol',style='o')\n",
    "plt.ylabel('Alcohol')\n",
    "plt.title('Sales of Alcohol and Tobacco in Several UK Regions')\n",
    "plt.show()"
   ]
  },
  {
   "cell_type": "markdown",
   "metadata": {
    "colab_type": "text",
    "id": "E9Jhemdn-1se"
   },
   "source": [
    "Observations:\n",
    "\n",
    "There appears to be a slight linear trend that associates higher alcohol sales with higher tobacco sales.  The data point corresponding to Northern Ireland appears to be an outlier (it has the lowest alcohol sales and the highest tobacco sales.\n",
    "\n",
    "Let's do some analysis that first determines if it is reasonable to consider removing Northern Ireland from this data set."
   ]
  },
  {
   "cell_type": "code",
   "execution_count": 4,
   "metadata": {
    "colab": {},
    "colab_type": "code",
    "id": "aXdtTuHX-1sf",
    "outputId": "ed7de510-cceb-4d8a-ecba-513d2300351c"
   },
   "outputs": [
    {
     "name": "stdout",
     "output_type": "stream",
     "text": [
      "                            OLS Regression Results                            \n",
      "==============================================================================\n",
      "Dep. Variable:                Alcohol   R-squared:                       0.050\n",
      "Model:                            OLS   Adj. R-squared:                 -0.056\n",
      "Method:                 Least Squares   F-statistic:                    0.4735\n",
      "Date:                Thu, 03 Dec 2020   Prob (F-statistic):              0.509\n",
      "Time:                        09:56:57   Log-Likelihood:                -12.317\n",
      "No. Observations:                  11   AIC:                             28.63\n",
      "Df Residuals:                       9   BIC:                             29.43\n",
      "Df Model:                           1                                         \n",
      "Covariance Type:            nonrobust                                         \n",
      "==============================================================================\n",
      "                 coef    std err          t      P>|t|      [0.025      0.975]\n",
      "------------------------------------------------------------------------------\n",
      "Intercept      4.3512      1.607      2.708      0.024       0.717       7.986\n",
      "Tobacco        0.3019      0.439      0.688      0.509      -0.691       1.295\n",
      "==============================================================================\n",
      "Omnibus:                        3.123   Durbin-Watson:                   1.655\n",
      "Prob(Omnibus):                  0.210   Jarque-Bera (JB):                1.397\n",
      "Skew:                          -0.873   Prob(JB):                        0.497\n",
      "Kurtosis:                       3.022   Cond. No.                         25.5\n",
      "==============================================================================\n",
      "\n",
      "Warnings:\n",
      "[1] Standard Errors assume that the covariance matrix of the errors is correctly specified.\n"
     ]
    },
    {
     "name": "stderr",
     "output_type": "stream",
     "text": [
      "/usr/local/lib64/python3.6/site-packages/scipy/stats/stats.py:1604: UserWarning: kurtosistest only valid for n>=20 ... continuing anyway, n=11\n",
      "  \"anyway, n=%i\" % int(n))\n"
     ]
    }
   ],
   "source": [
    "result = sm.ols('Alcohol ~ Tobacco',df).fit()\n",
    "print (result.summary())"
   ]
  },
  {
   "cell_type": "markdown",
   "metadata": {
    "colab_type": "text",
    "id": "-CTkQlQS-1sk"
   },
   "source": [
    "## Summary of information in the regression result table\n",
    "\n",
    "### Top Left Column:\n",
    "\n",
    "This section is fairly self explanatory.  It reports the dependent variable (i.e. the y-axis variable), along with the relevant degrees of freedom.  For our purposes here, Df Residuals (= $\\nu_{error}$) and Df Model (=$\\nu_{treatment}$) are the most important results.\n",
    "\n",
    "### Top Right Column:\n",
    "\n",
    "In this section, several important parameters are reported that are related to the statistical significance of\n",
    "the linear fit.  The F-statistic and the Prob (F-statistic), or p-value, are already familar to us.  We will\n",
    "discuss some of the others as we go along in the analysis.\n",
    "\n",
    "### Bottom Table\n",
    "\n",
    "In a linear fit, there are two parameters - the slope and the y-intercept.  The \"best fit\" values for these parameters are given in this table (coef), along with the uncertainties (std err) on each of these values.  This table also shows the t-values associated with these values ... a t-value of zero would indicate that the expected value of the parameter is zero, for example.  So, in this case, we see that the analysis shows that we can say that the y-intercept is statistically different from zero (P_intercept = 0.024), but the slope is not (P_slope = 0.509).  We see this is consistent with the 95% confidence interval limits given in this table as well."
   ]
  },
  {
   "cell_type": "code",
   "execution_count": 5,
   "metadata": {
    "colab": {},
    "colab_type": "code",
    "id": "lRsIlN0t-1sk",
    "outputId": "e7566c71-a176-46ac-b393-8436ef6452d0"
   },
   "outputs": [
    {
     "name": "stdout",
     "output_type": "stream",
     "text": [
      "4.351168486048509 0.30193835812729697 0.049984490275868376\n"
     ]
    }
   ],
   "source": [
    "# Extract information from the result object and plot along with the data.\n",
    "\n",
    "yint = result.params[0]\n",
    "slope = result.params[1]\n",
    "\n",
    "r2 = result.rsquared\n",
    "\n",
    "print (yint,slope,r2)"
   ]
  },
  {
   "cell_type": "code",
   "execution_count": 6,
   "metadata": {
    "colab": {},
    "colab_type": "code",
    "id": "cjPBXwHr-1so",
    "outputId": "902382f2-07e8-4d11-c5ed-14136e39f5a7"
   },
   "outputs": [
    {
     "data": {
      "image/png": "[encoded data removed]",
      "text/plain": [
       "<Figure size 432x288 with 1 Axes>"
      ]
     },
     "metadata": {
      "needs_background": "light"
     },
     "output_type": "display_data"
    }
   ],
   "source": [
    "yfit = yint + slope*df['Tobacco']\n",
    "x = df['Tobacco']\n",
    "\n",
    "df.plot('Tobacco','Alcohol',style='o')\n",
    "plt.ylabel('Alcohol')\n",
    "plt.title('Sales of Alcohol and Tobacco in Several UK Regions')\n",
    "plt.plot(x,yfit)\n",
    "plt.show()"
   ]
  },
  {
   "cell_type": "markdown",
   "metadata": {
    "colab_type": "text",
    "id": "fCnQx_DK-1ss"
   },
   "source": [
    "## The key here is that we really need to include somehow the UNCERTAINTIES in the parameters in plotting the fit.  Otherwise, our fit is totally useless!!!!!\n",
    "\n",
    "It turns out that it is actually quite a difficult mathematical exercise to do this.  Fortunately, Python has some utilities to help us.  Someday, maybe you will learn in detail why this works the way that it does (and you should).  But for now, we are going to just trust in the folks that wrote the software and assume that they got it right (which they did)."
   ]
  },
  {
   "cell_type": "code",
   "execution_count": 7,
   "metadata": {
    "colab": {},
    "colab_type": "code",
    "id": "Ez9sqhUe-1st",
    "outputId": "09d58385-061f-4a10-9aa4-b9e4cf667220"
   },
   "outputs": [
    {
     "name": "stdout",
     "output_type": "stream",
     "text": [
      "Coefficients (from curve_fit)\n",
      "[4.35116853 0.30193835]\n",
      "Covariance Matrix (from curve_fit)\n",
      "[[ 2.58147706 -0.69659433]\n",
      " [-0.69659433  0.19252607]]\n"
     ]
    },
    {
     "data": {
      "image/png": "[encoded data removed]",
      "text/plain": [
       "<Figure size 432x288 with 1 Axes>"
      ]
     },
     "metadata": {
      "needs_background": "light"
     },
     "output_type": "display_data"
    }
   ],
   "source": [
    "import seaborn as sns\n",
    "sns.regplot('Tobacco', 'Alcohol', df, ci=99.99)\n",
    "\n",
    "# Let's do a linear fit using the curve_fit utility from scipy, for comparision with seaborn regplot.\n",
    "\n",
    "from scipy.optimize import curve_fit\n",
    "\n",
    "def fitfunction(x,*paramlist):\n",
    "    return paramlist[0]+paramlist[1]*x\n",
    "\n",
    "init_vals = [0.0 for x in range(2)]\n",
    "x = np.array(df['Tobacco'])\n",
    "y = np.array(df['Alcohol'])\n",
    "popt, pcov = curve_fit(fitfunction,x,y,p0=init_vals)\n",
    "\n",
    "#xi = np.linspace(np.min(x),np.max(x),100)\n",
    "xi = np.linspace(2.5,5,100)\n",
    "ps = np.random.multivariate_normal(popt,pcov,10000)\n",
    "ysample=np.asarray([fitfunction(xi,*pi) for pi in ps])\n",
    "lower = np.percentile(ysample,.5,axis=0)\n",
    "upper = np.percentile(ysample,99.5,axis=0)\n",
    "\n",
    "print(\"Coefficients (from curve_fit)\")\n",
    "print (popt)\n",
    "print(\"Covariance Matrix (from curve_fit)\")\n",
    "print (pcov)\n",
    "\n",
    "#plt.plot(xi,lower)\n",
    "#plt.plot(xi,upper)\n",
    "plt.show()"
   ]
  },
  {
   "cell_type": "code",
   "execution_count": 8,
   "metadata": {},
   "outputs": [
    {
     "name": "stdout",
     "output_type": "stream",
     "text": [
      "                            OLS Regression Results                            \n",
      "==============================================================================\n",
      "Dep. Variable:                Alcohol   R-squared:                       0.050\n",
      "Model:                            OLS   Adj. R-squared:                 -0.056\n",
      "Method:                 Least Squares   F-statistic:                    0.4735\n",
      "Date:                Thu, 03 Dec 2020   Prob (F-statistic):              0.509\n",
      "Time:                        09:56:57   Log-Likelihood:                -12.317\n",
      "No. Observations:                  11   AIC:                             28.63\n",
      "Df Residuals:                       9   BIC:                             29.43\n",
      "Df Model:                           1                                         \n",
      "Covariance Type:            nonrobust                                         \n",
      "==============================================================================\n",
      "                 coef    std err          t      P>|t|      [0.025      0.975]\n",
      "------------------------------------------------------------------------------\n",
      "Intercept      4.3512      1.607      2.708      0.024       0.717       7.986\n",
      "Tobacco        0.3019      0.439      0.688      0.509      -0.691       1.295\n",
      "==============================================================================\n",
      "Omnibus:                        3.123   Durbin-Watson:                   1.655\n",
      "Prob(Omnibus):                  0.210   Jarque-Bera (JB):                1.397\n",
      "Skew:                          -0.873   Prob(JB):                        0.497\n",
      "Kurtosis:                       3.022   Cond. No.                         25.5\n",
      "==============================================================================\n",
      "\n",
      "Warnings:\n",
      "[1] Standard Errors assume that the covariance matrix of the errors is correctly specified.\n"
     ]
    },
    {
     "name": "stderr",
     "output_type": "stream",
     "text": [
      "/usr/local/lib64/python3.6/site-packages/scipy/stats/stats.py:1604: UserWarning: kurtosistest only valid for n>=20 ... continuing anyway, n=11\n",
      "  \"anyway, n=%i\" % int(n))\n"
     ]
    },
    {
     "data": {
      "text/html": [
       "<div>\n",
       "<style scoped>\n",
       "    .dataframe tbody tr th:only-of-type {\n",
       "        vertical-align: middle;\n",
       "    }\n",
       "\n",
       "    .dataframe tbody tr th {\n",
       "        vertical-align: top;\n",
       "    }\n",
       "\n",
       "    .dataframe thead th {\n",
       "        text-align: right;\n",
       "    }\n",
       "</style>\n",
       "<table border=\"1\" class=\"dataframe\">\n",
       "  <thead>\n",
       "    <tr style=\"text-align: right;\">\n",
       "      <th></th>\n",
       "      <th>dfb_Intercept</th>\n",
       "      <th>dfb_Tobacco</th>\n",
       "      <th>cooks_d</th>\n",
       "      <th>standard_resid</th>\n",
       "      <th>hat_diag</th>\n",
       "      <th>dffits_internal</th>\n",
       "      <th>student_resid</th>\n",
       "      <th>dffits</th>\n",
       "    </tr>\n",
       "  </thead>\n",
       "  <tbody>\n",
       "    <tr>\n",
       "      <th>0</th>\n",
       "      <td>-0.225100</td>\n",
       "      <td>0.289427</td>\n",
       "      <td>0.114101</td>\n",
       "      <td>1.186386</td>\n",
       "      <td>0.139512</td>\n",
       "      <td>0.477705</td>\n",
       "      <td>1.217808</td>\n",
       "      <td>0.490357</td>\n",
       "    </tr>\n",
       "    <tr>\n",
       "      <th>1</th>\n",
       "      <td>-0.024415</td>\n",
       "      <td>0.064717</td>\n",
       "      <td>0.036518</td>\n",
       "      <td>0.826109</td>\n",
       "      <td>0.096673</td>\n",
       "      <td>0.270251</td>\n",
       "      <td>0.810186</td>\n",
       "      <td>0.265042</td>\n",
       "    </tr>\n",
       "    <tr>\n",
       "      <th>2</th>\n",
       "      <td>-0.031758</td>\n",
       "      <td>0.076068</td>\n",
       "      <td>0.043729</td>\n",
       "      <td>0.899674</td>\n",
       "      <td>0.097515</td>\n",
       "      <td>0.295733</td>\n",
       "      <td>0.889145</td>\n",
       "      <td>0.292272</td>\n",
       "    </tr>\n",
       "    <tr>\n",
       "      <th>3</th>\n",
       "      <td>-0.120378</td>\n",
       "      <td>0.092634</td>\n",
       "      <td>0.023600</td>\n",
       "      <td>-0.608428</td>\n",
       "      <td>0.113087</td>\n",
       "      <td>-0.217257</td>\n",
       "      <td>-0.585805</td>\n",
       "      <td>-0.209179</td>\n",
       "    </tr>\n",
       "    <tr>\n",
       "      <th>4</th>\n",
       "      <td>0.036917</td>\n",
       "      <td>-0.023474</td>\n",
       "      <td>0.004741</td>\n",
       "      <td>0.296754</td>\n",
       "      <td>0.097202</td>\n",
       "      <td>0.097373</td>\n",
       "      <td>0.281162</td>\n",
       "      <td>0.092257</td>\n",
       "    </tr>\n",
       "    <tr>\n",
       "      <th>5</th>\n",
       "      <td>-0.469386</td>\n",
       "      <td>0.422042</td>\n",
       "      <td>0.147327</td>\n",
       "      <td>-0.991501</td>\n",
       "      <td>0.230607</td>\n",
       "      <td>-0.542820</td>\n",
       "      <td>-0.990454</td>\n",
       "      <td>-0.542246</td>\n",
       "    </tr>\n",
       "    <tr>\n",
       "      <th>6</th>\n",
       "      <td>0.211990</td>\n",
       "      <td>-0.177359</td>\n",
       "      <td>0.046647</td>\n",
       "      <td>0.753816</td>\n",
       "      <td>0.141026</td>\n",
       "      <td>0.305439</td>\n",
       "      <td>0.734262</td>\n",
       "      <td>0.297516</td>\n",
       "    </tr>\n",
       "    <tr>\n",
       "      <th>7</th>\n",
       "      <td>-0.347972</td>\n",
       "      <td>0.321159</td>\n",
       "      <td>0.077488</td>\n",
       "      <td>-0.564401</td>\n",
       "      <td>0.327283</td>\n",
       "      <td>-0.393671</td>\n",
       "      <td>-0.541797</td>\n",
       "      <td>-0.377904</td>\n",
       "    </tr>\n",
       "    <tr>\n",
       "      <th>8</th>\n",
       "      <td>-0.017380</td>\n",
       "      <td>0.008820</td>\n",
       "      <td>0.001822</td>\n",
       "      <td>-0.188348</td>\n",
       "      <td>0.093138</td>\n",
       "      <td>-0.060360</td>\n",
       "      <td>-0.177927</td>\n",
       "      <td>-0.057021</td>\n",
       "    </tr>\n",
       "    <tr>\n",
       "      <th>9</th>\n",
       "      <td>-0.268112</td>\n",
       "      <td>0.300924</td>\n",
       "      <td>0.068922</td>\n",
       "      <td>0.542663</td>\n",
       "      <td>0.318842</td>\n",
       "      <td>0.371273</td>\n",
       "      <td>0.520209</td>\n",
       "      <td>0.355911</td>\n",
       "    </tr>\n",
       "    <tr>\n",
       "      <th>10</th>\n",
       "      <td>2.641988</td>\n",
       "      <td>-2.948254</td>\n",
       "      <td>1.747234</td>\n",
       "      <td>-2.575075</td>\n",
       "      <td>0.345116</td>\n",
       "      <td>-1.869349</td>\n",
       "      <td>-4.732091</td>\n",
       "      <td>-3.435214</td>\n",
       "    </tr>\n",
       "  </tbody>\n",
       "</table>\n",
       "</div>"
      ],
      "text/plain": [
       "    dfb_Intercept  dfb_Tobacco   cooks_d  standard_resid  hat_diag  \\\n",
       "0       -0.225100     0.289427  0.114101        1.186386  0.139512   \n",
       "1       -0.024415     0.064717  0.036518        0.826109  0.096673   \n",
       "2       -0.031758     0.076068  0.043729        0.899674  0.097515   \n",
       "3       -0.120378     0.092634  0.023600       -0.608428  0.113087   \n",
       "4        0.036917    -0.023474  0.004741        0.296754  0.097202   \n",
       "5       -0.469386     0.422042  0.147327       -0.991501  0.230607   \n",
       "6        0.211990    -0.177359  0.046647        0.753816  0.141026   \n",
       "7       -0.347972     0.321159  0.077488       -0.564401  0.327283   \n",
       "8       -0.017380     0.008820  0.001822       -0.188348  0.093138   \n",
       "9       -0.268112     0.300924  0.068922        0.542663  0.318842   \n",
       "10       2.641988    -2.948254  1.747234       -2.575075  0.345116   \n",
       "\n",
       "    dffits_internal  student_resid    dffits  \n",
       "0          0.477705       1.217808  0.490357  \n",
       "1          0.270251       0.810186  0.265042  \n",
       "2          0.295733       0.889145  0.292272  \n",
       "3         -0.217257      -0.585805 -0.209179  \n",
       "4          0.097373       0.281162  0.092257  \n",
       "5         -0.542820      -0.990454 -0.542246  \n",
       "6          0.305439       0.734262  0.297516  \n",
       "7         -0.393671      -0.541797 -0.377904  \n",
       "8         -0.060360      -0.177927 -0.057021  \n",
       "9          0.371273       0.520209  0.355911  \n",
       "10        -1.869349      -4.732091 -3.435214  "
      ]
     },
     "execution_count": 8,
     "metadata": {},
     "output_type": "execute_result"
    }
   ],
   "source": [
    "result = sm.ols('Alcohol ~ Tobacco',df).fit()\n",
    "print (result.summary())\n",
    "\n",
    "infl = result.get_influence()\n",
    "sm_fr = infl.summary_frame()\n",
    "\n",
    "sm_fr.head(1000)"
   ]
  },
  {
   "cell_type": "markdown",
   "metadata": {
    "colab_type": "text",
    "id": "FX22wnMp-1sy"
   },
   "source": [
    "## Conclusion:  We are more than 99.99% sure that Northern Ireland is an outlier.  Let's remove it from the data set!"
   ]
  },
  {
   "cell_type": "code",
   "execution_count": 9,
   "metadata": {
    "colab": {},
    "colab_type": "code",
    "id": "K7HEwVqL-1sy",
    "outputId": "a2be25f3-f986-46a1-fe6c-c8df5aa40cb0"
   },
   "outputs": [
    {
     "name": "stdout",
     "output_type": "stream",
     "text": [
      "                            OLS Regression Results                            \n",
      "==============================================================================\n",
      "Dep. Variable:                Alcohol   R-squared:                       0.615\n",
      "Model:                            OLS   Adj. R-squared:                  0.567\n",
      "Method:                 Least Squares   F-statistic:                     12.78\n",
      "Date:                Thu, 03 Dec 2020   Prob (F-statistic):            0.00723\n",
      "Time:                        09:56:58   Log-Likelihood:                -4.9998\n",
      "No. Observations:                  10   AIC:                             14.00\n",
      "Df Residuals:                       8   BIC:                             14.60\n",
      "Df Model:                           1                                         \n",
      "Covariance Type:            nonrobust                                         \n",
      "==============================================================================\n",
      "                 coef    std err          t      P>|t|      [0.025      0.975]\n",
      "------------------------------------------------------------------------------\n",
      "Intercept      2.0412      1.001      2.038      0.076      -0.268       4.350\n",
      "Tobacco        1.0059      0.281      3.576      0.007       0.357       1.655\n",
      "==============================================================================\n",
      "Omnibus:                        2.542   Durbin-Watson:                   1.975\n",
      "Prob(Omnibus):                  0.281   Jarque-Bera (JB):                0.904\n",
      "Skew:                          -0.014   Prob(JB):                        0.636\n",
      "Kurtosis:                       1.527   Cond. No.                         27.2\n",
      "==============================================================================\n",
      "\n",
      "Warnings:\n",
      "[1] Standard Errors assume that the covariance matrix of the errors is correctly specified.\n"
     ]
    },
    {
     "name": "stderr",
     "output_type": "stream",
     "text": [
      "/usr/local/lib64/python3.6/site-packages/scipy/stats/stats.py:1604: UserWarning: kurtosistest only valid for n>=20 ... continuing anyway, n=10\n",
      "  \"anyway, n=%i\" % int(n))\n"
     ]
    },
    {
     "data": {
      "text/html": [
       "<div>\n",
       "<style scoped>\n",
       "    .dataframe tbody tr th:only-of-type {\n",
       "        vertical-align: middle;\n",
       "    }\n",
       "\n",
       "    .dataframe tbody tr th {\n",
       "        vertical-align: top;\n",
       "    }\n",
       "\n",
       "    .dataframe thead th {\n",
       "        text-align: right;\n",
       "    }\n",
       "</style>\n",
       "<table border=\"1\" class=\"dataframe\">\n",
       "  <thead>\n",
       "    <tr style=\"text-align: right;\">\n",
       "      <th></th>\n",
       "      <th>dfb_Intercept</th>\n",
       "      <th>dfb_Tobacco</th>\n",
       "      <th>cooks_d</th>\n",
       "      <th>standard_resid</th>\n",
       "      <th>hat_diag</th>\n",
       "      <th>dffits_internal</th>\n",
       "      <th>student_resid</th>\n",
       "      <th>dffits</th>\n",
       "    </tr>\n",
       "  </thead>\n",
       "  <tbody>\n",
       "    <tr>\n",
       "      <th>0</th>\n",
       "      <td>-0.283634</td>\n",
       "      <td>0.333503</td>\n",
       "      <td>0.112008</td>\n",
       "      <td>0.941144</td>\n",
       "      <td>0.201859</td>\n",
       "      <td>0.473304</td>\n",
       "      <td>0.933557</td>\n",
       "      <td>0.469488</td>\n",
       "    </tr>\n",
       "    <tr>\n",
       "      <th>1</th>\n",
       "      <td>-0.077993</td>\n",
       "      <td>0.112903</td>\n",
       "      <td>0.037456</td>\n",
       "      <td>0.733705</td>\n",
       "      <td>0.122158</td>\n",
       "      <td>0.273699</td>\n",
       "      <td>0.710644</td>\n",
       "      <td>0.265097</td>\n",
       "    </tr>\n",
       "    <tr>\n",
       "      <th>2</th>\n",
       "      <td>-0.097675</td>\n",
       "      <td>0.138948</td>\n",
       "      <td>0.051672</td>\n",
       "      <td>0.854146</td>\n",
       "      <td>0.124075</td>\n",
       "      <td>0.321470</td>\n",
       "      <td>0.838109</td>\n",
       "      <td>0.315435</td>\n",
       "    </tr>\n",
       "    <tr>\n",
       "      <th>3</th>\n",
       "      <td>-0.213465</td>\n",
       "      <td>0.155380</td>\n",
       "      <td>0.094721</td>\n",
       "      <td>-1.216598</td>\n",
       "      <td>0.113469</td>\n",
       "      <td>-0.435250</td>\n",
       "      <td>-1.260597</td>\n",
       "      <td>-0.450991</td>\n",
       "    </tr>\n",
       "    <tr>\n",
       "      <th>4</th>\n",
       "      <td>0.018015</td>\n",
       "      <td>-0.007840</td>\n",
       "      <td>0.003042</td>\n",
       "      <td>0.232509</td>\n",
       "      <td>0.101160</td>\n",
       "      <td>0.078001</td>\n",
       "      <td>0.218230</td>\n",
       "      <td>0.073211</td>\n",
       "    </tr>\n",
       "    <tr>\n",
       "      <th>5</th>\n",
       "      <td>-0.591332</td>\n",
       "      <td>0.534201</td>\n",
       "      <td>0.227242</td>\n",
       "      <td>-1.183020</td>\n",
       "      <td>0.245135</td>\n",
       "      <td>-0.674155</td>\n",
       "      <td>-1.218299</td>\n",
       "      <td>-0.694259</td>\n",
       "    </tr>\n",
       "    <tr>\n",
       "      <th>6</th>\n",
       "      <td>0.451130</td>\n",
       "      <td>-0.373455</td>\n",
       "      <td>0.191940</td>\n",
       "      <td>1.524475</td>\n",
       "      <td>0.141763</td>\n",
       "      <td>0.619580</td>\n",
       "      <td>1.692969</td>\n",
       "      <td>0.688060</td>\n",
       "    </tr>\n",
       "    <tr>\n",
       "      <th>7</th>\n",
       "      <td>0.041548</td>\n",
       "      <td>-0.038585</td>\n",
       "      <td>0.001173</td>\n",
       "      <td>0.064077</td>\n",
       "      <td>0.363600</td>\n",
       "      <td>0.048434</td>\n",
       "      <td>0.059954</td>\n",
       "      <td>0.045317</td>\n",
       "    </tr>\n",
       "    <tr>\n",
       "      <th>8</th>\n",
       "      <td>-0.031786</td>\n",
       "      <td>-0.002949</td>\n",
       "      <td>0.032185</td>\n",
       "      <td>-0.761082</td>\n",
       "      <td>0.100014</td>\n",
       "      <td>-0.253714</td>\n",
       "      <td>-0.739190</td>\n",
       "      <td>-0.246416</td>\n",
       "    </tr>\n",
       "    <tr>\n",
       "      <th>9</th>\n",
       "      <td>1.392110</td>\n",
       "      <td>-1.515783</td>\n",
       "      <td>1.151036</td>\n",
       "      <td>-1.557956</td>\n",
       "      <td>0.486768</td>\n",
       "      <td>-1.517258</td>\n",
       "      <td>-1.746097</td>\n",
       "      <td>-1.700485</td>\n",
       "    </tr>\n",
       "  </tbody>\n",
       "</table>\n",
       "</div>"
      ],
      "text/plain": [
       "   dfb_Intercept  dfb_Tobacco   cooks_d  standard_resid  hat_diag  \\\n",
       "0      -0.283634     0.333503  0.112008        0.941144  0.201859   \n",
       "1      -0.077993     0.112903  0.037456        0.733705  0.122158   \n",
       "2      -0.097675     0.138948  0.051672        0.854146  0.124075   \n",
       "3      -0.213465     0.155380  0.094721       -1.216598  0.113469   \n",
       "4       0.018015    -0.007840  0.003042        0.232509  0.101160   \n",
       "5      -0.591332     0.534201  0.227242       -1.183020  0.245135   \n",
       "6       0.451130    -0.373455  0.191940        1.524475  0.141763   \n",
       "7       0.041548    -0.038585  0.001173        0.064077  0.363600   \n",
       "8      -0.031786    -0.002949  0.032185       -0.761082  0.100014   \n",
       "9       1.392110    -1.515783  1.151036       -1.557956  0.486768   \n",
       "\n",
       "   dffits_internal  student_resid    dffits  \n",
       "0         0.473304       0.933557  0.469488  \n",
       "1         0.273699       0.710644  0.265097  \n",
       "2         0.321470       0.838109  0.315435  \n",
       "3        -0.435250      -1.260597 -0.450991  \n",
       "4         0.078001       0.218230  0.073211  \n",
       "5        -0.674155      -1.218299 -0.694259  \n",
       "6         0.619580       1.692969  0.688060  \n",
       "7         0.048434       0.059954  0.045317  \n",
       "8        -0.253714      -0.739190 -0.246416  \n",
       "9        -1.517258      -1.746097 -1.700485  "
      ]
     },
     "execution_count": 9,
     "metadata": {},
     "output_type": "execute_result"
    }
   ],
   "source": [
    "result = sm.ols('Alcohol ~ Tobacco',df[:-1]).fit()\n",
    "print (result.summary())\n",
    "\n",
    "infl = result.get_influence()\n",
    "sm_fr = infl.summary_frame()\n",
    "\n",
    "sm_fr.head(1000)"
   ]
  },
  {
   "cell_type": "code",
   "execution_count": 10,
   "metadata": {
    "colab": {},
    "colab_type": "code",
    "id": "ygbgaUxx-1s1",
    "outputId": "6fed2d3d-80d4-40e9-f65f-21b25adbbe87"
   },
   "outputs": [
    {
     "name": "stdout",
     "output_type": "stream",
     "text": [
      "2.041223086838211 1.005895832338759 0.6151066005541352\n",
      "Coefficients (from curve_fit)\n",
      "[2.04122312 1.00589582]\n",
      "Covariance Matrix (from curve_fit)\n",
      "[[ 1.0027222  -0.2788958 ]\n",
      " [-0.2788958   0.07914183]]\n"
     ]
    },
    {
     "data": {
      "image/png": "[encoded data removed]",
      "text/plain": [
       "<Figure size 432x288 with 1 Axes>"
      ]
     },
     "metadata": {
      "needs_background": "light"
     },
     "output_type": "display_data"
    }
   ],
   "source": [
    "# Extract information from the result object and plot along with the data.\n",
    "\n",
    "yint = result.params[0]\n",
    "slope = result.params[1]\n",
    "\n",
    "r2 = result.rsquared\n",
    "\n",
    "print (yint,slope,r2)\n",
    "\n",
    "import seaborn as sns\n",
    "sns.regplot('Tobacco', 'Alcohol', df[:-1], ci=95)\n",
    "#sns.regplot('Tobacco', 'Alcohol', df, ci=99.9)\n",
    "\n",
    "# Let's do a linear fit using the curve_fit utility from scipy, for comparision with seaborn regplot.\n",
    "\n",
    "from scipy.optimize import curve_fit\n",
    "\n",
    "def fitfunction(x,*paramlist):\n",
    "    return paramlist[0]+paramlist[1]*x\n",
    "\n",
    "init_vals = [0.0 for x in range(2)]\n",
    "x = np.array(df['Tobacco'][:-1])\n",
    "y = np.array(df['Alcohol'][:-1])\n",
    "#x = np.array(df['Tobacco'])\n",
    "#y = np.array(df['Alcohol'])\n",
    "popt, pcov = curve_fit(fitfunction,x,y,p0=init_vals)\n",
    "\n",
    "#xi = np.linspace(np.min(x),np.max(x),100)\n",
    "xi = np.linspace(2.5,5.0,100)\n",
    "ps = np.random.multivariate_normal(popt,pcov,10000)\n",
    "ysample=np.asarray([fitfunction(xi,*pi) for pi in ps])\n",
    "lower = np.percentile(ysample,2.5,axis=0)\n",
    "upper = np.percentile(ysample,97.5,axis=0)\n",
    "middle = (lower+upper)/2.0\n",
    "\n",
    "print(\"Coefficients (from curve_fit)\")\n",
    "print (popt)\n",
    "print(\"Covariance Matrix (from curve_fit)\")\n",
    "print (pcov)\n",
    "\n",
    "plt.plot(xi,middle)\n",
    "plt.plot(xi,lower)\n",
    "plt.plot(xi,upper)\n",
    "plt.show()"
   ]
  },
  {
   "cell_type": "markdown",
   "metadata": {
    "colab_type": "text",
    "id": "Z7MmcVJD-1s5"
   },
   "source": [
    "## Conclusion:  For these 10 regions, there is a statistically significant correlaton between alcohol and tobacco sales (p = 0.007).\n",
    "\n",
    "So, the next question is, what is the connection between this analysis and the one-way ANOVA analysis that we could have performed on this data?  Let's find out!"
   ]
  },
  {
   "cell_type": "code",
   "execution_count": 11,
   "metadata": {
    "colab": {},
    "colab_type": "code",
    "id": "r0J8JZFj-1s5",
    "outputId": "56b4e4e5-2c96-4ae3-c03d-abbb1bd4eea0"
   },
   "outputs": [
    {
     "name": "stdout",
     "output_type": "stream",
     "text": [
      "0    4.03\n",
      "1    3.76\n",
      "2    3.77\n",
      "3    3.34\n",
      "4    3.47\n",
      "5    2.92\n",
      "6    3.20\n",
      "7    2.71\n",
      "8    3.53\n",
      "9    4.51\n",
      "Name: Tobacco, dtype: float64\n",
      "v_total, v_model, v_error =  9 1 8\n"
     ]
    }
   ],
   "source": [
    "N_model = 2\n",
    "v_model = N_model - 1\n",
    "\n",
    "print (df['Tobacco'][:-1])\n",
    "\n",
    "N = len(df['Tobacco'][:-1])\n",
    "v_total = N - 1\n",
    "v_error = v_total - v_model\n",
    "\n",
    "print (\"v_total, v_model, v_error = \", v_total,v_model,v_error)"
   ]
  },
  {
   "cell_type": "code",
   "execution_count": 12,
   "metadata": {
    "colab": {},
    "colab_type": "code",
    "id": "5g973o1r-1s8",
    "outputId": "c7592662-ee7f-4d7c-bc88-50e199713f6a"
   },
   "outputs": [
    {
     "name": "stdout",
     "output_type": "stream",
     "text": [
      "4.134840000000001 2.5433673762352615 1.5914726237647399\n"
     ]
    }
   ],
   "source": [
    "SS_total = (N-1)*df['Alcohol'][:-1].var()\n",
    "\n",
    "SS_model = r2*SS_total\n",
    "\n",
    "SS_error = SS_total - SS_model\n",
    "\n",
    "print (SS_total, SS_model, SS_error)"
   ]
  },
  {
   "cell_type": "code",
   "execution_count": 13,
   "metadata": {
    "colab": {},
    "colab_type": "code",
    "id": "_URLQnHT-1tA",
    "outputId": "2042634e-c027-4b6e-f88b-dc0019d1f157"
   },
   "outputs": [
    {
     "name": "stdout",
     "output_type": "stream",
     "text": [
      "F Signal/Noise = 12.78 \n",
      "Critical F-value = 5.32\n",
      "Pvalue = 0.007\n",
      "Source     df     Sum of Squares Mean Square     f     P-value\n",
      "Model      1       2.54           2.54        12.78    0.007\n",
      "Error      8       1.59           0.20\n",
      "Total      9       4.13\n"
     ]
    }
   ],
   "source": [
    "# Proceed with normal ANOVA from here\n",
    "MS_model = SS_model/v_model\n",
    "MS_error = SS_error/v_error\n",
    "\n",
    "fSN = MS_model/MS_error\n",
    "\n",
    "print (\"F Signal/Noise = %0.2f \" % fSN)\n",
    "\n",
    "alpha = 0.05\n",
    "\n",
    "fdist = stats.f(v_model,v_error)\n",
    "fhigh = fdist.ppf(1-alpha)\n",
    "\n",
    "print (\"Critical F-value = %0.2f\" % (fhigh))\n",
    "\n",
    "pvalue = (1-fdist.cdf(fSN))\n",
    "    \n",
    "print (\"Pvalue = %0.3f\" % (pvalue))\n",
    "\n",
    "# print table\n",
    "\n",
    "print (\"Source     df     Sum of Squares Mean Square     f     P-value\")\n",
    "print (\"Model      %0.0f       %0.2f           %0.2f        %0.2f    %0.3f\" %(v_model,SS_model,MS_model,fSN,pvalue))\n",
    "print (\"Error      %0.0f       %0.2f           %0.2f\" %(v_error,SS_error,MS_error))\n",
    "print (\"Total      %0.0f       %0.2f\" %(v_total,SS_total))"
   ]
  },
  {
   "cell_type": "code",
   "execution_count": 14,
   "metadata": {
    "colab": {},
    "colab_type": "code",
    "id": "pRdY0LAV-1tD",
    "outputId": "d51f9314-37ca-48dd-99c3-df9e9c348c13"
   },
   "outputs": [
    {
     "name": "stdout",
     "output_type": "stream",
     "text": [
      "                            OLS Regression Results                            \n",
      "==============================================================================\n",
      "Dep. Variable:                Alcohol   R-squared:                       0.050\n",
      "Model:                            OLS   Adj. R-squared:                 -0.056\n",
      "Method:                 Least Squares   F-statistic:                    0.4735\n",
      "Date:                Thu, 03 Dec 2020   Prob (F-statistic):              0.509\n",
      "Time:                        09:56:58   Log-Likelihood:                -12.317\n",
      "No. Observations:                  11   AIC:                             28.63\n",
      "Df Residuals:                       9   BIC:                             29.43\n",
      "Df Model:                           1                                         \n",
      "Covariance Type:            nonrobust                                         \n",
      "==============================================================================\n",
      "                 coef    std err          t      P>|t|      [0.025      0.975]\n",
      "------------------------------------------------------------------------------\n",
      "Intercept      4.3512      1.607      2.708      0.024       0.717       7.986\n",
      "Tobacco        0.3019      0.439      0.688      0.509      -0.691       1.295\n",
      "==============================================================================\n",
      "Omnibus:                        3.123   Durbin-Watson:                   1.655\n",
      "Prob(Omnibus):                  0.210   Jarque-Bera (JB):                1.397\n",
      "Skew:                          -0.873   Prob(JB):                        0.497\n",
      "Kurtosis:                       3.022   Cond. No.                         25.5\n",
      "==============================================================================\n",
      "\n",
      "Warnings:\n",
      "[1] Standard Errors assume that the covariance matrix of the errors is correctly specified.\n"
     ]
    },
    {
     "name": "stderr",
     "output_type": "stream",
     "text": [
      "/usr/local/lib64/python3.6/site-packages/scipy/stats/stats.py:1604: UserWarning: kurtosistest only valid for n>=20 ... continuing anyway, n=11\n",
      "  \"anyway, n=%i\" % int(n))\n"
     ]
    }
   ],
   "source": [
    "# Let's go back and look at the full data set (with Northern Ireland included)\n",
    "\n",
    "result = sm.ols('Alcohol ~ Tobacco',df,).fit()\n",
    "print (result.summary())"
   ]
  },
  {
   "cell_type": "code",
   "execution_count": null,
   "metadata": {
    "colab": {},
    "colab_type": "code",
    "id": "8ts8kGz4-1tF"
   },
   "outputs": [],
   "source": []
  },
  {
   "cell_type": "code",
   "execution_count": 15,
   "metadata": {
    "colab": {},
    "colab_type": "code",
    "id": "9Ge5IC5H-1tI",
    "outputId": "931b1805-0cd1-4f04-e635-1eb84dd40340"
   },
   "outputs": [
    {
     "name": "stdout",
     "output_type": "stream",
     "text": [
      "v_total, v_model, v_error =  10 1 9\n",
      "6.364254545454548 0.31811401944042395 6.046140526014124\n",
      "F Signal/Noise = 0.47 \n",
      "Critical F-value = 5.12\n",
      "Pvalue = 0.509\n",
      "Source     df     Sum of Squares Mean Square     f     P-value\n",
      "Model      1       0.32           0.32        0.47    0.509\n",
      "Error      9       6.05           0.67\n",
      "Total      10       6.36\n"
     ]
    }
   ],
   "source": [
    "# Extract information from the result object and plot along with the data.\n",
    "\n",
    "yint = result.params[0]\n",
    "slope = result.params[1]\n",
    "\n",
    "r2 = result.rsquared\n",
    "\n",
    "N_model = 2\n",
    "v_model = N_model - 1\n",
    "\n",
    "N = len(df['Tobacco'])\n",
    "v_total = N - 1\n",
    "v_error = v_total - v_model\n",
    "\n",
    "print (\"v_total, v_model, v_error = \", v_total,v_model,v_error)\n",
    "\n",
    "SS_total = (N-1)*df['Alcohol'].var()\n",
    "\n",
    "SS_model = r2*SS_total\n",
    "\n",
    "SS_error = SS_total - SS_model\n",
    "\n",
    "print (SS_total, SS_model, SS_error)\n",
    "\n",
    "# Proceed with normal ANOVA from here\n",
    "MS_model = SS_model/v_model\n",
    "MS_error = SS_error/v_error\n",
    "\n",
    "fSN = MS_model/MS_error\n",
    "\n",
    "print (\"F Signal/Noise = %0.2f \" % fSN)\n",
    "\n",
    "alpha = 0.05\n",
    "\n",
    "fdist = stats.f(v_model,v_error)\n",
    "fhigh = fdist.ppf(1-alpha)\n",
    "\n",
    "print (\"Critical F-value = %0.2f\" % (fhigh))\n",
    "\n",
    "pvalue = 1-fdist.cdf(fSN)\n",
    "    \n",
    "print (\"Pvalue = %0.3f\" % (pvalue))\n",
    "\n",
    "# print table\n",
    "\n",
    "print (\"Source     df     Sum of Squares Mean Square     f     P-value\")\n",
    "print (\"Model      %0.0f       %0.2f           %0.2f        %0.2f    %0.3f\" %(v_model,SS_model,MS_model,fSN,pvalue))\n",
    "print (\"Error      %0.0f       %0.2f           %0.2f\" %(v_error,SS_error,MS_error))\n",
    "print (\"Total      %0.0f       %0.2f\" %(v_total,SS_total))"
   ]
  },
  {
   "cell_type": "code",
   "execution_count": null,
   "metadata": {
    "colab": {},
    "colab_type": "code",
    "id": "liAcR06A-1tK"
   },
   "outputs": [],
   "source": []
  },
  {
   "cell_type": "code",
   "execution_count": null,
   "metadata": {
    "colab": {},
    "colab_type": "code",
    "id": "PEokiIFt-1tM"
   },
   "outputs": [],
   "source": []
  }
 ],
 "metadata": {
  "colab": {
   "name": "LinearRegression.ipynb",
   "provenance": []
  },
  "kernelspec": {
   "display_name": "Python 3",
   "language": "python",
   "name": "python3"
  },
  "language_info": {
   "codemirror_mode": {
    "name": "ipython",
    "version": 3
   },
   "file_extension": ".py",
   "mimetype": "text/x-python",
   "name": "python",
   "nbconvert_exporter": "python",
   "pygments_lexer": "ipython3",
   "version": "3.6.8"
  }
 },
 "nbformat": 4,
 "nbformat_minor": 1
}
