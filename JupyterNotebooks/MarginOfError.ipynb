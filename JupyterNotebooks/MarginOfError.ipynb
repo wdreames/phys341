{
 "cells": [
  {
   "cell_type": "markdown",
   "metadata": {},
   "source": [
    "# Margin of Error\n",
    "\n",
    "In sampling experiments (e.g. election polling, census data, etc.), oftentimes the data are presented as percentages.  We can think of these percentages as measured probabilites of a certain outcome in the experiment.\n",
    "\n",
    "The question is:  What is the uncertainty in the measured probability?  That is, what is the uncertainty in the mean value of the probability?\n",
    "\n",
    "The answer to this question depends on three things:\n",
    "\n",
    "1.  What is the sample size, N?\n",
    "2.  What is the probability of the outcome, p?\n",
    "3.  How confident do we need to be in reporting our result (indicated by $\\alpha$)?"
   ]
  },
  {
   "cell_type": "markdown",
   "metadata": {},
   "source": [
    "The margin of error (i.e. the uncertainty in the mean) is defined by:\n",
    "\n",
    "$MOE = z_\\gamma \\times \\sqrt{\\frac{\\sigma^2}{N}}$\n",
    "\n",
    "where $z_\\gamma$ is the z value associated with the confidence level (1-$\\alpha$) that we have chosen, and $\\sigma^2$ is the variance of the measured probability distribution.\n",
    "\n",
    "For a binomial or Bernouilli distribution, $\\sigma^2 = p(1-p)$."
   ]
  },
  {
   "cell_type": "code",
   "execution_count": 2,
   "metadata": {},
   "outputs": [],
   "source": [
    "import numpy as np\n",
    "import matplotlib.pyplot as plt\n",
    "import scipy.stats as stats"
   ]
  },
  {
   "cell_type": "code",
   "execution_count": 2,
   "metadata": {},
   "outputs": [
    {
     "name": "stdout",
     "output_type": "stream",
     "text": [
      "Measured probability = 0.430 +/- 0.013\n"
     ]
    }
   ],
   "source": [
    "# Example:  On August 3rd, 2020, it was reported that of the 982 new COVID-19 cases in Virginia for that day, 43%\n",
    "#           were in the Hampton Roads region.\n",
    "\n",
    "p = 0.43\n",
    "N = 982\n",
    "alpha = 0.05\n",
    "\n",
    "confidence_level = 1 - alpha\n",
    "\n",
    "z_gamma = stats.norm.ppf(confidence_level+alpha/2) #We expect alpha/2 both above and below the confidence interval.\n",
    "\n",
    "sigma2 = p*(1-p)\n",
    "\n",
    "MOE = z_gamma * np.sqrt(sigma2/N)\n",
    "\n",
    "print (\"Measured probability = %0.3f +/- %0.3f\" % (p,MOE*p))"
   ]
  },
  {
   "cell_type": "markdown",
   "metadata": {},
   "source": [
    "What value do we expect?  To estimate this, we would need to know the population of Virginia, and the population of Hampton Roads.  The former is 8.536 million, as of 2019, and the latter is 1.78 million, as of this year.\n",
    "\n",
    "Thus, the expected probability, based only on population, is $p_{theory} = 0.208$."
   ]
  },
  {
   "cell_type": "markdown",
   "metadata": {},
   "source": [
    "# Sensitivity and Specificity\n",
    "\n",
    "Sensitivity = the probability of a positive test, given that a positive test is expected.\n",
    "\n",
    "Specificity = the probability of a negative test, given that a negative test is expected.\n",
    "\n",
    "In an ideal world, both of these probabilities would be 1.  But, the world is not ideal.\n",
    "\n",
    "Think of medical testing.  If one has the coronavirus, one would would expect that a test would come back positive.  If one does not have the coronavirus, would would expect that the test would come back negative.\n",
    "\n",
    "False positive = the probability of a positive test, given that a negative test is expected.\n",
    "\n",
    "False negative = the probability of a negative test, given that a positive test is expected.\n",
    "\n",
    "False positives are related to $\\alpha$ - there is not a problem, but we say that there is.\n",
    "False negatives are related to $\\beta$ - there is a problem, but we say that there is not.\n",
    "\n",
    "This is why Type I errors ($\\alpha$) are generally more tolerable than Type II errors ($\\beta$)."
   ]
  },
  {
   "cell_type": "code",
   "execution_count": 31,
   "metadata": {},
   "outputs": [
    {
     "name": "stdout",
     "output_type": "stream",
     "text": [
      "29700.0 7000.0 63000.0 300.0\n",
      "0.8092643051771117\n"
     ]
    }
   ],
   "source": [
    "N_tests = 100000\n",
    "alpha = 0.01\n",
    "beta = 0.10\n",
    "\n",
    "# Expected probabilities\n",
    "p_positive = 0.30\n",
    "p_negative = 0.70\n",
    "\n",
    "N_true_positive = N_tests*p_positive*(1-alpha)\n",
    "N_false_negative = N_tests*p_positive*alpha\n",
    "\n",
    "N_true_negative = N_tests*p_negative*(1-beta)\n",
    "N_false_positive = N_tests*p_negative*beta\n",
    "\n",
    "print (N_true_positive,N_false_positive,N_true_negative,N_false_negative)\n",
    "\n",
    "# probability of the person having the disease, given that the test is positive\n",
    "pBA = N_true_positive/(N_true_positive+N_false_positive)\n",
    "\n",
    "print (pBA)"
   ]
  },
  {
   "cell_type": "markdown",
   "metadata": {},
   "source": [
    "These ideas are well described theoretically by Bayes' Theorem, which is related to conditional probabilities:\n",
    "\n",
    "$P(A|B) = \\frac{P(B|A) \\cdot P(A)}{P(B)}$\n",
    "\n",
    "where $P(A|B)$ is the probability of event A, given condition B, $P(B|A)$ is the probability of event B, given condition A, and $P(A)$ and $P(B)$ are the probabilities of events A and B, respectively."
   ]
  },
  {
   "cell_type": "code",
   "execution_count": 33,
   "metadata": {},
   "outputs": [
    {
     "name": "stdout",
     "output_type": "stream",
     "text": [
      "0.8092643051771117\n"
     ]
    }
   ],
   "source": [
    "# event A = a positive test\n",
    "# event B = the person has the disease\n",
    "\n",
    "# probability of person having the disease\n",
    "pB = p_positive\n",
    "\n",
    "# probability of a positive test, given that the person has the disease\n",
    "pAB = 1 - alpha\n",
    "\n",
    "# probability of a positive test\n",
    "pA = p_positive*(1 - alpha) + p_negative*beta\n",
    "\n",
    "# probability of the person having the disease, given that the test is positive\n",
    "pBA = pAB*pB/pA\n",
    "\n",
    "print (pBA)"
   ]
  },
  {
   "cell_type": "code",
   "execution_count": 15,
   "metadata": {},
   "outputs": [
    {
     "name": "stdout",
     "output_type": "stream",
     "text": [
      "1.959963984540054\n",
      "Measured probability = (3.75 +/- 0.04) percent\n",
      "Measured probability = (2.83 +/- 0.03) percent\n"
     ]
    }
   ],
   "source": [
    "n1 = 45\n",
    "N = 1200\n",
    "n2 = int(0.029*N)\n",
    "\n",
    "alpha = 0.05\n",
    "confidence_level = 1 - alpha\n",
    "z_gamma = stats.norm.ppf(confidence_level+alpha/2) #We expect alpha/2 both above and below the confidence interval.\n",
    "print (z_gamma)\n",
    "\n",
    "p1 = float(n1/N)\n",
    "sigma1 = p1*(1-p1)\n",
    "MOE = z_gamma * np.sqrt(sigma1/N)\n",
    "\n",
    "print (\"Measured probability = (%0.2f +/- %0.2f) percent\" % (p1*100,MOE*p1*100))\n",
    "\n",
    "p2 = float(n2/N)\n",
    "sigma2 = p2*(1-p2)\n",
    "MOE = z_gamma * np.sqrt(sigma2/N)\n",
    "\n",
    "print (\"Measured probability = (%0.2f +/- %0.2f) percent\" % (p2*100,MOE*p2*100))"
   ]
  },
  {
   "cell_type": "code",
   "execution_count": null,
   "metadata": {},
   "outputs": [],
   "source": []
  }
 ],
 "metadata": {
  "kernelspec": {
   "display_name": "Python 3",
   "language": "python",
   "name": "python3"
  },
  "language_info": {
   "codemirror_mode": {
    "name": "ipython",
    "version": 3
   },
   "file_extension": ".py",
   "mimetype": "text/x-python",
   "name": "python",
   "nbconvert_exporter": "python",
   "pygments_lexer": "ipython3",
   "version": "3.6.8"
  }
 },
 "nbformat": 4,
 "nbformat_minor": 2
}
