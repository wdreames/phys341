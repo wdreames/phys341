{
 "cells": [
  {
   "cell_type": "code",
   "execution_count": null,
   "metadata": {},
   "outputs": [],
   "source": []
  },
  {
   "cell_type": "markdown",
   "metadata": {},
   "source": [
    "# Comparison of Two Groups\n",
    "\n",
    "Another common data analysis task is to compare two (or more) data sets to one another, rather than comparing a single data set to some theoretical or expected values.\n",
    "\n",
    "In this workbook, we will investigate how to handle this situation.  We already have a lot of the tools and concepts available to us, fortunately!"
   ]
  },
  {
   "cell_type": "markdown",
   "metadata": {},
   "source": [
    "# Example 1 - Paired t-Test\n",
    "\n",
    "In many experiments, we have two data sets that represent \"before\" and \"after\" data for a set of subjects.  In this kind of situation, we want to look at the DIFFERENCE between the before data and the after data, and make a statement about whether anything has changed (either an increase or a decrease)."
   ]
  },
  {
   "cell_type": "code",
   "execution_count": 1,
   "metadata": {},
   "outputs": [
    {
     "name": "stdout",
     "output_type": "stream",
     "text": [
      "[9.9 1.1 2.6 1.6 0.7 4.6 0.1 0.6 7.9 1.2]\n"
     ]
    }
   ],
   "source": [
    "# Import the required packages, \n",
    "# with their conventional names \n",
    "import matplotlib.pyplot as plt \n",
    "import numpy as np \n",
    "import scipy.stats as stats \n",
    "\n",
    "# Step 1:  Collect data\n",
    "\n",
    "scores_before = np.array([109.4,76.2,128.7,93.7,85.6,117.7,117.2,87.3,100.3,55.1])\n",
    "scores_after = np.array([119.3,77.3,131.3,95.3,86.3,122.3,117.3,87.9,108.2,56.3])\n",
    "\n",
    "difference = scores_after - scores_before\n",
    "\n",
    "print (difference)"
   ]
  },
  {
   "cell_type": "code",
   "execution_count": 2,
   "metadata": {},
   "outputs": [],
   "source": [
    "xbar = difference.mean()\n",
    "sem = stats.sem(difference)\n",
    "df = len(difference)-1"
   ]
  },
  {
   "cell_type": "code",
   "execution_count": 3,
   "metadata": {},
   "outputs": [],
   "source": [
    "# Step 2:  Null hypothesis\n",
    "# \"The expected value of the difference is 0.  We assume that there is no difference between\n",
    "#  the population means before and after.\"\n",
    "#\n",
    "#  Thus, we are considering the \"=\" case.  We are testing whether or not the data\n",
    "#  supports the null hypothesis that \"mu=0\".\n",
    "#\n",
    "#  Extreme values would correspond to a difference means that is EITHER much larger than\n",
    "#  0, or much smaller than 0.\n",
    "\n",
    "mu = 0"
   ]
  },
  {
   "cell_type": "code",
   "execution_count": 4,
   "metadata": {},
   "outputs": [
    {
     "name": "stdout",
     "output_type": "stream",
     "text": [
      "Expected difference mean = 0.00\n",
      "Mean Value from difference data = 3.03\n",
      "Standard Error in the mean = 1.07\n",
      "T value from difference data = 2.84\n",
      "Critical T values = -2.26, 2.26\n",
      "P value = 0.019\n"
     ]
    }
   ],
   "source": [
    "# Step 3:  Test statistic\n",
    "# Since the value of sigma is unknown, and we are interested in the mean of the \n",
    "# distribution, we choose the t-statistic.\n",
    "\n",
    "alpha = 0.05\n",
    "\n",
    "tvalue = (xbar-mu)/sem\n",
    "\n",
    "print (\"Expected difference mean = %0.2f\" % mu)\n",
    "print (\"Mean Value from difference data = %0.2f\" % xbar)\n",
    "print (\"Standard Error in the mean = %0.2f\" %sem)\n",
    "print (\"T value from difference data = %0.2f\" %tvalue)\n",
    "\n",
    "# Step 4: Calculate the critical t-values, and the p-value.\n",
    "tdist = stats.t(df)\n",
    "tlow = tdist.ppf(alpha/2.0)\n",
    "thigh = tdist.ppf(1-alpha/2.0)\n",
    "\n",
    "print (\"Critical T values = %0.2f, %0.2f\" % (tlow,thigh))\n",
    "\n",
    "# NOTE:  We have to multiply by two in this base (\"=\"), because we have to take\n",
    "#        into account the upper tail as well as the lower tail.\n",
    "#\n",
    "pvalue = 2.0*tdist.cdf(-np.abs(tvalue))\n",
    "\n",
    "print (\"P value = %0.3f\" % pvalue)\n",
    "\n",
    "# Step 5:  Conclusion\n",
    "#\n",
    "# a) Since the t-value from the data (2.84) falls outside two limits from the\n",
    "#    t-distribution (-2.26 to 2.26), we conclude that the data is inconsistent with\n",
    "#    a population mean of 0, and we REJECT THE NULL HYPOTHESIS.\n",
    "# b) Since the p-value is LESS THAN alpha, we reject the null hypothesis."
   ]
  },
  {
   "cell_type": "code",
   "execution_count": 5,
   "metadata": {},
   "outputs": [
    {
     "name": "stdout",
     "output_type": "stream",
     "text": [
      "95 Percent Confidence Interval = (0.615,5.445)\n",
      "The data is consistent with any value of mu between 0.615 and 5.445, at the 95 Percent confidence level.\n",
      "T-value = 2.838, P-value = 0.019\n",
      "T-value = 2.262, P-value = 0.050\n",
      "T-value = -2.262, P-value = 0.050\n",
      "T-value = 2.838, P-value = 0.019\n"
     ]
    }
   ],
   "source": [
    "cl = 1 - alpha\n",
    "c_interval = stats.t.interval(cl,df,loc=xbar,scale=sem)\n",
    "\n",
    "print (\"95 Percent Confidence Interval = (%0.3f,%0.3f)\" % c_interval)\n",
    "print (\"The data is consistent with any value of mu between %0.3f and %0.3f, at the 95 Percent confidence level.\" % c_interval)\n",
    "\n",
    "# The stats package has some cool built-in functions to get the pValue for a single sample t-test quickly!!!!\n",
    "# The two parameters passed to this function are (a) the original data array, and (b) the value of mu to test.\n",
    "# The function assumes a TWO-TAILED test (i.e. the \"=\" case).\n",
    "\n",
    "t, pVal = stats.ttest_1samp(difference,mu)\n",
    "print (\"T-value = %0.3f, P-value = %0.3f\" % (t,pVal))\n",
    "\n",
    "t, pVal = stats.ttest_1samp(difference,c_interval[0])\n",
    "print (\"T-value = %0.3f, P-value = %0.3f\" % (t,pVal))\n",
    "\n",
    "t, pVal = stats.ttest_1samp(difference,c_interval[1])\n",
    "print (\"T-value = %0.3f, P-value = %0.3f\" % (t,pVal))\n",
    "\n",
    "# There is also another function in the stats package that can do the calculation all in one step!!!!\n",
    "\n",
    "t, pVal = stats.ttest_rel(scores_after,scores_before)\n",
    "print (\"T-value = %0.3f, P-value = %0.3f\" % (t,pVal))"
   ]
  },
  {
   "cell_type": "markdown",
   "metadata": {},
   "source": [
    "# Example 2 - Two Sample t-Test\n",
    "\n",
    "In this case, we have two data sets that represent two separate and distinct samples that we assume are from the SAME population.  In this kind of situation, we want to assess whether or not this assumption is correct.  That is, are the predicted population means from the two samples consistent with one another."
   ]
  },
  {
   "cell_type": "code",
   "execution_count": 6,
   "metadata": {},
   "outputs": [
    {
     "name": "stdout",
     "output_type": "stream",
     "text": [
      "Expected population means = 0.00, 0.00\n",
      "Mean Values from data = 97.12, 100.15\n",
      "Standard Error in the mean = 10.23\n",
      "T value from data = -0.296\n",
      "Critical T values = -2.101, 2.101\n",
      "P value from data = 0.771\n",
      "T-value = -0.296, P-value = 0.771\n",
      "T-value = -0.296, P-value = 0.771\n"
     ]
    }
   ],
   "source": [
    "# Step 1:  Collect data\n",
    "\n",
    "scores_one = np.array([109.4,76.2,128.7,93.7,85.6,117.7,117.2,87.3,100.3,55.1])\n",
    "scores_two = np.array([119.3,77.3,131.3,95.3,86.3,122.3,117.3,87.9,108.2,56.3])\n",
    "\n",
    "n1 = len(scores_one)\n",
    "n2 = len(scores_two)\n",
    "\n",
    "s1 = scores_one.std(ddof=1)\n",
    "s2 = scores_two.std(ddof=1)\n",
    "\n",
    "xbar1 = scores_one.mean()\n",
    "xbar2 = scores_two.mean()\n",
    "\n",
    "# Calculate the standard error in the mean ... this is the weighted average of\n",
    "# the std. deviations of the two (independent) samples.\n",
    "sem = np.sqrt(s1**2/n1+s2**2/n2)\n",
    "\n",
    "# Step 2:  Null hypothesis\n",
    "# \"The expectation is that the two means are the same.  We assume that there is no difference between\n",
    "#  the population means of the two samples.\n",
    "#\n",
    "#  Thus, we are considering the \"=\" case.  We are testing whether or not the data\n",
    "#  supports the null hypothesis.\n",
    "\n",
    "mu1 = 0\n",
    "mu2 = 0\n",
    "\n",
    "# Step 3:  Test statistic\n",
    "# Since the value of sigma is unknown, and we are interested in the mean of the \n",
    "# distribution, we choose the t-statistic.\n",
    "\n",
    "alpha = 0.05\n",
    "\n",
    "tvalue = ((xbar1-xbar2)-(mu1-mu2))/sem\n",
    "\n",
    "print (\"Expected population means = %0.2f, %0.2f\" % (mu1,mu2))\n",
    "print (\"Mean Values from data = %0.2f, %0.2f\" % (xbar1,xbar2))\n",
    "print (\"Standard Error in the mean = %0.2f\" %sem)\n",
    "print (\"T value from data = %0.3f\" %tvalue)\n",
    "\n",
    "# Step 4: Calculate the critical t-values, and the p-value.\n",
    "df = n1+n2-2\n",
    "tdist = stats.t(df)\n",
    "tlow = tdist.ppf(alpha/2.0)\n",
    "thigh = tdist.ppf(1-alpha/2.0)\n",
    "\n",
    "print (\"Critical T values = %0.3f, %0.3f\" % (tlow,thigh))\n",
    "\n",
    "# NOTE:  We have to multiply by two in this base (\"=\"), because we have to take\n",
    "#        into account the upper tail as well as the lower tail.\n",
    "#\n",
    "pvalue = 2.0*tdist.cdf(-np.abs(tvalue))\n",
    "\n",
    "print (\"P value from data = %0.3f\" %pvalue)\n",
    "\n",
    "# Now, the easy way!!!!\n",
    "\n",
    "t, pVal = stats.ttest_ind(scores_one,scores_two)\n",
    "print (\"T-value = %0.3f, P-value = %0.3f\" % (t,pVal))\n",
    "\n",
    "# Sometimes, we do not have the raw data, but only the summary data\n",
    "t, pVal = stats.ttest_ind_from_stats(xbar1,s1,n1,xbar2,s2,n2)\n",
    "print (\"T-value = %0.3f, P-value = %0.3f\" % (t,pVal))"
   ]
  },
  {
   "cell_type": "markdown",
   "metadata": {},
   "source": [
    "# Example 3 - Two Sample t-Test with Statistical Modeling¶\n",
    "\n",
    "The data here are similar to the last example, but our analysis is going to be somewhat different.  We will take advantage of some of the stats package modeling utilities."
   ]
  },
  {
   "cell_type": "code",
   "execution_count": 7,
   "metadata": {},
   "outputs": [
    {
     "name": "stdout",
     "output_type": "stream",
     "text": [
      "[ 79. 100.  93.  75.  84. 107.  66.  86. 103.  81.  83.  89. 105.  84.\n",
      "  86.  86. 112. 112. 100.  94.] [ 92. 100.  76.  97.  72.  79.  94.  71.  84.  76.  82.  57.  67.  78.\n",
      "  94.  83.  85.  92.  76.  88.]\n",
      "T-value = 2.435, P-value = 0.020\n",
      "T-value = 2.304, P-value = 0.033\n"
     ]
    },
    {
     "data": {
      "image/png": "[encoded data removed]",
      "text/plain": [
       "<Figure size 432x288 with 1 Axes>"
      ]
     },
     "metadata": {
      "needs_background": "light"
     },
     "output_type": "display_data"
    }
   ],
   "source": [
    "# Step 1 - Collect data\n",
    "\n",
    "np.random.seed(123)\n",
    "race_1 = np.round(np.random.randn(20)*10 + 90)\n",
    "race_2 = np.round(np.random.randn(20)*10 + 85)\n",
    "\n",
    "print (race_1,race_2)\n",
    "\n",
    "plt.plot(race_1,'.')\n",
    "plt.plot(race_2,'.')\n",
    "\n",
    "# Step 2 - Use stats utilities as in the last example\n",
    "\n",
    "t, pVal = stats.ttest_ind(race_1,race_2)\n",
    "print (\"T-value = %0.3f, P-value = %0.3f\" % (t,pVal))\n",
    "\n",
    "# Step 3 - What about if we use a paired t-Test?\n",
    "\n",
    "t, pVal = stats.ttest_rel(race_1,race_2)\n",
    "print (\"T-value = %0.3f, P-value = %0.3f\" % (t,pVal))\n"
   ]
  },
  {
   "cell_type": "markdown",
   "metadata": {},
   "source": [
    "Now let's instead use a cool package from stats called OLS - Ordinary Least Squares.  We will talk more about the methodolgy later, but for now we are just interested in the t- and p-values."
   ]
  },
  {
   "cell_type": "code",
   "execution_count": 8,
   "metadata": {},
   "outputs": [
    {
     "name": "stdout",
     "output_type": "stream",
     "text": [
      "                            OLS Regression Results                            \n",
      "==============================================================================\n",
      "Dep. Variable:       I(Race2 - Race1)   R-squared:                      -0.000\n",
      "Model:                            OLS   Adj. R-squared:                 -0.000\n",
      "Method:                 Least Squares   F-statistic:                       nan\n",
      "Date:                Mon, 19 Oct 2020   Prob (F-statistic):                nan\n",
      "Time:                        09:16:10   Log-Likelihood:                -85.296\n",
      "No. Observations:                  20   AIC:                             172.6\n",
      "Df Residuals:                      19   BIC:                             173.6\n",
      "Df Model:                           0                                         \n",
      "Covariance Type:            nonrobust                                         \n",
      "==============================================================================\n",
      "                 coef    std err          t      P>|t|      [0.025      0.975]\n",
      "------------------------------------------------------------------------------\n",
      "Intercept     -9.1000      3.950     -2.304      0.033     -17.367      -0.833\n",
      "==============================================================================\n",
      "Omnibus:                        0.894   Durbin-Watson:                   2.009\n",
      "Prob(Omnibus):                  0.639   Jarque-Bera (JB):                0.793\n",
      "Skew:                           0.428   Prob(JB):                        0.673\n",
      "Kurtosis:                       2.532   Cond. No.                         1.00\n",
      "==============================================================================\n",
      "\n",
      "Warnings:\n",
      "[1] Standard Errors assume that the covariance matrix of the errors is correctly specified.\n"
     ]
    }
   ],
   "source": [
    "import pandas as pd\n",
    "import statsmodels.formula.api as sm\n",
    "\n",
    "np.random.seed(123)\n",
    "df = pd.DataFrame({'Race1': race_1, 'Race2': race_2})\n",
    "\n",
    "result = sm.ols(formula='I(Race2-Race1) ~ 1', data=df).fit()\n",
    "\n",
    "print (result.summary())"
   ]
  },
  {
   "cell_type": "markdown",
   "metadata": {},
   "source": [
    "# Example 4 - Comparing the Variances of Two Samples¶\n",
    "\n",
    "Another question that we can ask is:  Are the variances/standard deviations of the two samples consistent\n",
    "with being drawn from a single population?  That is, are they equal to one another?\n",
    "\n",
    "The test statistic that is used to make this comparison is called the F statistic, or F test, and is\n",
    "defined as:\n",
    "\n",
    "$F = \\frac{s_1^2}{s_2^2}$\n",
    "\n",
    "The F-distribution is, perhaps not surprisingly, similar in shape and character to the $\\chi^2$ distribution, as\n",
    "it is the ratio of two variances.\n",
    "\n",
    "Half of the distribution lies below F=1, and the other half lies above F=1.  The distribution depends on the number of degrees of freedom of $both$ samples."
   ]
  },
  {
   "cell_type": "code",
   "execution_count": 9,
   "metadata": {},
   "outputs": [
    {
     "name": "stdout",
     "output_type": "stream",
     "text": [
      "Standard Deviations of the two samples = 22.2, 23.6\n",
      "Variances of the two samples = 492.1, 555.2\n",
      "F statistic = 0.886\n",
      "97.11999999999999 100.15\n",
      "Critical F-values = 0.248, 4.026\n",
      "Pvalue = 0.860\n"
     ]
    }
   ],
   "source": [
    "scores_one = np.array([109.4,76.2,128.7,93.7,85.6,117.7,117.2,87.3,100.3,55.1])\n",
    "scores_two = np.array([119.3,77.3,131.3,95.3,86.3,122.3,117.3,87.9,108.2,56.3])\n",
    "\n",
    "n1 = len(scores_one)\n",
    "n2 = len(scores_two)\n",
    "\n",
    "dof1 = n1-1\n",
    "dof2 = n2-1\n",
    "\n",
    "s1 = scores_one.std(ddof=1)\n",
    "s2 = scores_two.std(ddof=1)\n",
    "\n",
    "xbar1 = scores_one.mean()\n",
    "xbar2 = scores_two.mean()\n",
    "\n",
    "fvalue = s1**2/s2**2\n",
    "\n",
    "print (\"Standard Deviations of the two samples = %.1f, %.1f\" %(s1,s2))\n",
    "print (\"Variances of the two samples = %.1f, %.1f\" %(s1**2,s2**2))\n",
    "print (\"F statistic = %0.3f\" % fvalue)\n",
    "\n",
    "print (xbar1,xbar2)\n",
    "\n",
    "alpha = 0.05\n",
    "\n",
    "fdist = stats.f(dof1,dof2)\n",
    "flow = fdist.ppf(alpha/2)\n",
    "fhigh = fdist.ppf(1-alpha/2)\n",
    "\n",
    "print (\"Critical F-values = %0.3f, %0.3f\" % (flow,fhigh))\n",
    "\n",
    "if (fvalue > 1):\n",
    "    pvalue = 2.0*(1-fdist.cdf(fvalue))\n",
    "else:\n",
    "    pvalue = 2.0*fdist.cdf(fvalue)\n",
    "    \n",
    "print (\"Pvalue = %0.3f\" % (pvalue))"
   ]
  },
  {
   "cell_type": "code",
   "execution_count": 10,
   "metadata": {},
   "outputs": [
    {
     "data": {
      "text/plain": [
       "<matplotlib.legend.Legend at 0x7fbd5d5f7ef0>"
      ]
     },
     "execution_count": 10,
     "metadata": {},
     "output_type": "execute_result"
    },
    {
     "data": {
      "image/png": "[encoded data removed]",
      "text/plain": [
       "<Figure size 432x288 with 1 Axes>"
      ]
     },
     "metadata": {
      "needs_background": "light"
     },
     "output_type": "display_data"
    }
   ],
   "source": [
    "# As usual, let's draw some pictures to get a sense of what these numbers mean\n",
    "\n",
    "# Define an x-axis array that spans the region from 0.001 to 0.99 of the distribution, in 1000 steps\n",
    "xlow = stats.f.ppf(0.001,dof1,dof2)\n",
    "xhigh = stats.f.ppf(0.99,dof1,dof2)\n",
    "x = np.linspace(xlow, xhigh, 1000)\n",
    "# Get an F distribution over this range of x\n",
    "f_dist = stats.f.pdf(x,dof1,dof2)\n",
    "plt.plot(x,f_dist)\n",
    "\n",
    "# Plot vertical lines at the critical F values, and the experimental f value\n",
    "f_stat_line_x = np.array([fvalue,fvalue])\n",
    "f_stat_line_y = np.array([0,stats.f.pdf(fvalue,dof1,dof2)])\n",
    "\n",
    "f_lower_line_x = np.array([flow,flow])\n",
    "f_lower_line_y = np.array([0,stats.f.pdf(flow,dof1,dof2)])\n",
    "\n",
    "f_upper_line_x = np.array([fhigh,fhigh])\n",
    "f_upper_line_y = np.array([0,stats.f.pdf(fhigh,dof1,dof2)])\n",
    "\n",
    "plt.plot(f_stat_line_x,f_stat_line_y,label=\"Experimental Value\")\n",
    "plt.plot(f_upper_line_x,f_upper_line_y,label=\"F Upper Limit\")\n",
    "plt.plot(f_lower_line_x,f_lower_line_y,label=\"F Lower Limit\")\n",
    "plt.legend()"
   ]
  },
  {
   "cell_type": "code",
   "execution_count": null,
   "metadata": {},
   "outputs": [],
   "source": []
  },
  {
   "cell_type": "code",
   "execution_count": null,
   "metadata": {},
   "outputs": [],
   "source": []
  }
 ],
 "metadata": {
  "kernelspec": {
   "display_name": "Python 3",
   "language": "python",
   "name": "python3"
  },
  "language_info": {
   "codemirror_mode": {
    "name": "ipython",
    "version": 3
   },
   "file_extension": ".py",
   "mimetype": "text/x-python",
   "name": "python",
   "nbconvert_exporter": "python",
   "pygments_lexer": "ipython3",
   "version": "3.6.8"
  }
 },
 "nbformat": 4,
 "nbformat_minor": 2
}
