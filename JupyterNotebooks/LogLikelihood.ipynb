{
 "cells": [
  {
   "cell_type": "markdown",
   "metadata": {},
   "source": [
    "# Log Likelihood Example"
   ]
  },
  {
   "cell_type": "code",
   "execution_count": 2,
   "metadata": {},
   "outputs": [],
   "source": [
    "import numpy as np\n",
    "import pandas as pd\n",
    "import matplotlib.pyplot as plt"
   ]
  },
  {
   "cell_type": "code",
   "execution_count": 7,
   "metadata": {},
   "outputs": [
    {
     "name": "stdout",
     "output_type": "stream",
     "text": [
      "p =  0.6541  prob =  1.0\n",
      "15 26 24 18\n",
      "16.381564913539236 24.130315118764607 23.261974608108257 19.226145359587907\n",
      "Chi^2 =  0.36299728724814306\n"
     ]
    },
    {
     "data": {
      "image/png": "[encoded data removed]",
      "text/plain": [
       "<Figure size 432x288 with 1 Axes>"
      ]
     },
     "metadata": {
      "needs_background": "light"
     },
     "output_type": "display_data"
    }
   ],
   "source": [
    "n1 = 15\n",
    "n2 = 26\n",
    "n3 = 24\n",
    "n4 = 18\n",
    "\n",
    "ntotal = n1+n2+n3+n4\n",
    "\n",
    "niter=10000;\n",
    "p = []\n",
    "q = []\n",
    "prob = []\n",
    "\n",
    "pmax=0.0\n",
    "imax = 0\n",
    "\n",
    "for i in range(niter):\n",
    "    p.append(1.0*i/niter)\n",
    "    q.append(1.0 - p[i])\n",
    "    \n",
    "    p1 = pow(p[i],4)+pow(q[i],4)\n",
    "    p2 = 4.0*p[i]*q[i]*(pow(p[i],3) + pow(q[i],3))\n",
    "    p3 = 10.0*pow(p[i],2)*pow(q[i],2)*(pow(p[i],2) + pow(q[i],2))\n",
    "    p4 = 20.0*pow(p[i],3)*pow(q[i],3)\n",
    "    \n",
    "    #p1 = p[i]**2\n",
    "    #p2 = p[i]*q[i]\n",
    "    #p3 = q[i]*p[i]\n",
    "    #p4 = q[i]**2\n",
    "    \n",
    "    prob.append(pow(p1,n1)*pow(p2,n2)*pow(p3,n3)*pow(p4,n4))\n",
    "    if (prob[i] >= pmax and p[i] > 0.5):\n",
    "        pmax = prob[i]\n",
    "        imax = i\n",
    "\n",
    "prob = np.array(prob)\n",
    "p = np.array(p)\n",
    "\n",
    "prob = prob/pmax\n",
    "print (\"p = \",p[imax],\" prob = \",prob[imax])\n",
    "\n",
    "p1 = pow(p[imax],4)+pow(q[imax],4)\n",
    "p2 = 4.0*p[imax]*q[imax]*(pow(p[imax],3) + pow(q[imax],3))\n",
    "p3 = 10.0*pow(p[imax],2)*pow(q[imax],2)*(pow(p[imax],2) + pow(q[imax],2))\n",
    "p4 = 20.0*pow(p[imax],3)*pow(q[imax],3)\n",
    "\n",
    "#p1 = p[imax]**2\n",
    "#p2 = p[imax]*q[imax]\n",
    "#p3 = q[imax]*p[imax]\n",
    "#p4 = q[imax]**2\n",
    "\n",
    "n1t = ntotal*p1\n",
    "n2t = ntotal*p2\n",
    "n3t = ntotal*p3\n",
    "n4t = ntotal*p4\n",
    "chi2 = pow((n1-n1t),2)/n1t\n",
    "chi2 += pow((n2-n2t),2)/n2t\n",
    "chi2 += pow((n3-n3t),2)/n3t\n",
    "chi2 += pow((n4-n4t),2)/n4t\n",
    "\n",
    "print (n1,n2,n3,n4)\n",
    "print (n1t,n2t,n3t,n4t)\n",
    "print (\"Chi^2 = \",chi2)\n",
    "\n",
    "plt.plot(p,prob)\n",
    "plt.show()"
   ]
  },
  {
   "cell_type": "code",
   "execution_count": null,
   "metadata": {},
   "outputs": [],
   "source": []
  },
  {
   "cell_type": "code",
   "execution_count": null,
   "metadata": {},
   "outputs": [],
   "source": []
  },
  {
   "cell_type": "code",
   "execution_count": null,
   "metadata": {},
   "outputs": [],
   "source": []
  }
 ],
 "metadata": {
  "kernelspec": {
   "display_name": "Python 3",
   "language": "python",
   "name": "python3"
  },
  "language_info": {
   "codemirror_mode": {
    "name": "ipython",
    "version": 3
   },
   "file_extension": ".py",
   "mimetype": "text/x-python",
   "name": "python",
   "nbconvert_exporter": "python",
   "pygments_lexer": "ipython3",
   "version": "3.6.8"
  }
 },
 "nbformat": 4,
 "nbformat_minor": 2
}
